{
 "cells": [
  {
   "cell_type": "markdown",
   "metadata": {},
   "source": [
    "# Vestiaire Collective Hackathon"
   ]
  },
  {
   "cell_type": "markdown",
   "metadata": {},
   "source": [
    "## Imports"
   ]
  },
  {
   "cell_type": "code",
   "execution_count": 1,
   "metadata": {},
   "outputs": [],
   "source": [
    "import pandas as pd\n",
    "import numpy as np\n",
    "\n",
    "from sklearn.model_selection import train_test_split\n",
    "from sklearn.impute import SimpleImputer\n",
    "from sklearn.preprocessing import StandardScaler, OneHotEncoder\n",
    "from sklearn.compose import ColumnTransformer\n",
    "from sklearn.pipeline import Pipeline\n",
    "\n",
    "\n",
    "from sklearn.linear_model import LogisticRegression\n",
    "from sklearn.model_selection import GridSearchCV\n",
    "from sklearn.metrics import average_precision_score\n",
    "from sklearn.ensemble import AdaBoostClassifier, GradientBoostingClassifier, VotingClassifier\n",
    "\n",
    "from xgboost import XGBClassifier\n",
    "from lightgbm import LGBMClassifier\n",
    "\n",
    "import catboost as cb\n",
    "from catboost import CatBoostClassifier\n",
    "\n",
    "import imblearn as imb\n",
    "from imblearn.over_sampling import RandomOverSampler\n",
    "\n",
    "import joblib\n",
    "\n",
    "\n",
    "import plotly.express as px\n",
    "import plotly.graph_objects as go\n",
    "import plotly.io as pio"
   ]
  },
  {
   "cell_type": "markdown",
   "metadata": {},
   "source": [
    "## Load data"
   ]
  },
  {
   "cell_type": "code",
   "execution_count": 2,
   "metadata": {},
   "outputs": [],
   "source": [
    "data = pd.read_csv('./src/train.csv')\n",
    "data.drop(columns=['Unnamed: 0'], inplace=True)\n"
   ]
  },
  {
   "cell_type": "code",
   "execution_count": 3,
   "metadata": {},
   "outputs": [
    {
     "data": {
      "text/html": [
       "<div>\n",
       "<style scoped>\n",
       "    .dataframe tbody tr th:only-of-type {\n",
       "        vertical-align: middle;\n",
       "    }\n",
       "\n",
       "    .dataframe tbody tr th {\n",
       "        vertical-align: top;\n",
       "    }\n",
       "\n",
       "    .dataframe thead th {\n",
       "        text-align: right;\n",
       "    }\n",
       "</style>\n",
       "<table border=\"1\" class=\"dataframe\">\n",
       "  <thead>\n",
       "    <tr style=\"text-align: right;\">\n",
       "      <th></th>\n",
       "      <th>ID_PRODUCT</th>\n",
       "      <th>ID_SELLER</th>\n",
       "      <th>ID_SELLER_COUNTRY</th>\n",
       "      <th>SELLER_GEO_1</th>\n",
       "      <th>SELLER_GEO_2</th>\n",
       "      <th>SELLER_GEO_3</th>\n",
       "      <th>DEPOSIT_PRICE</th>\n",
       "      <th>INSERTION_PRICE</th>\n",
       "      <th>PRICE</th>\n",
       "      <th>RECO_PRICE</th>\n",
       "      <th>...</th>\n",
       "      <th>TOTAL_TRK_1D</th>\n",
       "      <th>TOTAL_TRK_7D</th>\n",
       "      <th>TOTAL_TRK_30D</th>\n",
       "      <th>NB_DROP_SELLER_1D</th>\n",
       "      <th>NB_DROP_SELLER_7D</th>\n",
       "      <th>NB_DROP_SELLER_30D</th>\n",
       "      <th>NB_WIDTHDRAW_SELLER_1D</th>\n",
       "      <th>NB_WIDTHDRAW_SELLER_7D</th>\n",
       "      <th>NB_WIDTHDRAW_SELLER_30D</th>\n",
       "      <th>LABEL</th>\n",
       "    </tr>\n",
       "  </thead>\n",
       "  <tbody>\n",
       "    <tr>\n",
       "      <th>0</th>\n",
       "      <td>f398701175db97ad9f9ae4f061a8c7d7ef4da505708f0b...</td>\n",
       "      <td>904fc91a25b0630028eaaf0941b228a62f9341eadde903...</td>\n",
       "      <td>1253e9373e781b7500266caa55150e08e210bc8cd8cc70...</td>\n",
       "      <td>7e3a78f9aa16d14453f363271db2973b903b3949684f0f...</td>\n",
       "      <td>cf62a64b8a54fd96e70623b69429a70e1ba0e0ef9b502c...</td>\n",
       "      <td>5a9cf672c8be6b5ab9546a2fb49b06dd81a4e364c86ed0...</td>\n",
       "      <td>78.000000</td>\n",
       "      <td>78.000000</td>\n",
       "      <td>67.000000</td>\n",
       "      <td>52.0</td>\n",
       "      <td>...</td>\n",
       "      <td>0</td>\n",
       "      <td>8</td>\n",
       "      <td>26</td>\n",
       "      <td>0</td>\n",
       "      <td>0</td>\n",
       "      <td>0</td>\n",
       "      <td>0</td>\n",
       "      <td>0</td>\n",
       "      <td>0</td>\n",
       "      <td>0</td>\n",
       "    </tr>\n",
       "    <tr>\n",
       "      <th>1</th>\n",
       "      <td>7e0544c102ef705f3939dacb080bb23686355879c3ac77...</td>\n",
       "      <td>216fce1cec515e792bd2d5aa5c68ac84d8118ad11823fb...</td>\n",
       "      <td>eb624dbe56eb6620ae62080c10a273cab73ae8eca98ab1...</td>\n",
       "      <td>7e3a78f9aa16d14453f363271db2973b903b3949684f0f...</td>\n",
       "      <td>09fbaf8891f39040036484a565bfc3f832713ce3f2d22b...</td>\n",
       "      <td>7a1ca4ef7515f7276bae7230545829c27810c9d9e98ab2...</td>\n",
       "      <td>258.000000</td>\n",
       "      <td>262.000000</td>\n",
       "      <td>118.000000</td>\n",
       "      <td>94.0</td>\n",
       "      <td>...</td>\n",
       "      <td>39</td>\n",
       "      <td>154</td>\n",
       "      <td>612</td>\n",
       "      <td>2</td>\n",
       "      <td>25</td>\n",
       "      <td>123</td>\n",
       "      <td>0</td>\n",
       "      <td>5</td>\n",
       "      <td>5</td>\n",
       "      <td>0</td>\n",
       "    </tr>\n",
       "    <tr>\n",
       "      <th>2</th>\n",
       "      <td>fe9ca89ffb93396c469674056158d6ddfe10e94efb3807...</td>\n",
       "      <td>562a34b067f011d9736069d692be44aeb624a7d8b6eba6...</td>\n",
       "      <td>eb624dbe56eb6620ae62080c10a273cab73ae8eca98ab1...</td>\n",
       "      <td>7e3a78f9aa16d14453f363271db2973b903b3949684f0f...</td>\n",
       "      <td>09fbaf8891f39040036484a565bfc3f832713ce3f2d22b...</td>\n",
       "      <td>7a1ca4ef7515f7276bae7230545829c27810c9d9e98ab2...</td>\n",
       "      <td>478.000000</td>\n",
       "      <td>478.000000</td>\n",
       "      <td>232.000000</td>\n",
       "      <td>2.0</td>\n",
       "      <td>...</td>\n",
       "      <td>12</td>\n",
       "      <td>75</td>\n",
       "      <td>113</td>\n",
       "      <td>1</td>\n",
       "      <td>11</td>\n",
       "      <td>16</td>\n",
       "      <td>0</td>\n",
       "      <td>2</td>\n",
       "      <td>2</td>\n",
       "      <td>0</td>\n",
       "    </tr>\n",
       "    <tr>\n",
       "      <th>3</th>\n",
       "      <td>66832d4bbd55c568753a6ec237f8aa213c0cf55929a544...</td>\n",
       "      <td>90c4e50ebbc3dd146dc2852b2b8d428c23fb4eebfee02e...</td>\n",
       "      <td>56f4da26ed956730309fa1488611ee0f13b0ac95ebb1bc...</td>\n",
       "      <td>2099c82f0bcc1c13c9ecc9dd8848c23916cf0eea8f7eef...</td>\n",
       "      <td>9b202ecbc6d45c6d8901d989a918878397a3eb9d00e8f4...</td>\n",
       "      <td>49dca65f362fee401292ed7ada96f96295eab1e589c52e...</td>\n",
       "      <td>350.473498</td>\n",
       "      <td>354.473498</td>\n",
       "      <td>287.256198</td>\n",
       "      <td>0.0</td>\n",
       "      <td>...</td>\n",
       "      <td>4</td>\n",
       "      <td>6</td>\n",
       "      <td>8</td>\n",
       "      <td>0</td>\n",
       "      <td>0</td>\n",
       "      <td>4</td>\n",
       "      <td>0</td>\n",
       "      <td>0</td>\n",
       "      <td>1</td>\n",
       "      <td>0</td>\n",
       "    </tr>\n",
       "    <tr>\n",
       "      <th>4</th>\n",
       "      <td>72a3d1f2ed0a526408159da9bb5bb584790eed9ff6d074...</td>\n",
       "      <td>adb633b0e58e3969d4dc099e4b8beb734282f3bcbbd77d...</td>\n",
       "      <td>eb624dbe56eb6620ae62080c10a273cab73ae8eca98ab1...</td>\n",
       "      <td>7e3a78f9aa16d14453f363271db2973b903b3949684f0f...</td>\n",
       "      <td>09fbaf8891f39040036484a565bfc3f832713ce3f2d22b...</td>\n",
       "      <td>7a1ca4ef7515f7276bae7230545829c27810c9d9e98ab2...</td>\n",
       "      <td>91.000000</td>\n",
       "      <td>91.000000</td>\n",
       "      <td>72.000000</td>\n",
       "      <td>86.0</td>\n",
       "      <td>...</td>\n",
       "      <td>18</td>\n",
       "      <td>91</td>\n",
       "      <td>373</td>\n",
       "      <td>2</td>\n",
       "      <td>8</td>\n",
       "      <td>33</td>\n",
       "      <td>0</td>\n",
       "      <td>0</td>\n",
       "      <td>4</td>\n",
       "      <td>0</td>\n",
       "    </tr>\n",
       "  </tbody>\n",
       "</table>\n",
       "<p>5 rows × 86 columns</p>\n",
       "</div>"
      ],
      "text/plain": [
       "                                          ID_PRODUCT  \\\n",
       "0  f398701175db97ad9f9ae4f061a8c7d7ef4da505708f0b...   \n",
       "1  7e0544c102ef705f3939dacb080bb23686355879c3ac77...   \n",
       "2  fe9ca89ffb93396c469674056158d6ddfe10e94efb3807...   \n",
       "3  66832d4bbd55c568753a6ec237f8aa213c0cf55929a544...   \n",
       "4  72a3d1f2ed0a526408159da9bb5bb584790eed9ff6d074...   \n",
       "\n",
       "                                           ID_SELLER  \\\n",
       "0  904fc91a25b0630028eaaf0941b228a62f9341eadde903...   \n",
       "1  216fce1cec515e792bd2d5aa5c68ac84d8118ad11823fb...   \n",
       "2  562a34b067f011d9736069d692be44aeb624a7d8b6eba6...   \n",
       "3  90c4e50ebbc3dd146dc2852b2b8d428c23fb4eebfee02e...   \n",
       "4  adb633b0e58e3969d4dc099e4b8beb734282f3bcbbd77d...   \n",
       "\n",
       "                                   ID_SELLER_COUNTRY  \\\n",
       "0  1253e9373e781b7500266caa55150e08e210bc8cd8cc70...   \n",
       "1  eb624dbe56eb6620ae62080c10a273cab73ae8eca98ab1...   \n",
       "2  eb624dbe56eb6620ae62080c10a273cab73ae8eca98ab1...   \n",
       "3  56f4da26ed956730309fa1488611ee0f13b0ac95ebb1bc...   \n",
       "4  eb624dbe56eb6620ae62080c10a273cab73ae8eca98ab1...   \n",
       "\n",
       "                                        SELLER_GEO_1  \\\n",
       "0  7e3a78f9aa16d14453f363271db2973b903b3949684f0f...   \n",
       "1  7e3a78f9aa16d14453f363271db2973b903b3949684f0f...   \n",
       "2  7e3a78f9aa16d14453f363271db2973b903b3949684f0f...   \n",
       "3  2099c82f0bcc1c13c9ecc9dd8848c23916cf0eea8f7eef...   \n",
       "4  7e3a78f9aa16d14453f363271db2973b903b3949684f0f...   \n",
       "\n",
       "                                        SELLER_GEO_2  \\\n",
       "0  cf62a64b8a54fd96e70623b69429a70e1ba0e0ef9b502c...   \n",
       "1  09fbaf8891f39040036484a565bfc3f832713ce3f2d22b...   \n",
       "2  09fbaf8891f39040036484a565bfc3f832713ce3f2d22b...   \n",
       "3  9b202ecbc6d45c6d8901d989a918878397a3eb9d00e8f4...   \n",
       "4  09fbaf8891f39040036484a565bfc3f832713ce3f2d22b...   \n",
       "\n",
       "                                        SELLER_GEO_3  DEPOSIT_PRICE  \\\n",
       "0  5a9cf672c8be6b5ab9546a2fb49b06dd81a4e364c86ed0...      78.000000   \n",
       "1  7a1ca4ef7515f7276bae7230545829c27810c9d9e98ab2...     258.000000   \n",
       "2  7a1ca4ef7515f7276bae7230545829c27810c9d9e98ab2...     478.000000   \n",
       "3  49dca65f362fee401292ed7ada96f96295eab1e589c52e...     350.473498   \n",
       "4  7a1ca4ef7515f7276bae7230545829c27810c9d9e98ab2...      91.000000   \n",
       "\n",
       "   INSERTION_PRICE       PRICE  RECO_PRICE  ...  TOTAL_TRK_1D TOTAL_TRK_7D  \\\n",
       "0        78.000000   67.000000        52.0  ...             0            8   \n",
       "1       262.000000  118.000000        94.0  ...            39          154   \n",
       "2       478.000000  232.000000         2.0  ...            12           75   \n",
       "3       354.473498  287.256198         0.0  ...             4            6   \n",
       "4        91.000000   72.000000        86.0  ...            18           91   \n",
       "\n",
       "   TOTAL_TRK_30D NB_DROP_SELLER_1D NB_DROP_SELLER_7D NB_DROP_SELLER_30D  \\\n",
       "0             26                 0                 0                  0   \n",
       "1            612                 2                25                123   \n",
       "2            113                 1                11                 16   \n",
       "3              8                 0                 0                  4   \n",
       "4            373                 2                 8                 33   \n",
       "\n",
       "  NB_WIDTHDRAW_SELLER_1D NB_WIDTHDRAW_SELLER_7D NB_WIDTHDRAW_SELLER_30D LABEL  \n",
       "0                      0                      0                       0     0  \n",
       "1                      0                      5                       5     0  \n",
       "2                      0                      2                       2     0  \n",
       "3                      0                      0                       1     0  \n",
       "4                      0                      0                       4     0  \n",
       "\n",
       "[5 rows x 86 columns]"
      ]
     },
     "execution_count": 3,
     "metadata": {},
     "output_type": "execute_result"
    }
   ],
   "source": [
    "data.head()"
   ]
  },
  {
   "cell_type": "markdown",
   "metadata": {},
   "source": [
    "## EDA"
   ]
  },
  {
   "cell_type": "markdown",
   "metadata": {},
   "source": [
    "### CORRELATIONS"
   ]
  },
  {
   "cell_type": "code",
   "execution_count": 4,
   "metadata": {},
   "outputs": [
    {
     "data": {
      "text/plain": [
       "LABEL                                      1.000000\n",
       "NB_DAYS_SINCE_LAST_SOLD                    0.130014\n",
       "NB_DAYS_SINCE_LAST_ORDER                   0.130011\n",
       "NB_DAYS_SINCE_SELLER_REPLY_TO_MMAO         0.116948\n",
       "NB_DAYS_SINCE_LAST_PUBLISHED               0.112946\n",
       "NB_DAYS_SINCE_LAST_DEPOSITED               0.104858\n",
       "NB_DAYS_SINCE_LAST_SESSION                 0.097066\n",
       "NB_DAYS_SINCE_LAST_BS_CHAT                 0.084662\n",
       "TOTAL_SELLER_CANCELLED                     0.065889\n",
       "FLAG2                                      0.062977\n",
       "NON_RECEIVED_PCT                           0.062277\n",
       "TOTAL_NON_RECEIVED                         0.056298\n",
       "RECO_PRICE                                 0.049686\n",
       "PRICE                                      0.047094\n",
       "NB_DAYS_SINCE_LAST_LIKES                   0.043861\n",
       "TOTAL_MMAO_TIMEOUT_7D                      0.034946\n",
       "TOTAL_MMAO_TIMEOUT_1D                      0.031764\n",
       "TOTAL_MMAO_TIMEOUT_30D                     0.028987\n",
       "TIME_ONLINE                                0.027985\n",
       "MMAO_NB                                    0.022464\n",
       "TOTAL_REPAY_SOLD                           0.021830\n",
       "NB_DAYS_SINCE_LAST_REPAY                   0.020363\n",
       "DEPOSIT_PRICE                              0.019681\n",
       "INSERTION_PRICE                            0.019162\n",
       "TOTAL_NON_RECEIVED_WITHIN_TIME_ALLOTTED    0.017396\n",
       "NB_BS_CHAT_PRODUCT_7D                      0.010188\n",
       "NB_BS_CHAT_PRODUCT_30D                     0.009153\n",
       "NB_BS_CHAT_PRODUCT_1D                      0.007621\n",
       "NB_WIDTHDRAW_SELLER_1D                     0.004898\n",
       "NB_LIKES_30D                               0.005769\n",
       "NB_LIKES_1D                                0.005779\n",
       "NB_LIKES_7D                                0.006172\n",
       "NB_WIDTHDRAW_SELLER_7D                     0.008789\n",
       "TOTAL_BS_CHAT_1D                           0.009089\n",
       "FLAG1                                      0.011769\n",
       "NB_WIDTHDRAW_SELLER_30D                    0.011980\n",
       "NB_DROP_SELLER_1D                          0.014316\n",
       "TOTAL_BS_CHAT_7D                           0.016156\n",
       "SELLER_FROM_FIRST_SELL_TO_INVOICE          0.016954\n",
       "NB_DROP_PRODUCT_1D                         0.019951\n",
       "Name: LABEL, dtype: float64"
      ]
     },
     "execution_count": 4,
     "metadata": {},
     "output_type": "execute_result"
    }
   ],
   "source": [
    "corr = data.corr()\n",
    "label_corr = abs(corr['LABEL'].sort_values(ascending=False))\n",
    "label_corr_best = label_corr[:40]\n",
    "label_corr_best\n",
    "\n"
   ]
  },
  {
   "cell_type": "markdown",
   "metadata": {},
   "source": [
    "### Labels Lists"
   ]
  },
  {
   "cell_type": "markdown",
   "metadata": {},
   "source": [
    "#### Features and target lists"
   ]
  },
  {
   "cell_type": "code",
   "execution_count": 5,
   "metadata": {},
   "outputs": [],
   "source": [
    "# Label list\n",
    "features_label = data.columns.to_list()\n",
    "target_label = [features_label.pop(features_label.index('LABEL'))]"
   ]
  },
  {
   "cell_type": "code",
   "execution_count": 6,
   "metadata": {},
   "outputs": [
    {
     "data": {
      "text/plain": [
       "['ID_PRODUCT',\n",
       " 'ID_SELLER',\n",
       " 'ID_SELLER_COUNTRY',\n",
       " 'SELLER_GEO_1',\n",
       " 'SELLER_GEO_2',\n",
       " 'SELLER_GEO_3',\n",
       " 'DEPOSIT_PRICE',\n",
       " 'INSERTION_PRICE',\n",
       " 'PRICE',\n",
       " 'RECO_PRICE',\n",
       " 'TIME_ONLINE',\n",
       " 'SEGMENT',\n",
       " 'MMAO_NB',\n",
       " 'BRAND_GROUP',\n",
       " 'ID_BRAND',\n",
       " 'ID_PAGE',\n",
       " 'ID_SITE',\n",
       " 'LANGUAGE',\n",
       " 'ID_UNIVERSE',\n",
       " 'ID_CATEGORY',\n",
       " 'ID_SUB_SUBCATEGORY',\n",
       " 'ID_MODEL',\n",
       " 'ID_MATERIAL',\n",
       " 'ID_COLOUR',\n",
       " 'ID_PATTERN',\n",
       " 'CURRENCY',\n",
       " 'ID_CONDITION',\n",
       " 'FLAG1',\n",
       " 'DEPOSIT_DEVICE',\n",
       " 'SELLER_AGE',\n",
       " 'SELLER_FROM_FIRST_SELL_TO_INVOICE',\n",
       " 'FLAG2',\n",
       " 'NB_DROP_PRODUCT_1D',\n",
       " 'NB_DROP_PRODUCT_7D',\n",
       " 'NB_DROP_PRODUCT_30D',\n",
       " 'NB_BS_CHAT_PRODUCT_1D',\n",
       " 'NB_BS_CHAT_PRODUCT_7D',\n",
       " 'NB_BS_CHAT_PRODUCT_30D',\n",
       " 'NB_DAYS_SINCE_LAST_LIKES',\n",
       " 'NB_LIKES_1D',\n",
       " 'NB_LIKES_7D',\n",
       " 'NB_LIKES_30D',\n",
       " 'NB_DAYS_SINCE_LAST_WISHLISTS',\n",
       " 'NB_WISHLISTS_1D',\n",
       " 'NB_WISHLISTS_7D',\n",
       " 'NB_WISHLISTS_30D',\n",
       " 'NB_DAYS_SINCE_SELLER_REPLY_TO_MMAO',\n",
       " 'TOTAL_MMAO_REPLIED_1D',\n",
       " 'TOTAL_MMAO_TIMEOUT_1D',\n",
       " 'TOTAL_MMAO_REPLIED_7D',\n",
       " 'TOTAL_MMAO_TIMEOUT_7D',\n",
       " 'TOTAL_MMAO_REPLIED_30D',\n",
       " 'TOTAL_MMAO_TIMEOUT_30D',\n",
       " 'NB_DAYS_SINCE_LAST_ORDER',\n",
       " 'TOTAL_ORDER_SOLD',\n",
       " 'RANK_SOLD',\n",
       " 'TOTAL_SOLD_30D',\n",
       " 'TOTAL_SOLD_90D',\n",
       " 'TOTAL_SOLD_180D',\n",
       " 'NB_DAYS_SINCE_LAST_DEPOSITED',\n",
       " 'NB_DAYS_SINCE_LAST_PUBLISHED',\n",
       " 'NB_DAYS_SINCE_LAST_SOLD',\n",
       " 'TOTAL_DEPOSITED_1Y',\n",
       " 'TOTAL_PUBLISHED_1Y',\n",
       " 'TOTAL_SOLD_1Y',\n",
       " 'NB_DAYS_SINCE_LAST_REPAY',\n",
       " 'TOTAL_SELLER_CANCELLED',\n",
       " 'TOTAL_NON_RECEIVED_WITHIN_TIME_ALLOTTED',\n",
       " 'TOTAL_REPAY_SOLD',\n",
       " 'TOTAL_NON_RECEIVED',\n",
       " 'NON_RECEIVED_PCT',\n",
       " 'NB_DAYS_SINCE_LAST_BS_CHAT',\n",
       " 'TOTAL_BS_CHAT_1D',\n",
       " 'TOTAL_BS_CHAT_7D',\n",
       " 'TOTAL_BS_CHAT_30D',\n",
       " 'NB_DAYS_SINCE_LAST_SESSION',\n",
       " 'TOTAL_TRK_1D',\n",
       " 'TOTAL_TRK_7D',\n",
       " 'TOTAL_TRK_30D',\n",
       " 'NB_DROP_SELLER_1D',\n",
       " 'NB_DROP_SELLER_7D',\n",
       " 'NB_DROP_SELLER_30D',\n",
       " 'NB_WIDTHDRAW_SELLER_1D',\n",
       " 'NB_WIDTHDRAW_SELLER_7D',\n",
       " 'NB_WIDTHDRAW_SELLER_30D']"
      ]
     },
     "execution_count": 6,
     "metadata": {},
     "output_type": "execute_result"
    }
   ],
   "source": [
    "features_label"
   ]
  },
  {
   "cell_type": "code",
   "execution_count": 7,
   "metadata": {},
   "outputs": [
    {
     "data": {
      "text/plain": [
       "['LABEL']"
      ]
     },
     "execution_count": 7,
     "metadata": {},
     "output_type": "execute_result"
    }
   ],
   "source": [
    "target_label"
   ]
  },
  {
   "cell_type": "markdown",
   "metadata": {},
   "source": [
    "#### Numerical and categorical features"
   ]
  },
  {
   "cell_type": "code",
   "execution_count": 8,
   "metadata": {},
   "outputs": [],
   "source": [
    "numerical_label = features_label.copy()"
   ]
  },
  {
   "cell_type": "code",
   "execution_count": 9,
   "metadata": {},
   "outputs": [],
   "source": [
    "categorical_label = numerical_label.pop(numerical_label.index('ID_PRODUCT'))\n",
    "categorical_label = [categorical_label]\n",
    "categorical_label.append(numerical_label.pop(numerical_label.index('ID_SELLER')))\n",
    "categorical_label.append(numerical_label.pop(numerical_label.index('ID_SELLER_COUNTRY')))\n",
    "categorical_label.append(numerical_label.pop(numerical_label.index('SELLER_GEO_1')))\n",
    "categorical_label.append(numerical_label.pop(numerical_label.index('SELLER_GEO_2')))\n",
    "categorical_label.append(numerical_label.pop(numerical_label.index('SELLER_GEO_3')))\n",
    "categorical_label.append(numerical_label.pop(numerical_label.index('SEGMENT')))\n",
    "categorical_label.append(numerical_label.pop(numerical_label.index('BRAND_GROUP')))\n",
    "categorical_label.append(numerical_label.pop(numerical_label.index('ID_BRAND')))\n",
    "categorical_label.append(numerical_label.pop(numerical_label.index('ID_PAGE')))\n",
    "categorical_label.append(numerical_label.pop(numerical_label.index('ID_SITE')))\n",
    "categorical_label.append(numerical_label.pop(numerical_label.index('LANGUAGE')))\n",
    "categorical_label.append(numerical_label.pop(numerical_label.index('ID_UNIVERSE')))\n",
    "categorical_label.append(numerical_label.pop(numerical_label.index('ID_CATEGORY')))\n",
    "categorical_label.append(numerical_label.pop(numerical_label.index('ID_SUB_SUBCATEGORY')))\n",
    "categorical_label.append(numerical_label.pop(numerical_label.index('ID_MODEL')))\n",
    "categorical_label.append(numerical_label.pop(numerical_label.index('ID_MATERIAL')))\n",
    "categorical_label.append(numerical_label.pop(numerical_label.index('ID_COLOUR')))\n",
    "categorical_label.append(numerical_label.pop(numerical_label.index('ID_PATTERN')))\n",
    "categorical_label.append(numerical_label.pop(numerical_label.index('CURRENCY')))\n",
    "categorical_label.append(numerical_label.pop(numerical_label.index('ID_CONDITION')))\n",
    "categorical_label.append(numerical_label.pop(numerical_label.index('DEPOSIT_DEVICE')))"
   ]
  },
  {
   "cell_type": "code",
   "execution_count": 10,
   "metadata": {},
   "outputs": [
    {
     "data": {
      "text/plain": [
       "['ID_PRODUCT',\n",
       " 'ID_SELLER',\n",
       " 'ID_SELLER_COUNTRY',\n",
       " 'SELLER_GEO_1',\n",
       " 'SELLER_GEO_2',\n",
       " 'SELLER_GEO_3',\n",
       " 'SEGMENT',\n",
       " 'BRAND_GROUP',\n",
       " 'ID_BRAND',\n",
       " 'ID_PAGE',\n",
       " 'ID_SITE',\n",
       " 'LANGUAGE',\n",
       " 'ID_UNIVERSE',\n",
       " 'ID_CATEGORY',\n",
       " 'ID_SUB_SUBCATEGORY',\n",
       " 'ID_MODEL',\n",
       " 'ID_MATERIAL',\n",
       " 'ID_COLOUR',\n",
       " 'ID_PATTERN',\n",
       " 'CURRENCY',\n",
       " 'ID_CONDITION',\n",
       " 'DEPOSIT_DEVICE']"
      ]
     },
     "execution_count": 10,
     "metadata": {},
     "output_type": "execute_result"
    }
   ],
   "source": [
    "categorical_label"
   ]
  },
  {
   "cell_type": "markdown",
   "metadata": {},
   "source": [
    "## Preprocessing"
   ]
  },
  {
   "cell_type": "code",
   "execution_count": 11,
   "metadata": {},
   "outputs": [],
   "source": [
    "# Seperate features and target\n",
    "X = data[features_label]\n",
    "Y = data['LABEL']"
   ]
  },
  {
   "cell_type": "code",
   "execution_count": 12,
   "metadata": {},
   "outputs": [],
   "source": [
    "# Preprocessing pipeline\n",
    "\n",
    "num_transformer = Pipeline(steps=[\n",
    "    ('imputer', SimpleImputer(strategy='median')),\n",
    "    ('scaler', StandardScaler())\n",
    "])\n",
    "cat_transformer = Pipeline(steps=[\n",
    "    ('imputer', SimpleImputer(strategy='most_frequent')),\n",
    "    ('encoder', OneHotEncoder(drop='first', handle_unknown='ignore'))\n",
    "])\n",
    "preprocess = ColumnTransformer(\n",
    "    transformers=[\n",
    "        ('num', num_transformer, numerical_label),\n",
    "        ('cat', cat_transformer, categorical_label)\n",
    "    ])\n",
    "X = preprocess.fit_transform(X)"
   ]
  },
  {
   "cell_type": "code",
   "execution_count": 13,
   "metadata": {},
   "outputs": [],
   "source": [
    "# Train test split\n",
    "X_train, X_test, Y_train, Y_test = train_test_split(X, Y, test_size=0.2, random_state=42, stratify=Y)"
   ]
  },
  {
   "cell_type": "markdown",
   "metadata": {},
   "source": [
    "print(average_precision_score(Y_train_pca, Y_train_pca_pred))\n",
    "print(average_precision_score(Y_test_pca, Y_test_pca_pred))"
   ]
  },
  {
   "cell_type": "markdown",
   "metadata": {},
   "source": [
    "## Baseline : Logistic Regression"
   ]
  },
  {
   "cell_type": "markdown",
   "metadata": {},
   "source": [
    "### Train model"
   ]
  },
  {
   "cell_type": "code",
   "execution_count": 14,
   "metadata": {},
   "outputs": [
    {
     "name": "stderr",
     "output_type": "stream",
     "text": [
      "c:\\Users\\shexx\\anaconda3\\lib\\site-packages\\sklearn\\linear_model\\_logistic.py:444: ConvergenceWarning: lbfgs failed to converge (status=1):\n",
      "STOP: TOTAL NO. of ITERATIONS REACHED LIMIT.\n",
      "\n",
      "Increase the number of iterations (max_iter) or scale the data as shown in:\n",
      "    https://scikit-learn.org/stable/modules/preprocessing.html\n",
      "Please also refer to the documentation for alternative solver options:\n",
      "    https://scikit-learn.org/stable/modules/linear_model.html#logistic-regression\n",
      "  n_iter_i = _check_optimize_result(\n"
     ]
    },
    {
     "data": {
      "text/html": [
       "<style>#sk-container-id-1 {color: black;background-color: white;}#sk-container-id-1 pre{padding: 0;}#sk-container-id-1 div.sk-toggleable {background-color: white;}#sk-container-id-1 label.sk-toggleable__label {cursor: pointer;display: block;width: 100%;margin-bottom: 0;padding: 0.3em;box-sizing: border-box;text-align: center;}#sk-container-id-1 label.sk-toggleable__label-arrow:before {content: \"▸\";float: left;margin-right: 0.25em;color: #696969;}#sk-container-id-1 label.sk-toggleable__label-arrow:hover:before {color: black;}#sk-container-id-1 div.sk-estimator:hover label.sk-toggleable__label-arrow:before {color: black;}#sk-container-id-1 div.sk-toggleable__content {max-height: 0;max-width: 0;overflow: hidden;text-align: left;background-color: #f0f8ff;}#sk-container-id-1 div.sk-toggleable__content pre {margin: 0.2em;color: black;border-radius: 0.25em;background-color: #f0f8ff;}#sk-container-id-1 input.sk-toggleable__control:checked~div.sk-toggleable__content {max-height: 200px;max-width: 100%;overflow: auto;}#sk-container-id-1 input.sk-toggleable__control:checked~label.sk-toggleable__label-arrow:before {content: \"▾\";}#sk-container-id-1 div.sk-estimator input.sk-toggleable__control:checked~label.sk-toggleable__label {background-color: #d4ebff;}#sk-container-id-1 div.sk-label input.sk-toggleable__control:checked~label.sk-toggleable__label {background-color: #d4ebff;}#sk-container-id-1 input.sk-hidden--visually {border: 0;clip: rect(1px 1px 1px 1px);clip: rect(1px, 1px, 1px, 1px);height: 1px;margin: -1px;overflow: hidden;padding: 0;position: absolute;width: 1px;}#sk-container-id-1 div.sk-estimator {font-family: monospace;background-color: #f0f8ff;border: 1px dotted black;border-radius: 0.25em;box-sizing: border-box;margin-bottom: 0.5em;}#sk-container-id-1 div.sk-estimator:hover {background-color: #d4ebff;}#sk-container-id-1 div.sk-parallel-item::after {content: \"\";width: 100%;border-bottom: 1px solid gray;flex-grow: 1;}#sk-container-id-1 div.sk-label:hover label.sk-toggleable__label {background-color: #d4ebff;}#sk-container-id-1 div.sk-serial::before {content: \"\";position: absolute;border-left: 1px solid gray;box-sizing: border-box;top: 0;bottom: 0;left: 50%;z-index: 0;}#sk-container-id-1 div.sk-serial {display: flex;flex-direction: column;align-items: center;background-color: white;padding-right: 0.2em;padding-left: 0.2em;position: relative;}#sk-container-id-1 div.sk-item {position: relative;z-index: 1;}#sk-container-id-1 div.sk-parallel {display: flex;align-items: stretch;justify-content: center;background-color: white;position: relative;}#sk-container-id-1 div.sk-item::before, #sk-container-id-1 div.sk-parallel-item::before {content: \"\";position: absolute;border-left: 1px solid gray;box-sizing: border-box;top: 0;bottom: 0;left: 50%;z-index: -1;}#sk-container-id-1 div.sk-parallel-item {display: flex;flex-direction: column;z-index: 1;position: relative;background-color: white;}#sk-container-id-1 div.sk-parallel-item:first-child::after {align-self: flex-end;width: 50%;}#sk-container-id-1 div.sk-parallel-item:last-child::after {align-self: flex-start;width: 50%;}#sk-container-id-1 div.sk-parallel-item:only-child::after {width: 0;}#sk-container-id-1 div.sk-dashed-wrapped {border: 1px dashed gray;margin: 0 0.4em 0.5em 0.4em;box-sizing: border-box;padding-bottom: 0.4em;background-color: white;}#sk-container-id-1 div.sk-label label {font-family: monospace;font-weight: bold;display: inline-block;line-height: 1.2em;}#sk-container-id-1 div.sk-label-container {text-align: center;}#sk-container-id-1 div.sk-container {/* jupyter's `normalize.less` sets `[hidden] { display: none; }` but bootstrap.min.css set `[hidden] { display: none !important; }` so we also need the `!important` here to be able to override the default hidden behavior on the sphinx rendered scikit-learn.org. See: https://github.com/scikit-learn/scikit-learn/issues/21755 */display: inline-block !important;position: relative;}#sk-container-id-1 div.sk-text-repr-fallback {display: none;}</style><div id=\"sk-container-id-1\" class=\"sk-top-container\"><div class=\"sk-text-repr-fallback\"><pre>LogisticRegression()</pre><b>In a Jupyter environment, please rerun this cell to show the HTML representation or trust the notebook. <br />On GitHub, the HTML representation is unable to render, please try loading this page with nbviewer.org.</b></div><div class=\"sk-container\" hidden><div class=\"sk-item\"><div class=\"sk-estimator sk-toggleable\"><input class=\"sk-toggleable__control sk-hidden--visually\" id=\"sk-estimator-id-1\" type=\"checkbox\" checked><label for=\"sk-estimator-id-1\" class=\"sk-toggleable__label sk-toggleable__label-arrow\">LogisticRegression</label><div class=\"sk-toggleable__content\"><pre>LogisticRegression()</pre></div></div></div></div></div>"
      ],
      "text/plain": [
       "LogisticRegression()"
      ]
     },
     "execution_count": 14,
     "metadata": {},
     "output_type": "execute_result"
    }
   ],
   "source": [
    "# Train logistic regression\n",
    "logreg = LogisticRegression()\n",
    "logreg.fit(X_train, Y_train)"
   ]
  },
  {
   "cell_type": "code",
   "execution_count": 15,
   "metadata": {},
   "outputs": [],
   "source": [
    "# Predictions in probabilities\n",
    "Y_pred_proba_train = logreg.predict_proba(X_train)\n",
    "Y_pred_proba_test = logreg.predict_proba(X_test)\n"
   ]
  },
  {
   "cell_type": "markdown",
   "metadata": {},
   "source": [
    "### Score"
   ]
  },
  {
   "cell_type": "code",
   "execution_count": 16,
   "metadata": {},
   "outputs": [
    {
     "name": "stdout",
     "output_type": "stream",
     "text": [
      "Average precision score on train set:  0.30827200760353957\n",
      "Average precision score on test set:  0.19270321713747957\n"
     ]
    }
   ],
   "source": [
    "# Average precision score\n",
    "print('Average precision score on train set: ', average_precision_score(Y_train, Y_pred_proba_train[:,1]))\n",
    "print('Average precision score on test set: ', average_precision_score(Y_test, Y_pred_proba_test[:,1]))"
   ]
  },
  {
   "cell_type": "markdown",
   "metadata": {},
   "source": [
    "### Save Model"
   ]
  },
  {
   "cell_type": "code",
   "execution_count": 17,
   "metadata": {},
   "outputs": [
    {
     "data": {
      "text/plain": [
       "['./src/logreg_model.pkl']"
      ]
     },
     "execution_count": 17,
     "metadata": {},
     "output_type": "execute_result"
    }
   ],
   "source": [
    "# save the model to disk\n",
    "filename = './src/logreg_model.pkl'\n",
    "joblib.dump(logreg, filename)"
   ]
  },
  {
   "cell_type": "markdown",
   "metadata": {},
   "source": [
    "### Submission"
   ]
  },
  {
   "cell_type": "code",
   "execution_count": 18,
   "metadata": {},
   "outputs": [
    {
     "name": "stderr",
     "output_type": "stream",
     "text": [
      "c:\\Users\\shexx\\anaconda3\\lib\\site-packages\\sklearn\\preprocessing\\_encoders.py:188: UserWarning: Found unknown categories in columns [0, 1, 2, 8, 9, 14, 15, 17, 20] during transform. These unknown categories will be encoded as all zeros\n",
      "  warnings.warn(\n"
     ]
    }
   ],
   "source": [
    "# Load submission data\n",
    "test_sub = pd.read_csv('./src/test.csv')\n",
    "test_sub.head()\n",
    "\n",
    "# Preprocess test data\n",
    "test_sub = preprocess.transform(test_sub)\n",
    "test_sub\n",
    "\n",
    "# Prediction on test data\n",
    "test_sub_pred = logreg.predict_proba(test_sub)[:, 1]\n",
    "test_sub_pred\n",
    "\n",
    "# Save prediction\n",
    "submission = pd.DataFrame({'LABEL': test_sub_pred})\n",
    "submission.reset_index(inplace=True)\n",
    "submission.to_csv('./src/submission_b.csv', index=False)\n"
   ]
  },
  {
   "cell_type": "markdown",
   "metadata": {},
   "source": [
    "## Random Over Sampling"
   ]
  },
  {
   "cell_type": "code",
   "execution_count": 19,
   "metadata": {},
   "outputs": [],
   "source": [
    "# Random over sampling to balance the dataset\n",
    "data_os = data.copy()\n",
    "ros = RandomOverSampler(sampling_strategy='minority')\n",
    "X_os= data_os[features_label]\n",
    "Y_os= data_os['LABEL']\n",
    "X_res, Y_res = ros.fit_resample(X_os, Y_os)\n",
    "data_os = pd.concat([X_res, Y_res], axis=1)\n",
    "data_os.reset_index(inplace=True, drop=True)"
   ]
  },
  {
   "cell_type": "code",
   "execution_count": 20,
   "metadata": {},
   "outputs": [
    {
     "data": {
      "text/html": [
       "<div>\n",
       "<style scoped>\n",
       "    .dataframe tbody tr th:only-of-type {\n",
       "        vertical-align: middle;\n",
       "    }\n",
       "\n",
       "    .dataframe tbody tr th {\n",
       "        vertical-align: top;\n",
       "    }\n",
       "\n",
       "    .dataframe thead th {\n",
       "        text-align: right;\n",
       "    }\n",
       "</style>\n",
       "<table border=\"1\" class=\"dataframe\">\n",
       "  <thead>\n",
       "    <tr style=\"text-align: right;\">\n",
       "      <th></th>\n",
       "      <th>ID_PRODUCT</th>\n",
       "      <th>ID_SELLER</th>\n",
       "      <th>ID_SELLER_COUNTRY</th>\n",
       "      <th>SELLER_GEO_1</th>\n",
       "      <th>SELLER_GEO_2</th>\n",
       "      <th>SELLER_GEO_3</th>\n",
       "      <th>DEPOSIT_PRICE</th>\n",
       "      <th>INSERTION_PRICE</th>\n",
       "      <th>PRICE</th>\n",
       "      <th>RECO_PRICE</th>\n",
       "      <th>...</th>\n",
       "      <th>TOTAL_TRK_1D</th>\n",
       "      <th>TOTAL_TRK_7D</th>\n",
       "      <th>TOTAL_TRK_30D</th>\n",
       "      <th>NB_DROP_SELLER_1D</th>\n",
       "      <th>NB_DROP_SELLER_7D</th>\n",
       "      <th>NB_DROP_SELLER_30D</th>\n",
       "      <th>NB_WIDTHDRAW_SELLER_1D</th>\n",
       "      <th>NB_WIDTHDRAW_SELLER_7D</th>\n",
       "      <th>NB_WIDTHDRAW_SELLER_30D</th>\n",
       "      <th>LABEL</th>\n",
       "    </tr>\n",
       "  </thead>\n",
       "  <tbody>\n",
       "    <tr>\n",
       "      <th>0</th>\n",
       "      <td>f398701175db97ad9f9ae4f061a8c7d7ef4da505708f0b...</td>\n",
       "      <td>904fc91a25b0630028eaaf0941b228a62f9341eadde903...</td>\n",
       "      <td>1253e9373e781b7500266caa55150e08e210bc8cd8cc70...</td>\n",
       "      <td>7e3a78f9aa16d14453f363271db2973b903b3949684f0f...</td>\n",
       "      <td>cf62a64b8a54fd96e70623b69429a70e1ba0e0ef9b502c...</td>\n",
       "      <td>5a9cf672c8be6b5ab9546a2fb49b06dd81a4e364c86ed0...</td>\n",
       "      <td>78.000000</td>\n",
       "      <td>78.000000</td>\n",
       "      <td>67.000000</td>\n",
       "      <td>52.0</td>\n",
       "      <td>...</td>\n",
       "      <td>0</td>\n",
       "      <td>8</td>\n",
       "      <td>26</td>\n",
       "      <td>0</td>\n",
       "      <td>0</td>\n",
       "      <td>0</td>\n",
       "      <td>0</td>\n",
       "      <td>0</td>\n",
       "      <td>0</td>\n",
       "      <td>0</td>\n",
       "    </tr>\n",
       "    <tr>\n",
       "      <th>1</th>\n",
       "      <td>7e0544c102ef705f3939dacb080bb23686355879c3ac77...</td>\n",
       "      <td>216fce1cec515e792bd2d5aa5c68ac84d8118ad11823fb...</td>\n",
       "      <td>eb624dbe56eb6620ae62080c10a273cab73ae8eca98ab1...</td>\n",
       "      <td>7e3a78f9aa16d14453f363271db2973b903b3949684f0f...</td>\n",
       "      <td>09fbaf8891f39040036484a565bfc3f832713ce3f2d22b...</td>\n",
       "      <td>7a1ca4ef7515f7276bae7230545829c27810c9d9e98ab2...</td>\n",
       "      <td>258.000000</td>\n",
       "      <td>262.000000</td>\n",
       "      <td>118.000000</td>\n",
       "      <td>94.0</td>\n",
       "      <td>...</td>\n",
       "      <td>39</td>\n",
       "      <td>154</td>\n",
       "      <td>612</td>\n",
       "      <td>2</td>\n",
       "      <td>25</td>\n",
       "      <td>123</td>\n",
       "      <td>0</td>\n",
       "      <td>5</td>\n",
       "      <td>5</td>\n",
       "      <td>0</td>\n",
       "    </tr>\n",
       "    <tr>\n",
       "      <th>2</th>\n",
       "      <td>fe9ca89ffb93396c469674056158d6ddfe10e94efb3807...</td>\n",
       "      <td>562a34b067f011d9736069d692be44aeb624a7d8b6eba6...</td>\n",
       "      <td>eb624dbe56eb6620ae62080c10a273cab73ae8eca98ab1...</td>\n",
       "      <td>7e3a78f9aa16d14453f363271db2973b903b3949684f0f...</td>\n",
       "      <td>09fbaf8891f39040036484a565bfc3f832713ce3f2d22b...</td>\n",
       "      <td>7a1ca4ef7515f7276bae7230545829c27810c9d9e98ab2...</td>\n",
       "      <td>478.000000</td>\n",
       "      <td>478.000000</td>\n",
       "      <td>232.000000</td>\n",
       "      <td>2.0</td>\n",
       "      <td>...</td>\n",
       "      <td>12</td>\n",
       "      <td>75</td>\n",
       "      <td>113</td>\n",
       "      <td>1</td>\n",
       "      <td>11</td>\n",
       "      <td>16</td>\n",
       "      <td>0</td>\n",
       "      <td>2</td>\n",
       "      <td>2</td>\n",
       "      <td>0</td>\n",
       "    </tr>\n",
       "    <tr>\n",
       "      <th>3</th>\n",
       "      <td>66832d4bbd55c568753a6ec237f8aa213c0cf55929a544...</td>\n",
       "      <td>90c4e50ebbc3dd146dc2852b2b8d428c23fb4eebfee02e...</td>\n",
       "      <td>56f4da26ed956730309fa1488611ee0f13b0ac95ebb1bc...</td>\n",
       "      <td>2099c82f0bcc1c13c9ecc9dd8848c23916cf0eea8f7eef...</td>\n",
       "      <td>9b202ecbc6d45c6d8901d989a918878397a3eb9d00e8f4...</td>\n",
       "      <td>49dca65f362fee401292ed7ada96f96295eab1e589c52e...</td>\n",
       "      <td>350.473498</td>\n",
       "      <td>354.473498</td>\n",
       "      <td>287.256198</td>\n",
       "      <td>0.0</td>\n",
       "      <td>...</td>\n",
       "      <td>4</td>\n",
       "      <td>6</td>\n",
       "      <td>8</td>\n",
       "      <td>0</td>\n",
       "      <td>0</td>\n",
       "      <td>4</td>\n",
       "      <td>0</td>\n",
       "      <td>0</td>\n",
       "      <td>1</td>\n",
       "      <td>0</td>\n",
       "    </tr>\n",
       "    <tr>\n",
       "      <th>4</th>\n",
       "      <td>72a3d1f2ed0a526408159da9bb5bb584790eed9ff6d074...</td>\n",
       "      <td>adb633b0e58e3969d4dc099e4b8beb734282f3bcbbd77d...</td>\n",
       "      <td>eb624dbe56eb6620ae62080c10a273cab73ae8eca98ab1...</td>\n",
       "      <td>7e3a78f9aa16d14453f363271db2973b903b3949684f0f...</td>\n",
       "      <td>09fbaf8891f39040036484a565bfc3f832713ce3f2d22b...</td>\n",
       "      <td>7a1ca4ef7515f7276bae7230545829c27810c9d9e98ab2...</td>\n",
       "      <td>91.000000</td>\n",
       "      <td>91.000000</td>\n",
       "      <td>72.000000</td>\n",
       "      <td>86.0</td>\n",
       "      <td>...</td>\n",
       "      <td>18</td>\n",
       "      <td>91</td>\n",
       "      <td>373</td>\n",
       "      <td>2</td>\n",
       "      <td>8</td>\n",
       "      <td>33</td>\n",
       "      <td>0</td>\n",
       "      <td>0</td>\n",
       "      <td>4</td>\n",
       "      <td>0</td>\n",
       "    </tr>\n",
       "    <tr>\n",
       "      <th>...</th>\n",
       "      <td>...</td>\n",
       "      <td>...</td>\n",
       "      <td>...</td>\n",
       "      <td>...</td>\n",
       "      <td>...</td>\n",
       "      <td>...</td>\n",
       "      <td>...</td>\n",
       "      <td>...</td>\n",
       "      <td>...</td>\n",
       "      <td>...</td>\n",
       "      <td>...</td>\n",
       "      <td>...</td>\n",
       "      <td>...</td>\n",
       "      <td>...</td>\n",
       "      <td>...</td>\n",
       "      <td>...</td>\n",
       "      <td>...</td>\n",
       "      <td>...</td>\n",
       "      <td>...</td>\n",
       "      <td>...</td>\n",
       "      <td>...</td>\n",
       "    </tr>\n",
       "    <tr>\n",
       "      <th>743421</th>\n",
       "      <td>53c46c7b4c15c7da36d2c34ee15bfd88721a0a3949f971...</td>\n",
       "      <td>e3c1d15fd034c4e09a0a02b92beb62b3dbd2bc46612bb3...</td>\n",
       "      <td>eb624dbe56eb6620ae62080c10a273cab73ae8eca98ab1...</td>\n",
       "      <td>7e3a78f9aa16d14453f363271db2973b903b3949684f0f...</td>\n",
       "      <td>09fbaf8891f39040036484a565bfc3f832713ce3f2d22b...</td>\n",
       "      <td>7a1ca4ef7515f7276bae7230545829c27810c9d9e98ab2...</td>\n",
       "      <td>28.000000</td>\n",
       "      <td>32.000000</td>\n",
       "      <td>32.000000</td>\n",
       "      <td>501.0</td>\n",
       "      <td>...</td>\n",
       "      <td>14</td>\n",
       "      <td>28</td>\n",
       "      <td>28</td>\n",
       "      <td>0</td>\n",
       "      <td>0</td>\n",
       "      <td>0</td>\n",
       "      <td>0</td>\n",
       "      <td>0</td>\n",
       "      <td>0</td>\n",
       "      <td>1</td>\n",
       "    </tr>\n",
       "    <tr>\n",
       "      <th>743422</th>\n",
       "      <td>5b71cc0a4810caba703c6ef025483a2d3cdc5e7d910426...</td>\n",
       "      <td>765cd142edcb4716bb24ded7658102b96d8288df561a2a...</td>\n",
       "      <td>1253e9373e781b7500266caa55150e08e210bc8cd8cc70...</td>\n",
       "      <td>7e3a78f9aa16d14453f363271db2973b903b3949684f0f...</td>\n",
       "      <td>cf62a64b8a54fd96e70623b69429a70e1ba0e0ef9b502c...</td>\n",
       "      <td>5a9cf672c8be6b5ab9546a2fb49b06dd81a4e364c86ed0...</td>\n",
       "      <td>38.000000</td>\n",
       "      <td>34.000000</td>\n",
       "      <td>24.000000</td>\n",
       "      <td>34.0</td>\n",
       "      <td>...</td>\n",
       "      <td>6</td>\n",
       "      <td>24</td>\n",
       "      <td>90</td>\n",
       "      <td>0</td>\n",
       "      <td>1</td>\n",
       "      <td>2</td>\n",
       "      <td>0</td>\n",
       "      <td>0</td>\n",
       "      <td>0</td>\n",
       "      <td>1</td>\n",
       "    </tr>\n",
       "    <tr>\n",
       "      <th>743423</th>\n",
       "      <td>4e9e6ce9bf9d3101e3a1ce9d6cba67691d2ccb0ee365ea...</td>\n",
       "      <td>30cda959af0854cadcdc48290eca6b9e04e82f64d04902...</td>\n",
       "      <td>1253e9373e781b7500266caa55150e08e210bc8cd8cc70...</td>\n",
       "      <td>7e3a78f9aa16d14453f363271db2973b903b3949684f0f...</td>\n",
       "      <td>cf62a64b8a54fd96e70623b69429a70e1ba0e0ef9b502c...</td>\n",
       "      <td>5a9cf672c8be6b5ab9546a2fb49b06dd81a4e364c86ed0...</td>\n",
       "      <td>113.000000</td>\n",
       "      <td>113.000000</td>\n",
       "      <td>89.000000</td>\n",
       "      <td>141.0</td>\n",
       "      <td>...</td>\n",
       "      <td>24</td>\n",
       "      <td>88</td>\n",
       "      <td>413</td>\n",
       "      <td>0</td>\n",
       "      <td>8</td>\n",
       "      <td>16</td>\n",
       "      <td>0</td>\n",
       "      <td>0</td>\n",
       "      <td>3</td>\n",
       "      <td>1</td>\n",
       "    </tr>\n",
       "    <tr>\n",
       "      <th>743424</th>\n",
       "      <td>61b30cf154431e3b9df82ef3686b988cfc499f010a2a3b...</td>\n",
       "      <td>409864969641bce283c1ede88ad851929e277c445fca67...</td>\n",
       "      <td>eb624dbe56eb6620ae62080c10a273cab73ae8eca98ab1...</td>\n",
       "      <td>7e3a78f9aa16d14453f363271db2973b903b3949684f0f...</td>\n",
       "      <td>09fbaf8891f39040036484a565bfc3f832713ce3f2d22b...</td>\n",
       "      <td>7a1ca4ef7515f7276bae7230545829c27810c9d9e98ab2...</td>\n",
       "      <td>1202.000000</td>\n",
       "      <td>1202.000000</td>\n",
       "      <td>902.000000</td>\n",
       "      <td>837.0</td>\n",
       "      <td>...</td>\n",
       "      <td>18</td>\n",
       "      <td>29</td>\n",
       "      <td>53</td>\n",
       "      <td>0</td>\n",
       "      <td>0</td>\n",
       "      <td>0</td>\n",
       "      <td>0</td>\n",
       "      <td>0</td>\n",
       "      <td>0</td>\n",
       "      <td>1</td>\n",
       "    </tr>\n",
       "    <tr>\n",
       "      <th>743425</th>\n",
       "      <td>712fa0e4efc43df1170197c2f7eb39be7c806dcfb101fc...</td>\n",
       "      <td>81e77e991c3749c0315f61e4d0eb66bb0e56bdc75f1672...</td>\n",
       "      <td>9b871512327c09ce91dd649b3f96a63b7408ef267c8cc5...</td>\n",
       "      <td>7e3a78f9aa16d14453f363271db2973b903b3949684f0f...</td>\n",
       "      <td>e7d529decf2effa45e405e83edd0d9b4b82f6ad2a1b95d...</td>\n",
       "      <td>8d23a6e37e0a6431a8f1b43a91026dcff51170a89a6512...</td>\n",
       "      <td>5928.011862</td>\n",
       "      <td>5928.011862</td>\n",
       "      <td>3331.341365</td>\n",
       "      <td>2554.0</td>\n",
       "      <td>...</td>\n",
       "      <td>2</td>\n",
       "      <td>8</td>\n",
       "      <td>21</td>\n",
       "      <td>0</td>\n",
       "      <td>0</td>\n",
       "      <td>0</td>\n",
       "      <td>0</td>\n",
       "      <td>0</td>\n",
       "      <td>0</td>\n",
       "      <td>1</td>\n",
       "    </tr>\n",
       "  </tbody>\n",
       "</table>\n",
       "<p>743426 rows × 86 columns</p>\n",
       "</div>"
      ],
      "text/plain": [
       "                                               ID_PRODUCT  \\\n",
       "0       f398701175db97ad9f9ae4f061a8c7d7ef4da505708f0b...   \n",
       "1       7e0544c102ef705f3939dacb080bb23686355879c3ac77...   \n",
       "2       fe9ca89ffb93396c469674056158d6ddfe10e94efb3807...   \n",
       "3       66832d4bbd55c568753a6ec237f8aa213c0cf55929a544...   \n",
       "4       72a3d1f2ed0a526408159da9bb5bb584790eed9ff6d074...   \n",
       "...                                                   ...   \n",
       "743421  53c46c7b4c15c7da36d2c34ee15bfd88721a0a3949f971...   \n",
       "743422  5b71cc0a4810caba703c6ef025483a2d3cdc5e7d910426...   \n",
       "743423  4e9e6ce9bf9d3101e3a1ce9d6cba67691d2ccb0ee365ea...   \n",
       "743424  61b30cf154431e3b9df82ef3686b988cfc499f010a2a3b...   \n",
       "743425  712fa0e4efc43df1170197c2f7eb39be7c806dcfb101fc...   \n",
       "\n",
       "                                                ID_SELLER  \\\n",
       "0       904fc91a25b0630028eaaf0941b228a62f9341eadde903...   \n",
       "1       216fce1cec515e792bd2d5aa5c68ac84d8118ad11823fb...   \n",
       "2       562a34b067f011d9736069d692be44aeb624a7d8b6eba6...   \n",
       "3       90c4e50ebbc3dd146dc2852b2b8d428c23fb4eebfee02e...   \n",
       "4       adb633b0e58e3969d4dc099e4b8beb734282f3bcbbd77d...   \n",
       "...                                                   ...   \n",
       "743421  e3c1d15fd034c4e09a0a02b92beb62b3dbd2bc46612bb3...   \n",
       "743422  765cd142edcb4716bb24ded7658102b96d8288df561a2a...   \n",
       "743423  30cda959af0854cadcdc48290eca6b9e04e82f64d04902...   \n",
       "743424  409864969641bce283c1ede88ad851929e277c445fca67...   \n",
       "743425  81e77e991c3749c0315f61e4d0eb66bb0e56bdc75f1672...   \n",
       "\n",
       "                                        ID_SELLER_COUNTRY  \\\n",
       "0       1253e9373e781b7500266caa55150e08e210bc8cd8cc70...   \n",
       "1       eb624dbe56eb6620ae62080c10a273cab73ae8eca98ab1...   \n",
       "2       eb624dbe56eb6620ae62080c10a273cab73ae8eca98ab1...   \n",
       "3       56f4da26ed956730309fa1488611ee0f13b0ac95ebb1bc...   \n",
       "4       eb624dbe56eb6620ae62080c10a273cab73ae8eca98ab1...   \n",
       "...                                                   ...   \n",
       "743421  eb624dbe56eb6620ae62080c10a273cab73ae8eca98ab1...   \n",
       "743422  1253e9373e781b7500266caa55150e08e210bc8cd8cc70...   \n",
       "743423  1253e9373e781b7500266caa55150e08e210bc8cd8cc70...   \n",
       "743424  eb624dbe56eb6620ae62080c10a273cab73ae8eca98ab1...   \n",
       "743425  9b871512327c09ce91dd649b3f96a63b7408ef267c8cc5...   \n",
       "\n",
       "                                             SELLER_GEO_1  \\\n",
       "0       7e3a78f9aa16d14453f363271db2973b903b3949684f0f...   \n",
       "1       7e3a78f9aa16d14453f363271db2973b903b3949684f0f...   \n",
       "2       7e3a78f9aa16d14453f363271db2973b903b3949684f0f...   \n",
       "3       2099c82f0bcc1c13c9ecc9dd8848c23916cf0eea8f7eef...   \n",
       "4       7e3a78f9aa16d14453f363271db2973b903b3949684f0f...   \n",
       "...                                                   ...   \n",
       "743421  7e3a78f9aa16d14453f363271db2973b903b3949684f0f...   \n",
       "743422  7e3a78f9aa16d14453f363271db2973b903b3949684f0f...   \n",
       "743423  7e3a78f9aa16d14453f363271db2973b903b3949684f0f...   \n",
       "743424  7e3a78f9aa16d14453f363271db2973b903b3949684f0f...   \n",
       "743425  7e3a78f9aa16d14453f363271db2973b903b3949684f0f...   \n",
       "\n",
       "                                             SELLER_GEO_2  \\\n",
       "0       cf62a64b8a54fd96e70623b69429a70e1ba0e0ef9b502c...   \n",
       "1       09fbaf8891f39040036484a565bfc3f832713ce3f2d22b...   \n",
       "2       09fbaf8891f39040036484a565bfc3f832713ce3f2d22b...   \n",
       "3       9b202ecbc6d45c6d8901d989a918878397a3eb9d00e8f4...   \n",
       "4       09fbaf8891f39040036484a565bfc3f832713ce3f2d22b...   \n",
       "...                                                   ...   \n",
       "743421  09fbaf8891f39040036484a565bfc3f832713ce3f2d22b...   \n",
       "743422  cf62a64b8a54fd96e70623b69429a70e1ba0e0ef9b502c...   \n",
       "743423  cf62a64b8a54fd96e70623b69429a70e1ba0e0ef9b502c...   \n",
       "743424  09fbaf8891f39040036484a565bfc3f832713ce3f2d22b...   \n",
       "743425  e7d529decf2effa45e405e83edd0d9b4b82f6ad2a1b95d...   \n",
       "\n",
       "                                             SELLER_GEO_3  DEPOSIT_PRICE  \\\n",
       "0       5a9cf672c8be6b5ab9546a2fb49b06dd81a4e364c86ed0...      78.000000   \n",
       "1       7a1ca4ef7515f7276bae7230545829c27810c9d9e98ab2...     258.000000   \n",
       "2       7a1ca4ef7515f7276bae7230545829c27810c9d9e98ab2...     478.000000   \n",
       "3       49dca65f362fee401292ed7ada96f96295eab1e589c52e...     350.473498   \n",
       "4       7a1ca4ef7515f7276bae7230545829c27810c9d9e98ab2...      91.000000   \n",
       "...                                                   ...            ...   \n",
       "743421  7a1ca4ef7515f7276bae7230545829c27810c9d9e98ab2...      28.000000   \n",
       "743422  5a9cf672c8be6b5ab9546a2fb49b06dd81a4e364c86ed0...      38.000000   \n",
       "743423  5a9cf672c8be6b5ab9546a2fb49b06dd81a4e364c86ed0...     113.000000   \n",
       "743424  7a1ca4ef7515f7276bae7230545829c27810c9d9e98ab2...    1202.000000   \n",
       "743425  8d23a6e37e0a6431a8f1b43a91026dcff51170a89a6512...    5928.011862   \n",
       "\n",
       "        INSERTION_PRICE        PRICE  RECO_PRICE  ...  TOTAL_TRK_1D  \\\n",
       "0             78.000000    67.000000        52.0  ...             0   \n",
       "1            262.000000   118.000000        94.0  ...            39   \n",
       "2            478.000000   232.000000         2.0  ...            12   \n",
       "3            354.473498   287.256198         0.0  ...             4   \n",
       "4             91.000000    72.000000        86.0  ...            18   \n",
       "...                 ...          ...         ...  ...           ...   \n",
       "743421        32.000000    32.000000       501.0  ...            14   \n",
       "743422        34.000000    24.000000        34.0  ...             6   \n",
       "743423       113.000000    89.000000       141.0  ...            24   \n",
       "743424      1202.000000   902.000000       837.0  ...            18   \n",
       "743425      5928.011862  3331.341365      2554.0  ...             2   \n",
       "\n",
       "       TOTAL_TRK_7D  TOTAL_TRK_30D NB_DROP_SELLER_1D NB_DROP_SELLER_7D  \\\n",
       "0                 8             26                 0                 0   \n",
       "1               154            612                 2                25   \n",
       "2                75            113                 1                11   \n",
       "3                 6              8                 0                 0   \n",
       "4                91            373                 2                 8   \n",
       "...             ...            ...               ...               ...   \n",
       "743421           28             28                 0                 0   \n",
       "743422           24             90                 0                 1   \n",
       "743423           88            413                 0                 8   \n",
       "743424           29             53                 0                 0   \n",
       "743425            8             21                 0                 0   \n",
       "\n",
       "       NB_DROP_SELLER_30D NB_WIDTHDRAW_SELLER_1D NB_WIDTHDRAW_SELLER_7D  \\\n",
       "0                       0                      0                      0   \n",
       "1                     123                      0                      5   \n",
       "2                      16                      0                      2   \n",
       "3                       4                      0                      0   \n",
       "4                      33                      0                      0   \n",
       "...                   ...                    ...                    ...   \n",
       "743421                  0                      0                      0   \n",
       "743422                  2                      0                      0   \n",
       "743423                 16                      0                      0   \n",
       "743424                  0                      0                      0   \n",
       "743425                  0                      0                      0   \n",
       "\n",
       "       NB_WIDTHDRAW_SELLER_30D LABEL  \n",
       "0                            0     0  \n",
       "1                            5     0  \n",
       "2                            2     0  \n",
       "3                            1     0  \n",
       "4                            4     0  \n",
       "...                        ...   ...  \n",
       "743421                       0     1  \n",
       "743422                       0     1  \n",
       "743423                       3     1  \n",
       "743424                       0     1  \n",
       "743425                       0     1  \n",
       "\n",
       "[743426 rows x 86 columns]"
      ]
     },
     "execution_count": 20,
     "metadata": {},
     "output_type": "execute_result"
    }
   ],
   "source": [
    "data_os"
   ]
  },
  {
   "cell_type": "markdown",
   "metadata": {},
   "source": [
    "### Preprocessing on oversampled data"
   ]
  },
  {
   "cell_type": "code",
   "execution_count": 21,
   "metadata": {},
   "outputs": [],
   "source": [
    "# preprocess data\n",
    "X_os = data_os[features_label]\n",
    "Y_os = data_os['LABEL']\n",
    "\n",
    "num_transformer = Pipeline(steps=[\n",
    "    ('imputer', SimpleImputer(strategy='median')),\n",
    "    ('scaler', StandardScaler())\n",
    "])\n",
    "cat_transformer = Pipeline(steps=[\n",
    "    ('imputer', SimpleImputer(strategy='most_frequent')),\n",
    "    ('encoder', OneHotEncoder(drop='first', handle_unknown='ignore'))\n",
    "])\n",
    "preprocess_os = ColumnTransformer(\n",
    "    transformers=[\n",
    "        ('num', num_transformer, numerical_label),\n",
    "        ('cat', cat_transformer, categorical_label)\n",
    "    ])\n",
    "X_os = preprocess_os.fit_transform(X_os)"
   ]
  },
  {
   "cell_type": "code",
   "execution_count": 22,
   "metadata": {},
   "outputs": [],
   "source": [
    "# Train test split\n",
    "X_train_os, X_test_os, Y_train_os, Y_test_os = train_test_split(X_os, Y_os, test_size=0.2, random_state=42, stratify=Y_os)"
   ]
  },
  {
   "cell_type": "markdown",
   "metadata": {},
   "source": [
    "### Train model"
   ]
  },
  {
   "cell_type": "code",
   "execution_count": 23,
   "metadata": {},
   "outputs": [
    {
     "name": "stderr",
     "output_type": "stream",
     "text": [
      "c:\\Users\\shexx\\anaconda3\\lib\\site-packages\\sklearn\\linear_model\\_logistic.py:444: ConvergenceWarning: lbfgs failed to converge (status=1):\n",
      "STOP: TOTAL NO. of ITERATIONS REACHED LIMIT.\n",
      "\n",
      "Increase the number of iterations (max_iter) or scale the data as shown in:\n",
      "    https://scikit-learn.org/stable/modules/preprocessing.html\n",
      "Please also refer to the documentation for alternative solver options:\n",
      "    https://scikit-learn.org/stable/modules/linear_model.html#logistic-regression\n",
      "  n_iter_i = _check_optimize_result(\n"
     ]
    },
    {
     "data": {
      "text/html": [
       "<style>#sk-container-id-2 {color: black;background-color: white;}#sk-container-id-2 pre{padding: 0;}#sk-container-id-2 div.sk-toggleable {background-color: white;}#sk-container-id-2 label.sk-toggleable__label {cursor: pointer;display: block;width: 100%;margin-bottom: 0;padding: 0.3em;box-sizing: border-box;text-align: center;}#sk-container-id-2 label.sk-toggleable__label-arrow:before {content: \"▸\";float: left;margin-right: 0.25em;color: #696969;}#sk-container-id-2 label.sk-toggleable__label-arrow:hover:before {color: black;}#sk-container-id-2 div.sk-estimator:hover label.sk-toggleable__label-arrow:before {color: black;}#sk-container-id-2 div.sk-toggleable__content {max-height: 0;max-width: 0;overflow: hidden;text-align: left;background-color: #f0f8ff;}#sk-container-id-2 div.sk-toggleable__content pre {margin: 0.2em;color: black;border-radius: 0.25em;background-color: #f0f8ff;}#sk-container-id-2 input.sk-toggleable__control:checked~div.sk-toggleable__content {max-height: 200px;max-width: 100%;overflow: auto;}#sk-container-id-2 input.sk-toggleable__control:checked~label.sk-toggleable__label-arrow:before {content: \"▾\";}#sk-container-id-2 div.sk-estimator input.sk-toggleable__control:checked~label.sk-toggleable__label {background-color: #d4ebff;}#sk-container-id-2 div.sk-label input.sk-toggleable__control:checked~label.sk-toggleable__label {background-color: #d4ebff;}#sk-container-id-2 input.sk-hidden--visually {border: 0;clip: rect(1px 1px 1px 1px);clip: rect(1px, 1px, 1px, 1px);height: 1px;margin: -1px;overflow: hidden;padding: 0;position: absolute;width: 1px;}#sk-container-id-2 div.sk-estimator {font-family: monospace;background-color: #f0f8ff;border: 1px dotted black;border-radius: 0.25em;box-sizing: border-box;margin-bottom: 0.5em;}#sk-container-id-2 div.sk-estimator:hover {background-color: #d4ebff;}#sk-container-id-2 div.sk-parallel-item::after {content: \"\";width: 100%;border-bottom: 1px solid gray;flex-grow: 1;}#sk-container-id-2 div.sk-label:hover label.sk-toggleable__label {background-color: #d4ebff;}#sk-container-id-2 div.sk-serial::before {content: \"\";position: absolute;border-left: 1px solid gray;box-sizing: border-box;top: 0;bottom: 0;left: 50%;z-index: 0;}#sk-container-id-2 div.sk-serial {display: flex;flex-direction: column;align-items: center;background-color: white;padding-right: 0.2em;padding-left: 0.2em;position: relative;}#sk-container-id-2 div.sk-item {position: relative;z-index: 1;}#sk-container-id-2 div.sk-parallel {display: flex;align-items: stretch;justify-content: center;background-color: white;position: relative;}#sk-container-id-2 div.sk-item::before, #sk-container-id-2 div.sk-parallel-item::before {content: \"\";position: absolute;border-left: 1px solid gray;box-sizing: border-box;top: 0;bottom: 0;left: 50%;z-index: -1;}#sk-container-id-2 div.sk-parallel-item {display: flex;flex-direction: column;z-index: 1;position: relative;background-color: white;}#sk-container-id-2 div.sk-parallel-item:first-child::after {align-self: flex-end;width: 50%;}#sk-container-id-2 div.sk-parallel-item:last-child::after {align-self: flex-start;width: 50%;}#sk-container-id-2 div.sk-parallel-item:only-child::after {width: 0;}#sk-container-id-2 div.sk-dashed-wrapped {border: 1px dashed gray;margin: 0 0.4em 0.5em 0.4em;box-sizing: border-box;padding-bottom: 0.4em;background-color: white;}#sk-container-id-2 div.sk-label label {font-family: monospace;font-weight: bold;display: inline-block;line-height: 1.2em;}#sk-container-id-2 div.sk-label-container {text-align: center;}#sk-container-id-2 div.sk-container {/* jupyter's `normalize.less` sets `[hidden] { display: none; }` but bootstrap.min.css set `[hidden] { display: none !important; }` so we also need the `!important` here to be able to override the default hidden behavior on the sphinx rendered scikit-learn.org. See: https://github.com/scikit-learn/scikit-learn/issues/21755 */display: inline-block !important;position: relative;}#sk-container-id-2 div.sk-text-repr-fallback {display: none;}</style><div id=\"sk-container-id-2\" class=\"sk-top-container\"><div class=\"sk-text-repr-fallback\"><pre>LogisticRegression()</pre><b>In a Jupyter environment, please rerun this cell to show the HTML representation or trust the notebook. <br />On GitHub, the HTML representation is unable to render, please try loading this page with nbviewer.org.</b></div><div class=\"sk-container\" hidden><div class=\"sk-item\"><div class=\"sk-estimator sk-toggleable\"><input class=\"sk-toggleable__control sk-hidden--visually\" id=\"sk-estimator-id-2\" type=\"checkbox\" checked><label for=\"sk-estimator-id-2\" class=\"sk-toggleable__label sk-toggleable__label-arrow\">LogisticRegression</label><div class=\"sk-toggleable__content\"><pre>LogisticRegression()</pre></div></div></div></div></div>"
      ],
      "text/plain": [
       "LogisticRegression()"
      ]
     },
     "execution_count": 23,
     "metadata": {},
     "output_type": "execute_result"
    }
   ],
   "source": [
    "# Train logistic regression on oversampled data\n",
    "logreg_os = LogisticRegression()\n",
    "logreg_os.fit(X_train_os, Y_train_os)\n"
   ]
  },
  {
   "cell_type": "code",
   "execution_count": 24,
   "metadata": {},
   "outputs": [],
   "source": [
    "# Predictions in probabilities\n",
    "Y_pred_proba_train_os = logreg_os.predict_proba(X_train_os)\n",
    "Y_pred_proba_test_os = logreg_os.predict_proba(X_test_os)"
   ]
  },
  {
   "cell_type": "markdown",
   "metadata": {},
   "source": [
    "### Score"
   ]
  },
  {
   "cell_type": "code",
   "execution_count": 25,
   "metadata": {},
   "outputs": [
    {
     "name": "stdout",
     "output_type": "stream",
     "text": [
      "Average precision score on train set:  0.8370707589170924\n",
      "Average precision score on test set:  0.8108961578566243\n"
     ]
    }
   ],
   "source": [
    "# Average precision score\n",
    "print('Average precision score on train set: ', average_precision_score(Y_train_os, Y_pred_proba_train_os[:,1]))\n",
    "print('Average precision score on test set: ', average_precision_score(Y_test_os, Y_pred_proba_test_os[:,1]))"
   ]
  },
  {
   "cell_type": "markdown",
   "metadata": {},
   "source": [
    "### Save model"
   ]
  },
  {
   "cell_type": "code",
   "execution_count": 26,
   "metadata": {},
   "outputs": [
    {
     "data": {
      "text/plain": [
       "['./src/logreg_model_os.pkl']"
      ]
     },
     "execution_count": 26,
     "metadata": {},
     "output_type": "execute_result"
    }
   ],
   "source": [
    "# save the model to disk\n",
    "filename = './src/logreg_model_os.pkl'\n",
    "joblib.dump(logreg_os, filename)"
   ]
  },
  {
   "cell_type": "markdown",
   "metadata": {},
   "source": [
    "### Submission"
   ]
  },
  {
   "cell_type": "code",
   "execution_count": 27,
   "metadata": {},
   "outputs": [
    {
     "name": "stderr",
     "output_type": "stream",
     "text": [
      "c:\\Users\\shexx\\anaconda3\\lib\\site-packages\\sklearn\\preprocessing\\_encoders.py:188: UserWarning: Found unknown categories in columns [0, 1, 2, 8, 9, 14, 15, 17, 20] during transform. These unknown categories will be encoded as all zeros\n",
      "  warnings.warn(\n"
     ]
    }
   ],
   "source": [
    "# Load submission data\n",
    "test_sub = pd.read_csv('./src/test.csv')\n",
    "test_sub.head()\n",
    "\n",
    "# Preprocess test data\n",
    "test_sub = preprocess.transform(test_sub)\n",
    "test_sub\n",
    "\n",
    "# Prediction on test data\n",
    "test_sub_pred = logreg_os.predict_proba(test_sub)[:, 1]\n",
    "test_sub_pred\n",
    "\n",
    "# Save prediction\n",
    "submission = pd.DataFrame({'LABEL': test_sub_pred})\n",
    "submission.reset_index(inplace=True)\n",
    "submission.to_csv('./src/submission_os.csv', index=False)"
   ]
  },
  {
   "cell_type": "markdown",
   "metadata": {},
   "source": [
    " * The oversampling didn't help much on submission score\n",
    " * We've tryed several preprocessing method such as removing columns, feature engineering, removing outliers... But everything seems to lower the score\n",
    " * so we'll get back to the original dataset"
   ]
  },
  {
   "cell_type": "markdown",
   "metadata": {},
   "source": [
    "## Grid search on AdaBoost Model"
   ]
  },
  {
   "cell_type": "markdown",
   "metadata": {},
   "source": [
    "### Grid model"
   ]
  },
  {
   "cell_type": "code",
   "execution_count": 28,
   "metadata": {},
   "outputs": [
    {
     "name": "stdout",
     "output_type": "stream",
     "text": [
      "Fitting 2 folds for each of 2 candidates, totalling 4 fits\n"
     ]
    }
   ],
   "source": [
    "# Grid search for best parameters on AdaBoost\n",
    "param = {'n_estimators': [50, 100]}\n",
    "\n",
    "ada = AdaBoostClassifier()\n",
    "grid_ada = GridSearchCV(ada, param, cv=2, scoring='average_precision', verbose=2)\n",
    "grid_ada.fit(X_train, Y_train)"
   ]
  },
  {
   "cell_type": "markdown",
   "metadata": {},
   "source": [
    "### Score"
   ]
  },
  {
   "cell_type": "code",
   "execution_count": null,
   "metadata": {},
   "outputs": [],
   "source": [
    "# Average precision score\n",
    "print('Average precision score on train set: ', average_precision_score(Y_train, grid_ada.best_estimator_.predict_proba(X_train)[:,1]))\n",
    "print('Average precision score on test set: ', average_precision_score(Y_test, grid_ada.best_estimator_.predict_proba(X_test)[:,1]))"
   ]
  },
  {
   "cell_type": "markdown",
   "metadata": {},
   "source": [
    "### Save model"
   ]
  },
  {
   "cell_type": "code",
   "execution_count": null,
   "metadata": {},
   "outputs": [],
   "source": [
    "# save the model to disk\n",
    "filename = './src/ada_model.pkl'\n",
    "joblib.dump(grid_ada.best_estimator_, filename)"
   ]
  },
  {
   "cell_type": "markdown",
   "metadata": {},
   "source": [
    "### Submission"
   ]
  },
  {
   "cell_type": "code",
   "execution_count": null,
   "metadata": {},
   "outputs": [],
   "source": [
    "# Load submission data\n",
    "test_sub = pd.read_csv('./src/test.csv')\n",
    "test_sub.head()\n",
    "\n",
    "# Preprocess test data\n",
    "test_sub = preprocess.transform(test_sub)\n",
    "test_sub\n",
    "\n",
    "# Prediction on test data\n",
    "test_sub_pred = grid_ada.best_estimator_.predict_proba(test_sub)[:, 1]\n",
    "test_sub_pred\n",
    "\n",
    "# Save prediction\n",
    "submission = pd.DataFrame({'LABEL': test_sub_pred})\n",
    "submission.reset_index(inplace=True)\n",
    "submission.to_csv('./src/submission_ada.csv', index=False)"
   ]
  },
  {
   "cell_type": "markdown",
   "metadata": {},
   "source": [
    "## Grid search on Gradient Boosting"
   ]
  },
  {
   "cell_type": "markdown",
   "metadata": {},
   "source": [
    "### Grid model"
   ]
  },
  {
   "cell_type": "code",
   "execution_count": null,
   "metadata": {},
   "outputs": [],
   "source": [
    "# Grid search for best parameters on Gradient Boosting\n",
    "param = {'n_estimators': [50, 500]}\n",
    "\n",
    "gb = GradientBoostingClassifier()\n",
    "grid_gb = GridSearchCV(gb, param, cv=2, scoring='average_precision', verbose=2)\n",
    "grid_gb.fit(X_train, Y_train)"
   ]
  },
  {
   "cell_type": "markdown",
   "metadata": {},
   "source": [
    "### Score"
   ]
  },
  {
   "cell_type": "code",
   "execution_count": null,
   "metadata": {},
   "outputs": [],
   "source": [
    "# Average precision score\n",
    "print('Average precision score on train set: ', average_precision_score(Y_train, grid_gb.best_estimator_.predict_proba(X_train)[:,1]))\n",
    "print('Average precision score on test set: ', average_precision_score(Y_test, grid_gb.best_estimator_.predict_proba(X_test)[:,1]))"
   ]
  },
  {
   "cell_type": "markdown",
   "metadata": {},
   "source": [
    "### Save model"
   ]
  },
  {
   "cell_type": "code",
   "execution_count": null,
   "metadata": {},
   "outputs": [],
   "source": [
    "# save the model to disk\n",
    "filename = './src/gb_model.pkl'\n",
    "joblib.dump(grid_gb.best_estimator_, filename)"
   ]
  },
  {
   "cell_type": "markdown",
   "metadata": {},
   "source": [
    "### Submission"
   ]
  },
  {
   "cell_type": "code",
   "execution_count": null,
   "metadata": {},
   "outputs": [],
   "source": [
    "# Load submission data\n",
    "test_sub = pd.read_csv('./src/test.csv')\n",
    "test_sub.head()\n",
    "\n",
    "# Preprocess test data\n",
    "test_sub = preprocess.transform(test_sub)\n",
    "test_sub\n",
    "\n",
    "# Prediction on test data\n",
    "test_sub_pred = grid_gb.best_estimator_.predict_proba(test_sub)[:, 1]\n",
    "test_sub_pred\n",
    "\n",
    "# Save prediction\n",
    "submission = pd.DataFrame({'LABEL': test_sub_pred})\n",
    "submission.reset_index(inplace=True)\n",
    "submission.to_csv('./src/submission_gb.csv', index=False)"
   ]
  },
  {
   "cell_type": "markdown",
   "metadata": {},
   "source": [
    "## Grid search on XGBoost"
   ]
  },
  {
   "cell_type": "markdown",
   "metadata": {},
   "source": [
    "### Grid Model"
   ]
  },
  {
   "cell_type": "code",
   "execution_count": null,
   "metadata": {},
   "outputs": [],
   "source": [
    "# Grid search for best parameters on XGBoost\n",
    "param = {'n_estimators': [50, 500]}\n",
    "\n",
    "xgb = XGBClassifier()\n",
    "grid_xgb = GridSearchCV(xgb, param, cv=2, scoring='average_precision', verbose=2)\n",
    "grid_xgb.fit(X_train, Y_train)"
   ]
  },
  {
   "cell_type": "markdown",
   "metadata": {},
   "source": [
    "### Score"
   ]
  },
  {
   "cell_type": "code",
   "execution_count": null,
   "metadata": {},
   "outputs": [],
   "source": [
    "# Average precision score\n",
    "print('Average precision score on train set: ', average_precision_score(Y_train, grid_xgb.best_estimator_.predict_proba(X_train)[:,1]))\n",
    "print('Average precision score on test set: ', average_precision_score(Y_test, grid_xgb.best_estimator_.predict_proba(X_test)[:,1]))"
   ]
  },
  {
   "cell_type": "markdown",
   "metadata": {},
   "source": [
    "### Save model"
   ]
  },
  {
   "cell_type": "code",
   "execution_count": null,
   "metadata": {},
   "outputs": [],
   "source": [
    "# save the model to disk\n",
    "filename = './src/xgb_model.pkl'\n",
    "joblib.dump(grid_xgb.best_estimator_, filename)"
   ]
  },
  {
   "cell_type": "markdown",
   "metadata": {},
   "source": [
    "### Submission"
   ]
  },
  {
   "cell_type": "code",
   "execution_count": null,
   "metadata": {},
   "outputs": [],
   "source": [
    "# Load submission data\n",
    "test_sub = pd.read_csv('./src/test.csv')\n",
    "test_sub.head()\n",
    "\n",
    "# Preprocess test data\n",
    "test_sub = preprocess.transform(test_sub)\n",
    "test_sub\n",
    "\n",
    "# Prediction on test data\n",
    "test_sub_pred = grid_xgb.best_estimator_.predict_proba(test_sub)[:, 1]\n",
    "test_sub_pred\n",
    "\n",
    "# Save prediction\n",
    "submission = pd.DataFrame({'LABEL': test_sub_pred})\n",
    "submission.reset_index(inplace=True)\n",
    "submission.to_csv('./src/submission_xgb.csv', index=False)"
   ]
  },
  {
   "cell_type": "markdown",
   "metadata": {},
   "source": [
    "## Grid Search on LGBM"
   ]
  },
  {
   "cell_type": "markdown",
   "metadata": {},
   "source": [
    "### Grid model"
   ]
  },
  {
   "cell_type": "code",
   "execution_count": null,
   "metadata": {},
   "outputs": [],
   "source": [
    "# Grid search for best parameters on LightGBM\n",
    "param = {'n_estimators': [50, 500]}\n",
    "\n",
    "lgb = LGBMClassifier()\n",
    "grid_lgb = GridSearchCV(lgb, param, cv=2, scoring='average_precision', verbose=2)\n",
    "grid_lgb.fit(X_train, Y_train)"
   ]
  },
  {
   "cell_type": "markdown",
   "metadata": {},
   "source": [
    "### Score"
   ]
  },
  {
   "cell_type": "code",
   "execution_count": null,
   "metadata": {},
   "outputs": [],
   "source": [
    "# Average precision score\n",
    "print('Average precision score on train set: ', average_precision_score(Y_train, grid_lgb.best_estimator_.predict_proba(X_train)[:,1]))\n",
    "print('Average precision score on test set: ', average_precision_score(Y_test, grid_lgb.best_estimator_.predict_proba(X_test)[:,1]))"
   ]
  },
  {
   "cell_type": "markdown",
   "metadata": {},
   "source": [
    "### Save model"
   ]
  },
  {
   "cell_type": "code",
   "execution_count": null,
   "metadata": {},
   "outputs": [],
   "source": [
    "# save the model to disk\n",
    "filename = './src/lgb_model.pkl'\n",
    "joblib.dump(grid_lgb.best_estimator_, filename)"
   ]
  },
  {
   "cell_type": "markdown",
   "metadata": {},
   "source": [
    "### Submission"
   ]
  },
  {
   "cell_type": "code",
   "execution_count": null,
   "metadata": {},
   "outputs": [],
   "source": [
    "# Load submission data\n",
    "test_sub = pd.read_csv('./src/test.csv')\n",
    "test_sub.head()\n",
    "\n",
    "# Preprocess test data\n",
    "test_sub = preprocess.transform(test_sub)\n",
    "test_sub\n",
    "\n",
    "# Prediction on test data\n",
    "test_sub_pred = grid_lgb.best_estimator_.predict_proba(test_sub)[:, 1]\n",
    "test_sub_pred\n",
    "\n",
    "# Save prediction\n",
    "submission = pd.DataFrame({'LABEL': test_sub_pred})\n",
    "submission.reset_index(inplace=True)\n",
    "submission.to_csv('./src/submission_lgb.csv', index=False)"
   ]
  },
  {
   "cell_type": "markdown",
   "metadata": {},
   "source": [
    "## Grid search on CatBoost"
   ]
  },
  {
   "cell_type": "markdown",
   "metadata": {},
   "source": [
    "### Grid model"
   ]
  },
  {
   "cell_type": "code",
   "execution_count": null,
   "metadata": {},
   "outputs": [],
   "source": [
    "# Grid search for best parameters on CatBoost\n",
    "param = {'n_estimators': [50, 500]}\n",
    "\n",
    "cat = CatBoostClassifier()\n",
    "grid_cat = GridSearchCV(cat, param, cv=2, scoring='average_precision', verbose=2)\n",
    "grid_cat.fit(X_train, Y_train)"
   ]
  },
  {
   "cell_type": "markdown",
   "metadata": {},
   "source": [
    "### Score"
   ]
  },
  {
   "cell_type": "code",
   "execution_count": null,
   "metadata": {},
   "outputs": [],
   "source": [
    "# Average precision score\n",
    "print('Average precision score on train set: ', average_precision_score(Y_train, grid_cat.best_estimator_.predict_proba(X_train)[:,1]))\n",
    "print('Average precision score on test set: ', average_precision_score(Y_test, grid_cat.best_estimator_.predict_proba(X_test)[:,1]))"
   ]
  },
  {
   "cell_type": "markdown",
   "metadata": {},
   "source": [
    "### Save model"
   ]
  },
  {
   "cell_type": "code",
   "execution_count": null,
   "metadata": {},
   "outputs": [],
   "source": [
    "# save the model to disk\n",
    "filename = './src/cat_model.pkl'\n",
    "joblib.dump(grid_cat.best_estimator_, filename)"
   ]
  },
  {
   "cell_type": "markdown",
   "metadata": {},
   "source": [
    "### Submission"
   ]
  },
  {
   "cell_type": "code",
   "execution_count": null,
   "metadata": {},
   "outputs": [],
   "source": [
    "# Load submission data\n",
    "test_sub = pd.read_csv('./src/test.csv')\n",
    "test_sub.head()\n",
    "\n",
    "# Preprocess test data\n",
    "test_sub = preprocess.transform(test_sub)\n",
    "test_sub\n",
    "\n",
    "# Prediction on test data\n",
    "test_sub_pred = grid_cat.best_estimator_.predict_proba(test_sub)[:, 1]\n",
    "test_sub_pred\n",
    "\n",
    "# Save prediction\n",
    "submission = pd.DataFrame({'LABEL': test_sub_pred})\n",
    "submission.reset_index(inplace=True)\n",
    "submission.to_csv('./src/submission_cat.csv', index=False)"
   ]
  },
  {
   "cell_type": "markdown",
   "metadata": {},
   "source": [
    "## Voting Classifier"
   ]
  },
  {
   "cell_type": "markdown",
   "metadata": {},
   "source": [
    "### Voting model"
   ]
  },
  {
   "cell_type": "code",
   "execution_count": null,
   "metadata": {},
   "outputs": [],
   "source": [
    "# Voting classifier\n",
    "voting = VotingClassifier(estimators=[('rf', grid_rf.best_estimator_), \n",
    "                                        ('gb', grid_gb.best_estimator_), \n",
    "                                        ('xgb', grid_xgb.best_estimator_), \n",
    "                                        ('lgb', grid_lgb.best_estimator_), \n",
    "                                        ('cat', grid_cat.best_estimator_)], \n",
    "                                    voting='soft')\n",
    "\n",
    "voting.fit(X_train, Y_train)"
   ]
  },
  {
   "cell_type": "markdown",
   "metadata": {},
   "source": [
    "### Score"
   ]
  },
  {
   "cell_type": "code",
   "execution_count": null,
   "metadata": {},
   "outputs": [],
   "source": [
    "# Average precision score\n",
    "print('Average precision score on train set: ', average_precision_score(Y_train, voting.predict_proba(X_train)[:,1]))\n",
    "print('Average precision score on test set: ', average_precision_score(Y_test, voting.predict_proba(X_test)[:,1]))"
   ]
  },
  {
   "cell_type": "markdown",
   "metadata": {},
   "source": [
    "### Save model"
   ]
  },
  {
   "cell_type": "code",
   "execution_count": null,
   "metadata": {},
   "outputs": [],
   "source": [
    "# save the model to disk\n",
    "filename = './src/voting_model.pkl'\n",
    "joblib.dump(voting, filename)"
   ]
  },
  {
   "cell_type": "markdown",
   "metadata": {},
   "source": [
    "### Submission"
   ]
  },
  {
   "cell_type": "code",
   "execution_count": null,
   "metadata": {},
   "outputs": [],
   "source": [
    "# Load submission data\n",
    "test_sub = pd.read_csv('./src/test.csv')\n",
    "test_sub.head()\n",
    "\n",
    "# Preprocess test data\n",
    "test_sub = preprocess.transform(test_sub)\n",
    "test_sub\n",
    "\n",
    "# Prediction on test data\n",
    "test_sub_pred = voting.predict_proba(test_sub)[:, 1]\n",
    "test_sub_pred\n",
    "\n",
    "# Save prediction\n",
    "submission = pd.DataFrame({'LABEL': test_sub_pred})\n",
    "submission.reset_index(inplace=True)\n",
    "submission.to_csv('./src/submission_voting.csv', index=False)"
   ]
  }
 ],
 "metadata": {
  "kernelspec": {
   "display_name": "Python 3.9.12 ('base')",
   "language": "python",
   "name": "python3"
  },
  "language_info": {
   "codemirror_mode": {
    "name": "ipython",
    "version": 3
   },
   "file_extension": ".py",
   "mimetype": "text/x-python",
   "name": "python",
   "nbconvert_exporter": "python",
   "pygments_lexer": "ipython3",
   "version": "3.9.12"
  },
  "orig_nbformat": 4,
  "vscode": {
   "interpreter": {
    "hash": "02c733b4e4e71d342ff1aec4b9e2017ca239a140aa3ddc86f295671e35fe778a"
   }
  }
 },
 "nbformat": 4,
 "nbformat_minor": 2
}
