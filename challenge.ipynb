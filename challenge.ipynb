{
 "cells": [
  {
   "cell_type": "markdown",
   "metadata": {},
   "source": [
    "# Vestiaire Collective Hackathon"
   ]
  },
  {
   "cell_type": "markdown",
   "metadata": {},
   "source": [
    "## Imports"
   ]
  },
  {
   "cell_type": "code",
   "execution_count": 1,
   "metadata": {},
   "outputs": [],
   "source": [
    "import pandas as pd\n",
    "import numpy as np\n",
    "\n",
    "from sklearn.model_selection import train_test_split\n",
    "from sklearn.impute import SimpleImputer\n",
    "from sklearn.preprocessing import StandardScaler, OneHotEncoder\n",
    "from sklearn.compose import ColumnTransformer\n",
    "from sklearn.pipeline import Pipeline\n",
    "\n",
    "\n",
    "from sklearn.linear_model import LogisticRegression\n",
    "from sklearn.model_selection import GridSearchCV\n",
    "from sklearn.metrics import average_precision_score\n",
    "from sklearn.ensemble import AdaBoostClassifier, GradientBoostingClassifier, VotingClassifier\n",
    "\n",
    "from xgboost import XGBClassifier\n",
    "from lightgbm import LGBMClassifier\n",
    "\n",
    "import catboost as cb\n",
    "from catboost import CatBoostClassifier\n",
    "\n",
    "import imblearn as imb\n",
    "from imblearn.over_sampling import RandomOverSampler\n",
    "\n",
    "import joblib\n",
    "\n",
    "\n",
    "import plotly.express as px\n",
    "import plotly.graph_objects as go\n",
    "import plotly.io as pio"
   ]
  },
  {
   "cell_type": "markdown",
   "metadata": {},
   "source": [
    "## Load data"
   ]
  },
  {
   "cell_type": "code",
   "execution_count": 2,
   "metadata": {},
   "outputs": [],
   "source": [
    "data = pd.read_csv('./src/train.csv')\n",
    "data.drop(columns=['Unnamed: 0'], inplace=True)\n"
   ]
  },
  {
   "cell_type": "code",
   "execution_count": 3,
   "metadata": {},
   "outputs": [
    {
     "data": {
      "text/html": [
       "<div>\n",
       "<style scoped>\n",
       "    .dataframe tbody tr th:only-of-type {\n",
       "        vertical-align: middle;\n",
       "    }\n",
       "\n",
       "    .dataframe tbody tr th {\n",
       "        vertical-align: top;\n",
       "    }\n",
       "\n",
       "    .dataframe thead th {\n",
       "        text-align: right;\n",
       "    }\n",
       "</style>\n",
       "<table border=\"1\" class=\"dataframe\">\n",
       "  <thead>\n",
       "    <tr style=\"text-align: right;\">\n",
       "      <th></th>\n",
       "      <th>ID_PRODUCT</th>\n",
       "      <th>ID_SELLER</th>\n",
       "      <th>ID_SELLER_COUNTRY</th>\n",
       "      <th>SELLER_GEO_1</th>\n",
       "      <th>SELLER_GEO_2</th>\n",
       "      <th>SELLER_GEO_3</th>\n",
       "      <th>DEPOSIT_PRICE</th>\n",
       "      <th>INSERTION_PRICE</th>\n",
       "      <th>PRICE</th>\n",
       "      <th>RECO_PRICE</th>\n",
       "      <th>...</th>\n",
       "      <th>TOTAL_TRK_1D</th>\n",
       "      <th>TOTAL_TRK_7D</th>\n",
       "      <th>TOTAL_TRK_30D</th>\n",
       "      <th>NB_DROP_SELLER_1D</th>\n",
       "      <th>NB_DROP_SELLER_7D</th>\n",
       "      <th>NB_DROP_SELLER_30D</th>\n",
       "      <th>NB_WIDTHDRAW_SELLER_1D</th>\n",
       "      <th>NB_WIDTHDRAW_SELLER_7D</th>\n",
       "      <th>NB_WIDTHDRAW_SELLER_30D</th>\n",
       "      <th>LABEL</th>\n",
       "    </tr>\n",
       "  </thead>\n",
       "  <tbody>\n",
       "    <tr>\n",
       "      <th>0</th>\n",
       "      <td>f398701175db97ad9f9ae4f061a8c7d7ef4da505708f0b...</td>\n",
       "      <td>904fc91a25b0630028eaaf0941b228a62f9341eadde903...</td>\n",
       "      <td>1253e9373e781b7500266caa55150e08e210bc8cd8cc70...</td>\n",
       "      <td>7e3a78f9aa16d14453f363271db2973b903b3949684f0f...</td>\n",
       "      <td>cf62a64b8a54fd96e70623b69429a70e1ba0e0ef9b502c...</td>\n",
       "      <td>5a9cf672c8be6b5ab9546a2fb49b06dd81a4e364c86ed0...</td>\n",
       "      <td>78.000000</td>\n",
       "      <td>78.000000</td>\n",
       "      <td>67.000000</td>\n",
       "      <td>52.0</td>\n",
       "      <td>...</td>\n",
       "      <td>0</td>\n",
       "      <td>8</td>\n",
       "      <td>26</td>\n",
       "      <td>0</td>\n",
       "      <td>0</td>\n",
       "      <td>0</td>\n",
       "      <td>0</td>\n",
       "      <td>0</td>\n",
       "      <td>0</td>\n",
       "      <td>0</td>\n",
       "    </tr>\n",
       "    <tr>\n",
       "      <th>1</th>\n",
       "      <td>7e0544c102ef705f3939dacb080bb23686355879c3ac77...</td>\n",
       "      <td>216fce1cec515e792bd2d5aa5c68ac84d8118ad11823fb...</td>\n",
       "      <td>eb624dbe56eb6620ae62080c10a273cab73ae8eca98ab1...</td>\n",
       "      <td>7e3a78f9aa16d14453f363271db2973b903b3949684f0f...</td>\n",
       "      <td>09fbaf8891f39040036484a565bfc3f832713ce3f2d22b...</td>\n",
       "      <td>7a1ca4ef7515f7276bae7230545829c27810c9d9e98ab2...</td>\n",
       "      <td>258.000000</td>\n",
       "      <td>262.000000</td>\n",
       "      <td>118.000000</td>\n",
       "      <td>94.0</td>\n",
       "      <td>...</td>\n",
       "      <td>39</td>\n",
       "      <td>154</td>\n",
       "      <td>612</td>\n",
       "      <td>2</td>\n",
       "      <td>25</td>\n",
       "      <td>123</td>\n",
       "      <td>0</td>\n",
       "      <td>5</td>\n",
       "      <td>5</td>\n",
       "      <td>0</td>\n",
       "    </tr>\n",
       "    <tr>\n",
       "      <th>2</th>\n",
       "      <td>fe9ca89ffb93396c469674056158d6ddfe10e94efb3807...</td>\n",
       "      <td>562a34b067f011d9736069d692be44aeb624a7d8b6eba6...</td>\n",
       "      <td>eb624dbe56eb6620ae62080c10a273cab73ae8eca98ab1...</td>\n",
       "      <td>7e3a78f9aa16d14453f363271db2973b903b3949684f0f...</td>\n",
       "      <td>09fbaf8891f39040036484a565bfc3f832713ce3f2d22b...</td>\n",
       "      <td>7a1ca4ef7515f7276bae7230545829c27810c9d9e98ab2...</td>\n",
       "      <td>478.000000</td>\n",
       "      <td>478.000000</td>\n",
       "      <td>232.000000</td>\n",
       "      <td>2.0</td>\n",
       "      <td>...</td>\n",
       "      <td>12</td>\n",
       "      <td>75</td>\n",
       "      <td>113</td>\n",
       "      <td>1</td>\n",
       "      <td>11</td>\n",
       "      <td>16</td>\n",
       "      <td>0</td>\n",
       "      <td>2</td>\n",
       "      <td>2</td>\n",
       "      <td>0</td>\n",
       "    </tr>\n",
       "    <tr>\n",
       "      <th>3</th>\n",
       "      <td>66832d4bbd55c568753a6ec237f8aa213c0cf55929a544...</td>\n",
       "      <td>90c4e50ebbc3dd146dc2852b2b8d428c23fb4eebfee02e...</td>\n",
       "      <td>56f4da26ed956730309fa1488611ee0f13b0ac95ebb1bc...</td>\n",
       "      <td>2099c82f0bcc1c13c9ecc9dd8848c23916cf0eea8f7eef...</td>\n",
       "      <td>9b202ecbc6d45c6d8901d989a918878397a3eb9d00e8f4...</td>\n",
       "      <td>49dca65f362fee401292ed7ada96f96295eab1e589c52e...</td>\n",
       "      <td>350.473498</td>\n",
       "      <td>354.473498</td>\n",
       "      <td>287.256198</td>\n",
       "      <td>0.0</td>\n",
       "      <td>...</td>\n",
       "      <td>4</td>\n",
       "      <td>6</td>\n",
       "      <td>8</td>\n",
       "      <td>0</td>\n",
       "      <td>0</td>\n",
       "      <td>4</td>\n",
       "      <td>0</td>\n",
       "      <td>0</td>\n",
       "      <td>1</td>\n",
       "      <td>0</td>\n",
       "    </tr>\n",
       "    <tr>\n",
       "      <th>4</th>\n",
       "      <td>72a3d1f2ed0a526408159da9bb5bb584790eed9ff6d074...</td>\n",
       "      <td>adb633b0e58e3969d4dc099e4b8beb734282f3bcbbd77d...</td>\n",
       "      <td>eb624dbe56eb6620ae62080c10a273cab73ae8eca98ab1...</td>\n",
       "      <td>7e3a78f9aa16d14453f363271db2973b903b3949684f0f...</td>\n",
       "      <td>09fbaf8891f39040036484a565bfc3f832713ce3f2d22b...</td>\n",
       "      <td>7a1ca4ef7515f7276bae7230545829c27810c9d9e98ab2...</td>\n",
       "      <td>91.000000</td>\n",
       "      <td>91.000000</td>\n",
       "      <td>72.000000</td>\n",
       "      <td>86.0</td>\n",
       "      <td>...</td>\n",
       "      <td>18</td>\n",
       "      <td>91</td>\n",
       "      <td>373</td>\n",
       "      <td>2</td>\n",
       "      <td>8</td>\n",
       "      <td>33</td>\n",
       "      <td>0</td>\n",
       "      <td>0</td>\n",
       "      <td>4</td>\n",
       "      <td>0</td>\n",
       "    </tr>\n",
       "  </tbody>\n",
       "</table>\n",
       "<p>5 rows × 86 columns</p>\n",
       "</div>"
      ],
      "text/plain": [
       "                                          ID_PRODUCT  \\\n",
       "0  f398701175db97ad9f9ae4f061a8c7d7ef4da505708f0b...   \n",
       "1  7e0544c102ef705f3939dacb080bb23686355879c3ac77...   \n",
       "2  fe9ca89ffb93396c469674056158d6ddfe10e94efb3807...   \n",
       "3  66832d4bbd55c568753a6ec237f8aa213c0cf55929a544...   \n",
       "4  72a3d1f2ed0a526408159da9bb5bb584790eed9ff6d074...   \n",
       "\n",
       "                                           ID_SELLER  \\\n",
       "0  904fc91a25b0630028eaaf0941b228a62f9341eadde903...   \n",
       "1  216fce1cec515e792bd2d5aa5c68ac84d8118ad11823fb...   \n",
       "2  562a34b067f011d9736069d692be44aeb624a7d8b6eba6...   \n",
       "3  90c4e50ebbc3dd146dc2852b2b8d428c23fb4eebfee02e...   \n",
       "4  adb633b0e58e3969d4dc099e4b8beb734282f3bcbbd77d...   \n",
       "\n",
       "                                   ID_SELLER_COUNTRY  \\\n",
       "0  1253e9373e781b7500266caa55150e08e210bc8cd8cc70...   \n",
       "1  eb624dbe56eb6620ae62080c10a273cab73ae8eca98ab1...   \n",
       "2  eb624dbe56eb6620ae62080c10a273cab73ae8eca98ab1...   \n",
       "3  56f4da26ed956730309fa1488611ee0f13b0ac95ebb1bc...   \n",
       "4  eb624dbe56eb6620ae62080c10a273cab73ae8eca98ab1...   \n",
       "\n",
       "                                        SELLER_GEO_1  \\\n",
       "0  7e3a78f9aa16d14453f363271db2973b903b3949684f0f...   \n",
       "1  7e3a78f9aa16d14453f363271db2973b903b3949684f0f...   \n",
       "2  7e3a78f9aa16d14453f363271db2973b903b3949684f0f...   \n",
       "3  2099c82f0bcc1c13c9ecc9dd8848c23916cf0eea8f7eef...   \n",
       "4  7e3a78f9aa16d14453f363271db2973b903b3949684f0f...   \n",
       "\n",
       "                                        SELLER_GEO_2  \\\n",
       "0  cf62a64b8a54fd96e70623b69429a70e1ba0e0ef9b502c...   \n",
       "1  09fbaf8891f39040036484a565bfc3f832713ce3f2d22b...   \n",
       "2  09fbaf8891f39040036484a565bfc3f832713ce3f2d22b...   \n",
       "3  9b202ecbc6d45c6d8901d989a918878397a3eb9d00e8f4...   \n",
       "4  09fbaf8891f39040036484a565bfc3f832713ce3f2d22b...   \n",
       "\n",
       "                                        SELLER_GEO_3  DEPOSIT_PRICE  \\\n",
       "0  5a9cf672c8be6b5ab9546a2fb49b06dd81a4e364c86ed0...      78.000000   \n",
       "1  7a1ca4ef7515f7276bae7230545829c27810c9d9e98ab2...     258.000000   \n",
       "2  7a1ca4ef7515f7276bae7230545829c27810c9d9e98ab2...     478.000000   \n",
       "3  49dca65f362fee401292ed7ada96f96295eab1e589c52e...     350.473498   \n",
       "4  7a1ca4ef7515f7276bae7230545829c27810c9d9e98ab2...      91.000000   \n",
       "\n",
       "   INSERTION_PRICE       PRICE  RECO_PRICE  ...  TOTAL_TRK_1D TOTAL_TRK_7D  \\\n",
       "0        78.000000   67.000000        52.0  ...             0            8   \n",
       "1       262.000000  118.000000        94.0  ...            39          154   \n",
       "2       478.000000  232.000000         2.0  ...            12           75   \n",
       "3       354.473498  287.256198         0.0  ...             4            6   \n",
       "4        91.000000   72.000000        86.0  ...            18           91   \n",
       "\n",
       "   TOTAL_TRK_30D NB_DROP_SELLER_1D NB_DROP_SELLER_7D NB_DROP_SELLER_30D  \\\n",
       "0             26                 0                 0                  0   \n",
       "1            612                 2                25                123   \n",
       "2            113                 1                11                 16   \n",
       "3              8                 0                 0                  4   \n",
       "4            373                 2                 8                 33   \n",
       "\n",
       "  NB_WIDTHDRAW_SELLER_1D NB_WIDTHDRAW_SELLER_7D NB_WIDTHDRAW_SELLER_30D LABEL  \n",
       "0                      0                      0                       0     0  \n",
       "1                      0                      5                       5     0  \n",
       "2                      0                      2                       2     0  \n",
       "3                      0                      0                       1     0  \n",
       "4                      0                      0                       4     0  \n",
       "\n",
       "[5 rows x 86 columns]"
      ]
     },
     "execution_count": 3,
     "metadata": {},
     "output_type": "execute_result"
    }
   ],
   "source": [
    "data.head()"
   ]
  },
  {
   "cell_type": "markdown",
   "metadata": {},
   "source": [
    "## EDA"
   ]
  },
  {
   "cell_type": "markdown",
   "metadata": {},
   "source": [
    "### CORRELATIONS"
   ]
  },
  {
   "cell_type": "code",
   "execution_count": 4,
   "metadata": {},
   "outputs": [
    {
     "data": {
      "text/plain": [
       "LABEL                                      1.000000\n",
       "NB_DAYS_SINCE_LAST_SOLD                    0.130014\n",
       "NB_DAYS_SINCE_LAST_ORDER                   0.130011\n",
       "NB_DAYS_SINCE_SELLER_REPLY_TO_MMAO         0.116948\n",
       "NB_DAYS_SINCE_LAST_PUBLISHED               0.112946\n",
       "NB_DAYS_SINCE_LAST_DEPOSITED               0.104858\n",
       "NB_DAYS_SINCE_LAST_SESSION                 0.097066\n",
       "NB_DAYS_SINCE_LAST_BS_CHAT                 0.084662\n",
       "TOTAL_SELLER_CANCELLED                     0.065889\n",
       "FLAG2                                      0.062977\n",
       "NON_RECEIVED_PCT                           0.062277\n",
       "TOTAL_NON_RECEIVED                         0.056298\n",
       "RECO_PRICE                                 0.049686\n",
       "PRICE                                      0.047094\n",
       "NB_DAYS_SINCE_LAST_LIKES                   0.043861\n",
       "TOTAL_MMAO_TIMEOUT_7D                      0.034946\n",
       "TOTAL_MMAO_TIMEOUT_1D                      0.031764\n",
       "TOTAL_MMAO_TIMEOUT_30D                     0.028987\n",
       "TIME_ONLINE                                0.027985\n",
       "MMAO_NB                                    0.022464\n",
       "TOTAL_REPAY_SOLD                           0.021830\n",
       "NB_DAYS_SINCE_LAST_REPAY                   0.020363\n",
       "DEPOSIT_PRICE                              0.019681\n",
       "INSERTION_PRICE                            0.019162\n",
       "TOTAL_NON_RECEIVED_WITHIN_TIME_ALLOTTED    0.017396\n",
       "NB_BS_CHAT_PRODUCT_7D                      0.010188\n",
       "NB_BS_CHAT_PRODUCT_30D                     0.009153\n",
       "NB_BS_CHAT_PRODUCT_1D                      0.007621\n",
       "NB_WIDTHDRAW_SELLER_1D                     0.004898\n",
       "NB_LIKES_30D                               0.005769\n",
       "NB_LIKES_1D                                0.005779\n",
       "NB_LIKES_7D                                0.006172\n",
       "NB_WIDTHDRAW_SELLER_7D                     0.008789\n",
       "TOTAL_BS_CHAT_1D                           0.009089\n",
       "FLAG1                                      0.011769\n",
       "NB_WIDTHDRAW_SELLER_30D                    0.011980\n",
       "NB_DROP_SELLER_1D                          0.014316\n",
       "TOTAL_BS_CHAT_7D                           0.016156\n",
       "SELLER_FROM_FIRST_SELL_TO_INVOICE          0.016954\n",
       "NB_DROP_PRODUCT_1D                         0.019951\n",
       "Name: LABEL, dtype: float64"
      ]
     },
     "execution_count": 4,
     "metadata": {},
     "output_type": "execute_result"
    }
   ],
   "source": [
    "corr = data.corr()\n",
    "label_corr = abs(corr['LABEL'].sort_values(ascending=False))\n",
    "label_corr_best = label_corr[:40]\n",
    "label_corr_best\n",
    "\n"
   ]
  },
  {
   "cell_type": "markdown",
   "metadata": {},
   "source": [
    "### Labels Lists"
   ]
  },
  {
   "cell_type": "markdown",
   "metadata": {},
   "source": [
    "#### Features and target lists"
   ]
  },
  {
   "cell_type": "code",
   "execution_count": 5,
   "metadata": {},
   "outputs": [],
   "source": [
    "# Label list\n",
    "features_label = data.columns.to_list()\n",
    "target_label = [features_label.pop(features_label.index('LABEL'))]"
   ]
  },
  {
   "cell_type": "code",
   "execution_count": 6,
   "metadata": {},
   "outputs": [
    {
     "data": {
      "text/plain": [
       "['ID_PRODUCT',\n",
       " 'ID_SELLER',\n",
       " 'ID_SELLER_COUNTRY',\n",
       " 'SELLER_GEO_1',\n",
       " 'SELLER_GEO_2',\n",
       " 'SELLER_GEO_3',\n",
       " 'DEPOSIT_PRICE',\n",
       " 'INSERTION_PRICE',\n",
       " 'PRICE',\n",
       " 'RECO_PRICE',\n",
       " 'TIME_ONLINE',\n",
       " 'SEGMENT',\n",
       " 'MMAO_NB',\n",
       " 'BRAND_GROUP',\n",
       " 'ID_BRAND',\n",
       " 'ID_PAGE',\n",
       " 'ID_SITE',\n",
       " 'LANGUAGE',\n",
       " 'ID_UNIVERSE',\n",
       " 'ID_CATEGORY',\n",
       " 'ID_SUB_SUBCATEGORY',\n",
       " 'ID_MODEL',\n",
       " 'ID_MATERIAL',\n",
       " 'ID_COLOUR',\n",
       " 'ID_PATTERN',\n",
       " 'CURRENCY',\n",
       " 'ID_CONDITION',\n",
       " 'FLAG1',\n",
       " 'DEPOSIT_DEVICE',\n",
       " 'SELLER_AGE',\n",
       " 'SELLER_FROM_FIRST_SELL_TO_INVOICE',\n",
       " 'FLAG2',\n",
       " 'NB_DROP_PRODUCT_1D',\n",
       " 'NB_DROP_PRODUCT_7D',\n",
       " 'NB_DROP_PRODUCT_30D',\n",
       " 'NB_BS_CHAT_PRODUCT_1D',\n",
       " 'NB_BS_CHAT_PRODUCT_7D',\n",
       " 'NB_BS_CHAT_PRODUCT_30D',\n",
       " 'NB_DAYS_SINCE_LAST_LIKES',\n",
       " 'NB_LIKES_1D',\n",
       " 'NB_LIKES_7D',\n",
       " 'NB_LIKES_30D',\n",
       " 'NB_DAYS_SINCE_LAST_WISHLISTS',\n",
       " 'NB_WISHLISTS_1D',\n",
       " 'NB_WISHLISTS_7D',\n",
       " 'NB_WISHLISTS_30D',\n",
       " 'NB_DAYS_SINCE_SELLER_REPLY_TO_MMAO',\n",
       " 'TOTAL_MMAO_REPLIED_1D',\n",
       " 'TOTAL_MMAO_TIMEOUT_1D',\n",
       " 'TOTAL_MMAO_REPLIED_7D',\n",
       " 'TOTAL_MMAO_TIMEOUT_7D',\n",
       " 'TOTAL_MMAO_REPLIED_30D',\n",
       " 'TOTAL_MMAO_TIMEOUT_30D',\n",
       " 'NB_DAYS_SINCE_LAST_ORDER',\n",
       " 'TOTAL_ORDER_SOLD',\n",
       " 'RANK_SOLD',\n",
       " 'TOTAL_SOLD_30D',\n",
       " 'TOTAL_SOLD_90D',\n",
       " 'TOTAL_SOLD_180D',\n",
       " 'NB_DAYS_SINCE_LAST_DEPOSITED',\n",
       " 'NB_DAYS_SINCE_LAST_PUBLISHED',\n",
       " 'NB_DAYS_SINCE_LAST_SOLD',\n",
       " 'TOTAL_DEPOSITED_1Y',\n",
       " 'TOTAL_PUBLISHED_1Y',\n",
       " 'TOTAL_SOLD_1Y',\n",
       " 'NB_DAYS_SINCE_LAST_REPAY',\n",
       " 'TOTAL_SELLER_CANCELLED',\n",
       " 'TOTAL_NON_RECEIVED_WITHIN_TIME_ALLOTTED',\n",
       " 'TOTAL_REPAY_SOLD',\n",
       " 'TOTAL_NON_RECEIVED',\n",
       " 'NON_RECEIVED_PCT',\n",
       " 'NB_DAYS_SINCE_LAST_BS_CHAT',\n",
       " 'TOTAL_BS_CHAT_1D',\n",
       " 'TOTAL_BS_CHAT_7D',\n",
       " 'TOTAL_BS_CHAT_30D',\n",
       " 'NB_DAYS_SINCE_LAST_SESSION',\n",
       " 'TOTAL_TRK_1D',\n",
       " 'TOTAL_TRK_7D',\n",
       " 'TOTAL_TRK_30D',\n",
       " 'NB_DROP_SELLER_1D',\n",
       " 'NB_DROP_SELLER_7D',\n",
       " 'NB_DROP_SELLER_30D',\n",
       " 'NB_WIDTHDRAW_SELLER_1D',\n",
       " 'NB_WIDTHDRAW_SELLER_7D',\n",
       " 'NB_WIDTHDRAW_SELLER_30D']"
      ]
     },
     "execution_count": 6,
     "metadata": {},
     "output_type": "execute_result"
    }
   ],
   "source": [
    "features_label"
   ]
  },
  {
   "cell_type": "code",
   "execution_count": 7,
   "metadata": {},
   "outputs": [
    {
     "data": {
      "text/plain": [
       "['LABEL']"
      ]
     },
     "execution_count": 7,
     "metadata": {},
     "output_type": "execute_result"
    }
   ],
   "source": [
    "target_label"
   ]
  },
  {
   "cell_type": "markdown",
   "metadata": {},
   "source": [
    "#### Numerical and categorical features"
   ]
  },
  {
   "cell_type": "code",
   "execution_count": 8,
   "metadata": {},
   "outputs": [],
   "source": [
    "numerical_label = features_label.copy()"
   ]
  },
  {
   "cell_type": "code",
   "execution_count": 9,
   "metadata": {},
   "outputs": [],
   "source": [
    "categorical_label = numerical_label.pop(numerical_label.index('ID_PRODUCT'))\n",
    "categorical_label = [categorical_label]\n",
    "categorical_label.append(numerical_label.pop(numerical_label.index('ID_SELLER')))\n",
    "categorical_label.append(numerical_label.pop(numerical_label.index('ID_SELLER_COUNTRY')))\n",
    "categorical_label.append(numerical_label.pop(numerical_label.index('SELLER_GEO_1')))\n",
    "categorical_label.append(numerical_label.pop(numerical_label.index('SELLER_GEO_2')))\n",
    "categorical_label.append(numerical_label.pop(numerical_label.index('SELLER_GEO_3')))\n",
    "categorical_label.append(numerical_label.pop(numerical_label.index('SEGMENT')))\n",
    "categorical_label.append(numerical_label.pop(numerical_label.index('BRAND_GROUP')))\n",
    "categorical_label.append(numerical_label.pop(numerical_label.index('ID_BRAND')))\n",
    "categorical_label.append(numerical_label.pop(numerical_label.index('ID_PAGE')))\n",
    "categorical_label.append(numerical_label.pop(numerical_label.index('ID_SITE')))\n",
    "categorical_label.append(numerical_label.pop(numerical_label.index('LANGUAGE')))\n",
    "categorical_label.append(numerical_label.pop(numerical_label.index('ID_UNIVERSE')))\n",
    "categorical_label.append(numerical_label.pop(numerical_label.index('ID_CATEGORY')))\n",
    "categorical_label.append(numerical_label.pop(numerical_label.index('ID_SUB_SUBCATEGORY')))\n",
    "categorical_label.append(numerical_label.pop(numerical_label.index('ID_MODEL')))\n",
    "categorical_label.append(numerical_label.pop(numerical_label.index('ID_MATERIAL')))\n",
    "categorical_label.append(numerical_label.pop(numerical_label.index('ID_COLOUR')))\n",
    "categorical_label.append(numerical_label.pop(numerical_label.index('ID_PATTERN')))\n",
    "categorical_label.append(numerical_label.pop(numerical_label.index('CURRENCY')))\n",
    "categorical_label.append(numerical_label.pop(numerical_label.index('ID_CONDITION')))\n",
    "categorical_label.append(numerical_label.pop(numerical_label.index('DEPOSIT_DEVICE')))"
   ]
  },
  {
   "cell_type": "code",
   "execution_count": 10,
   "metadata": {},
   "outputs": [
    {
     "data": {
      "text/plain": [
       "['ID_PRODUCT',\n",
       " 'ID_SELLER',\n",
       " 'ID_SELLER_COUNTRY',\n",
       " 'SELLER_GEO_1',\n",
       " 'SELLER_GEO_2',\n",
       " 'SELLER_GEO_3',\n",
       " 'SEGMENT',\n",
       " 'BRAND_GROUP',\n",
       " 'ID_BRAND',\n",
       " 'ID_PAGE',\n",
       " 'ID_SITE',\n",
       " 'LANGUAGE',\n",
       " 'ID_UNIVERSE',\n",
       " 'ID_CATEGORY',\n",
       " 'ID_SUB_SUBCATEGORY',\n",
       " 'ID_MODEL',\n",
       " 'ID_MATERIAL',\n",
       " 'ID_COLOUR',\n",
       " 'ID_PATTERN',\n",
       " 'CURRENCY',\n",
       " 'ID_CONDITION',\n",
       " 'DEPOSIT_DEVICE']"
      ]
     },
     "execution_count": 10,
     "metadata": {},
     "output_type": "execute_result"
    }
   ],
   "source": [
    "categorical_label"
   ]
  },
  {
   "cell_type": "markdown",
   "metadata": {},
   "source": [
    "## Preprocessing"
   ]
  },
  {
   "cell_type": "code",
   "execution_count": 11,
   "metadata": {},
   "outputs": [],
   "source": [
    "# Seperate features and target\n",
    "X = data[features_label]\n",
    "Y = data['LABEL']"
   ]
  },
  {
   "cell_type": "code",
   "execution_count": 12,
   "metadata": {},
   "outputs": [],
   "source": [
    "# Preprocessing pipeline\n",
    "\n",
    "num_transformer = Pipeline(steps=[\n",
    "    ('imputer', SimpleImputer(strategy='median')),\n",
    "    ('scaler', StandardScaler())\n",
    "])\n",
    "cat_transformer = Pipeline(steps=[\n",
    "    ('imputer', SimpleImputer(strategy='most_frequent')),\n",
    "    ('encoder', OneHotEncoder(drop='first', handle_unknown='ignore'))\n",
    "])\n",
    "preprocess = ColumnTransformer(\n",
    "    transformers=[\n",
    "        ('num', num_transformer, numerical_label),\n",
    "        ('cat', cat_transformer, categorical_label)\n",
    "    ])\n",
    "X = preprocess.fit_transform(X)"
   ]
  },
  {
   "cell_type": "code",
   "execution_count": 13,
   "metadata": {},
   "outputs": [],
   "source": [
    "# Train test split\n",
    "X_train, X_test, Y_train, Y_test = train_test_split(X, Y, test_size=0.2, random_state=42, stratify=Y)"
   ]
  },
  {
   "cell_type": "markdown",
   "metadata": {},
   "source": [
    "print(average_precision_score(Y_train_pca, Y_train_pca_pred))\n",
    "print(average_precision_score(Y_test_pca, Y_test_pca_pred))"
   ]
  },
  {
   "cell_type": "markdown",
   "metadata": {},
   "source": [
    "## Baseline : Logistic Regression"
   ]
  },
  {
   "cell_type": "markdown",
   "metadata": {},
   "source": [
    "### Train model"
   ]
  },
  {
   "cell_type": "code",
   "execution_count": 14,
   "metadata": {},
   "outputs": [
    {
     "name": "stderr",
     "output_type": "stream",
     "text": [
      "c:\\Users\\shexx\\anaconda3\\lib\\site-packages\\sklearn\\linear_model\\_logistic.py:444: ConvergenceWarning: lbfgs failed to converge (status=1):\n",
      "STOP: TOTAL NO. of ITERATIONS REACHED LIMIT.\n",
      "\n",
      "Increase the number of iterations (max_iter) or scale the data as shown in:\n",
      "    https://scikit-learn.org/stable/modules/preprocessing.html\n",
      "Please also refer to the documentation for alternative solver options:\n",
      "    https://scikit-learn.org/stable/modules/linear_model.html#logistic-regression\n",
      "  n_iter_i = _check_optimize_result(\n"
     ]
    },
    {
     "data": {
      "text/html": [
       "<style>#sk-container-id-1 {color: black;background-color: white;}#sk-container-id-1 pre{padding: 0;}#sk-container-id-1 div.sk-toggleable {background-color: white;}#sk-container-id-1 label.sk-toggleable__label {cursor: pointer;display: block;width: 100%;margin-bottom: 0;padding: 0.3em;box-sizing: border-box;text-align: center;}#sk-container-id-1 label.sk-toggleable__label-arrow:before {content: \"▸\";float: left;margin-right: 0.25em;color: #696969;}#sk-container-id-1 label.sk-toggleable__label-arrow:hover:before {color: black;}#sk-container-id-1 div.sk-estimator:hover label.sk-toggleable__label-arrow:before {color: black;}#sk-container-id-1 div.sk-toggleable__content {max-height: 0;max-width: 0;overflow: hidden;text-align: left;background-color: #f0f8ff;}#sk-container-id-1 div.sk-toggleable__content pre {margin: 0.2em;color: black;border-radius: 0.25em;background-color: #f0f8ff;}#sk-container-id-1 input.sk-toggleable__control:checked~div.sk-toggleable__content {max-height: 200px;max-width: 100%;overflow: auto;}#sk-container-id-1 input.sk-toggleable__control:checked~label.sk-toggleable__label-arrow:before {content: \"▾\";}#sk-container-id-1 div.sk-estimator input.sk-toggleable__control:checked~label.sk-toggleable__label {background-color: #d4ebff;}#sk-container-id-1 div.sk-label input.sk-toggleable__control:checked~label.sk-toggleable__label {background-color: #d4ebff;}#sk-container-id-1 input.sk-hidden--visually {border: 0;clip: rect(1px 1px 1px 1px);clip: rect(1px, 1px, 1px, 1px);height: 1px;margin: -1px;overflow: hidden;padding: 0;position: absolute;width: 1px;}#sk-container-id-1 div.sk-estimator {font-family: monospace;background-color: #f0f8ff;border: 1px dotted black;border-radius: 0.25em;box-sizing: border-box;margin-bottom: 0.5em;}#sk-container-id-1 div.sk-estimator:hover {background-color: #d4ebff;}#sk-container-id-1 div.sk-parallel-item::after {content: \"\";width: 100%;border-bottom: 1px solid gray;flex-grow: 1;}#sk-container-id-1 div.sk-label:hover label.sk-toggleable__label {background-color: #d4ebff;}#sk-container-id-1 div.sk-serial::before {content: \"\";position: absolute;border-left: 1px solid gray;box-sizing: border-box;top: 0;bottom: 0;left: 50%;z-index: 0;}#sk-container-id-1 div.sk-serial {display: flex;flex-direction: column;align-items: center;background-color: white;padding-right: 0.2em;padding-left: 0.2em;position: relative;}#sk-container-id-1 div.sk-item {position: relative;z-index: 1;}#sk-container-id-1 div.sk-parallel {display: flex;align-items: stretch;justify-content: center;background-color: white;position: relative;}#sk-container-id-1 div.sk-item::before, #sk-container-id-1 div.sk-parallel-item::before {content: \"\";position: absolute;border-left: 1px solid gray;box-sizing: border-box;top: 0;bottom: 0;left: 50%;z-index: -1;}#sk-container-id-1 div.sk-parallel-item {display: flex;flex-direction: column;z-index: 1;position: relative;background-color: white;}#sk-container-id-1 div.sk-parallel-item:first-child::after {align-self: flex-end;width: 50%;}#sk-container-id-1 div.sk-parallel-item:last-child::after {align-self: flex-start;width: 50%;}#sk-container-id-1 div.sk-parallel-item:only-child::after {width: 0;}#sk-container-id-1 div.sk-dashed-wrapped {border: 1px dashed gray;margin: 0 0.4em 0.5em 0.4em;box-sizing: border-box;padding-bottom: 0.4em;background-color: white;}#sk-container-id-1 div.sk-label label {font-family: monospace;font-weight: bold;display: inline-block;line-height: 1.2em;}#sk-container-id-1 div.sk-label-container {text-align: center;}#sk-container-id-1 div.sk-container {/* jupyter's `normalize.less` sets `[hidden] { display: none; }` but bootstrap.min.css set `[hidden] { display: none !important; }` so we also need the `!important` here to be able to override the default hidden behavior on the sphinx rendered scikit-learn.org. See: https://github.com/scikit-learn/scikit-learn/issues/21755 */display: inline-block !important;position: relative;}#sk-container-id-1 div.sk-text-repr-fallback {display: none;}</style><div id=\"sk-container-id-1\" class=\"sk-top-container\"><div class=\"sk-text-repr-fallback\"><pre>LogisticRegression()</pre><b>In a Jupyter environment, please rerun this cell to show the HTML representation or trust the notebook. <br />On GitHub, the HTML representation is unable to render, please try loading this page with nbviewer.org.</b></div><div class=\"sk-container\" hidden><div class=\"sk-item\"><div class=\"sk-estimator sk-toggleable\"><input class=\"sk-toggleable__control sk-hidden--visually\" id=\"sk-estimator-id-1\" type=\"checkbox\" checked><label for=\"sk-estimator-id-1\" class=\"sk-toggleable__label sk-toggleable__label-arrow\">LogisticRegression</label><div class=\"sk-toggleable__content\"><pre>LogisticRegression()</pre></div></div></div></div></div>"
      ],
      "text/plain": [
       "LogisticRegression()"
      ]
     },
     "execution_count": 14,
     "metadata": {},
     "output_type": "execute_result"
    }
   ],
   "source": [
    "# Train logistic regression\n",
    "logreg = LogisticRegression()\n",
    "logreg.fit(X_train, Y_train)"
   ]
  },
  {
   "cell_type": "code",
   "execution_count": 15,
   "metadata": {},
   "outputs": [],
   "source": [
    "# Predictions in probabilities\n",
    "Y_pred_proba_train = logreg.predict_proba(X_train)\n",
    "Y_pred_proba_test = logreg.predict_proba(X_test)\n"
   ]
  },
  {
   "cell_type": "markdown",
   "metadata": {},
   "source": [
    "### Score"
   ]
  },
  {
   "cell_type": "code",
   "execution_count": 16,
   "metadata": {},
   "outputs": [
    {
     "name": "stdout",
     "output_type": "stream",
     "text": [
      "Average precision score on train set:  0.30827200760353957\n",
      "Average precision score on test set:  0.19270321713747957\n"
     ]
    }
   ],
   "source": [
    "# Average precision score\n",
    "print('Average precision score on train set: ', average_precision_score(Y_train, Y_pred_proba_train[:,1]))\n",
    "print('Average precision score on test set: ', average_precision_score(Y_test, Y_pred_proba_test[:,1]))"
   ]
  },
  {
   "cell_type": "markdown",
   "metadata": {},
   "source": [
    "### Save Model"
   ]
  },
  {
   "cell_type": "code",
   "execution_count": 17,
   "metadata": {},
   "outputs": [
    {
     "data": {
      "text/plain": [
       "['./src/logreg_model.pkl']"
      ]
     },
     "execution_count": 17,
     "metadata": {},
     "output_type": "execute_result"
    }
   ],
   "source": [
    "# save the model to disk\n",
    "filename = './src/logreg_model.pkl'\n",
    "joblib.dump(logreg, filename)"
   ]
  },
  {
   "cell_type": "markdown",
   "metadata": {},
   "source": [
    "### Submission"
   ]
  },
  {
   "cell_type": "code",
   "execution_count": 18,
   "metadata": {},
   "outputs": [
    {
     "name": "stderr",
     "output_type": "stream",
     "text": [
      "c:\\Users\\shexx\\anaconda3\\lib\\site-packages\\sklearn\\preprocessing\\_encoders.py:188: UserWarning: Found unknown categories in columns [0, 1, 2, 8, 9, 14, 15, 17, 20] during transform. These unknown categories will be encoded as all zeros\n",
      "  warnings.warn(\n"
     ]
    }
   ],
   "source": [
    "# Load submission data\n",
    "test_sub = pd.read_csv('./src/test.csv')\n",
    "test_sub.head()\n",
    "\n",
    "# Preprocess test data\n",
    "test_sub = preprocess.transform(test_sub)\n",
    "test_sub\n",
    "\n",
    "# Prediction on test data\n",
    "test_sub_pred = logreg.predict_proba(test_sub)[:, 1]\n",
    "test_sub_pred\n",
    "\n",
    "# Save prediction\n",
    "submission = pd.DataFrame({'LABEL': test_sub_pred})\n",
    "submission.reset_index(inplace=True)\n",
    "submission.to_csv('./src/submission_b.csv', index=False)\n"
   ]
  },
  {
   "cell_type": "markdown",
   "metadata": {},
   "source": [
    "## Random Over Sampling"
   ]
  },
  {
   "cell_type": "code",
   "execution_count": 19,
   "metadata": {},
   "outputs": [],
   "source": [
    "# Random over sampling to balance the dataset\n",
    "data_os = data.copy()\n",
    "ros = RandomOverSampler(sampling_strategy='minority')\n",
    "X_os= data_os[features_label]\n",
    "Y_os= data_os['LABEL']\n",
    "X_res, Y_res = ros.fit_resample(X_os, Y_os)\n",
    "data_os = pd.concat([X_res, Y_res], axis=1)\n",
    "data_os.reset_index(inplace=True, drop=True)"
   ]
  },
  {
   "cell_type": "code",
   "execution_count": 20,
   "metadata": {},
   "outputs": [
    {
     "data": {
      "text/html": [
       "<div>\n",
       "<style scoped>\n",
       "    .dataframe tbody tr th:only-of-type {\n",
       "        vertical-align: middle;\n",
       "    }\n",
       "\n",
       "    .dataframe tbody tr th {\n",
       "        vertical-align: top;\n",
       "    }\n",
       "\n",
       "    .dataframe thead th {\n",
       "        text-align: right;\n",
       "    }\n",
       "</style>\n",
       "<table border=\"1\" class=\"dataframe\">\n",
       "  <thead>\n",
       "    <tr style=\"text-align: right;\">\n",
       "      <th></th>\n",
       "      <th>ID_PRODUCT</th>\n",
       "      <th>ID_SELLER</th>\n",
       "      <th>ID_SELLER_COUNTRY</th>\n",
       "      <th>SELLER_GEO_1</th>\n",
       "      <th>SELLER_GEO_2</th>\n",
       "      <th>SELLER_GEO_3</th>\n",
       "      <th>DEPOSIT_PRICE</th>\n",
       "      <th>INSERTION_PRICE</th>\n",
       "      <th>PRICE</th>\n",
       "      <th>RECO_PRICE</th>\n",
       "      <th>...</th>\n",
       "      <th>TOTAL_TRK_1D</th>\n",
       "      <th>TOTAL_TRK_7D</th>\n",
       "      <th>TOTAL_TRK_30D</th>\n",
       "      <th>NB_DROP_SELLER_1D</th>\n",
       "      <th>NB_DROP_SELLER_7D</th>\n",
       "      <th>NB_DROP_SELLER_30D</th>\n",
       "      <th>NB_WIDTHDRAW_SELLER_1D</th>\n",
       "      <th>NB_WIDTHDRAW_SELLER_7D</th>\n",
       "      <th>NB_WIDTHDRAW_SELLER_30D</th>\n",
       "      <th>LABEL</th>\n",
       "    </tr>\n",
       "  </thead>\n",
       "  <tbody>\n",
       "    <tr>\n",
       "      <th>0</th>\n",
       "      <td>f398701175db97ad9f9ae4f061a8c7d7ef4da505708f0b...</td>\n",
       "      <td>904fc91a25b0630028eaaf0941b228a62f9341eadde903...</td>\n",
       "      <td>1253e9373e781b7500266caa55150e08e210bc8cd8cc70...</td>\n",
       "      <td>7e3a78f9aa16d14453f363271db2973b903b3949684f0f...</td>\n",
       "      <td>cf62a64b8a54fd96e70623b69429a70e1ba0e0ef9b502c...</td>\n",
       "      <td>5a9cf672c8be6b5ab9546a2fb49b06dd81a4e364c86ed0...</td>\n",
       "      <td>78.000000</td>\n",
       "      <td>78.000000</td>\n",
       "      <td>67.000000</td>\n",
       "      <td>52.0</td>\n",
       "      <td>...</td>\n",
       "      <td>0</td>\n",
       "      <td>8</td>\n",
       "      <td>26</td>\n",
       "      <td>0</td>\n",
       "      <td>0</td>\n",
       "      <td>0</td>\n",
       "      <td>0</td>\n",
       "      <td>0</td>\n",
       "      <td>0</td>\n",
       "      <td>0</td>\n",
       "    </tr>\n",
       "    <tr>\n",
       "      <th>1</th>\n",
       "      <td>7e0544c102ef705f3939dacb080bb23686355879c3ac77...</td>\n",
       "      <td>216fce1cec515e792bd2d5aa5c68ac84d8118ad11823fb...</td>\n",
       "      <td>eb624dbe56eb6620ae62080c10a273cab73ae8eca98ab1...</td>\n",
       "      <td>7e3a78f9aa16d14453f363271db2973b903b3949684f0f...</td>\n",
       "      <td>09fbaf8891f39040036484a565bfc3f832713ce3f2d22b...</td>\n",
       "      <td>7a1ca4ef7515f7276bae7230545829c27810c9d9e98ab2...</td>\n",
       "      <td>258.000000</td>\n",
       "      <td>262.000000</td>\n",
       "      <td>118.000000</td>\n",
       "      <td>94.0</td>\n",
       "      <td>...</td>\n",
       "      <td>39</td>\n",
       "      <td>154</td>\n",
       "      <td>612</td>\n",
       "      <td>2</td>\n",
       "      <td>25</td>\n",
       "      <td>123</td>\n",
       "      <td>0</td>\n",
       "      <td>5</td>\n",
       "      <td>5</td>\n",
       "      <td>0</td>\n",
       "    </tr>\n",
       "    <tr>\n",
       "      <th>2</th>\n",
       "      <td>fe9ca89ffb93396c469674056158d6ddfe10e94efb3807...</td>\n",
       "      <td>562a34b067f011d9736069d692be44aeb624a7d8b6eba6...</td>\n",
       "      <td>eb624dbe56eb6620ae62080c10a273cab73ae8eca98ab1...</td>\n",
       "      <td>7e3a78f9aa16d14453f363271db2973b903b3949684f0f...</td>\n",
       "      <td>09fbaf8891f39040036484a565bfc3f832713ce3f2d22b...</td>\n",
       "      <td>7a1ca4ef7515f7276bae7230545829c27810c9d9e98ab2...</td>\n",
       "      <td>478.000000</td>\n",
       "      <td>478.000000</td>\n",
       "      <td>232.000000</td>\n",
       "      <td>2.0</td>\n",
       "      <td>...</td>\n",
       "      <td>12</td>\n",
       "      <td>75</td>\n",
       "      <td>113</td>\n",
       "      <td>1</td>\n",
       "      <td>11</td>\n",
       "      <td>16</td>\n",
       "      <td>0</td>\n",
       "      <td>2</td>\n",
       "      <td>2</td>\n",
       "      <td>0</td>\n",
       "    </tr>\n",
       "    <tr>\n",
       "      <th>3</th>\n",
       "      <td>66832d4bbd55c568753a6ec237f8aa213c0cf55929a544...</td>\n",
       "      <td>90c4e50ebbc3dd146dc2852b2b8d428c23fb4eebfee02e...</td>\n",
       "      <td>56f4da26ed956730309fa1488611ee0f13b0ac95ebb1bc...</td>\n",
       "      <td>2099c82f0bcc1c13c9ecc9dd8848c23916cf0eea8f7eef...</td>\n",
       "      <td>9b202ecbc6d45c6d8901d989a918878397a3eb9d00e8f4...</td>\n",
       "      <td>49dca65f362fee401292ed7ada96f96295eab1e589c52e...</td>\n",
       "      <td>350.473498</td>\n",
       "      <td>354.473498</td>\n",
       "      <td>287.256198</td>\n",
       "      <td>0.0</td>\n",
       "      <td>...</td>\n",
       "      <td>4</td>\n",
       "      <td>6</td>\n",
       "      <td>8</td>\n",
       "      <td>0</td>\n",
       "      <td>0</td>\n",
       "      <td>4</td>\n",
       "      <td>0</td>\n",
       "      <td>0</td>\n",
       "      <td>1</td>\n",
       "      <td>0</td>\n",
       "    </tr>\n",
       "    <tr>\n",
       "      <th>4</th>\n",
       "      <td>72a3d1f2ed0a526408159da9bb5bb584790eed9ff6d074...</td>\n",
       "      <td>adb633b0e58e3969d4dc099e4b8beb734282f3bcbbd77d...</td>\n",
       "      <td>eb624dbe56eb6620ae62080c10a273cab73ae8eca98ab1...</td>\n",
       "      <td>7e3a78f9aa16d14453f363271db2973b903b3949684f0f...</td>\n",
       "      <td>09fbaf8891f39040036484a565bfc3f832713ce3f2d22b...</td>\n",
       "      <td>7a1ca4ef7515f7276bae7230545829c27810c9d9e98ab2...</td>\n",
       "      <td>91.000000</td>\n",
       "      <td>91.000000</td>\n",
       "      <td>72.000000</td>\n",
       "      <td>86.0</td>\n",
       "      <td>...</td>\n",
       "      <td>18</td>\n",
       "      <td>91</td>\n",
       "      <td>373</td>\n",
       "      <td>2</td>\n",
       "      <td>8</td>\n",
       "      <td>33</td>\n",
       "      <td>0</td>\n",
       "      <td>0</td>\n",
       "      <td>4</td>\n",
       "      <td>0</td>\n",
       "    </tr>\n",
       "    <tr>\n",
       "      <th>...</th>\n",
       "      <td>...</td>\n",
       "      <td>...</td>\n",
       "      <td>...</td>\n",
       "      <td>...</td>\n",
       "      <td>...</td>\n",
       "      <td>...</td>\n",
       "      <td>...</td>\n",
       "      <td>...</td>\n",
       "      <td>...</td>\n",
       "      <td>...</td>\n",
       "      <td>...</td>\n",
       "      <td>...</td>\n",
       "      <td>...</td>\n",
       "      <td>...</td>\n",
       "      <td>...</td>\n",
       "      <td>...</td>\n",
       "      <td>...</td>\n",
       "      <td>...</td>\n",
       "      <td>...</td>\n",
       "      <td>...</td>\n",
       "      <td>...</td>\n",
       "    </tr>\n",
       "    <tr>\n",
       "      <th>743421</th>\n",
       "      <td>53c46c7b4c15c7da36d2c34ee15bfd88721a0a3949f971...</td>\n",
       "      <td>e3c1d15fd034c4e09a0a02b92beb62b3dbd2bc46612bb3...</td>\n",
       "      <td>eb624dbe56eb6620ae62080c10a273cab73ae8eca98ab1...</td>\n",
       "      <td>7e3a78f9aa16d14453f363271db2973b903b3949684f0f...</td>\n",
       "      <td>09fbaf8891f39040036484a565bfc3f832713ce3f2d22b...</td>\n",
       "      <td>7a1ca4ef7515f7276bae7230545829c27810c9d9e98ab2...</td>\n",
       "      <td>28.000000</td>\n",
       "      <td>32.000000</td>\n",
       "      <td>32.000000</td>\n",
       "      <td>501.0</td>\n",
       "      <td>...</td>\n",
       "      <td>14</td>\n",
       "      <td>28</td>\n",
       "      <td>28</td>\n",
       "      <td>0</td>\n",
       "      <td>0</td>\n",
       "      <td>0</td>\n",
       "      <td>0</td>\n",
       "      <td>0</td>\n",
       "      <td>0</td>\n",
       "      <td>1</td>\n",
       "    </tr>\n",
       "    <tr>\n",
       "      <th>743422</th>\n",
       "      <td>5b71cc0a4810caba703c6ef025483a2d3cdc5e7d910426...</td>\n",
       "      <td>765cd142edcb4716bb24ded7658102b96d8288df561a2a...</td>\n",
       "      <td>1253e9373e781b7500266caa55150e08e210bc8cd8cc70...</td>\n",
       "      <td>7e3a78f9aa16d14453f363271db2973b903b3949684f0f...</td>\n",
       "      <td>cf62a64b8a54fd96e70623b69429a70e1ba0e0ef9b502c...</td>\n",
       "      <td>5a9cf672c8be6b5ab9546a2fb49b06dd81a4e364c86ed0...</td>\n",
       "      <td>38.000000</td>\n",
       "      <td>34.000000</td>\n",
       "      <td>24.000000</td>\n",
       "      <td>34.0</td>\n",
       "      <td>...</td>\n",
       "      <td>6</td>\n",
       "      <td>24</td>\n",
       "      <td>90</td>\n",
       "      <td>0</td>\n",
       "      <td>1</td>\n",
       "      <td>2</td>\n",
       "      <td>0</td>\n",
       "      <td>0</td>\n",
       "      <td>0</td>\n",
       "      <td>1</td>\n",
       "    </tr>\n",
       "    <tr>\n",
       "      <th>743423</th>\n",
       "      <td>4e9e6ce9bf9d3101e3a1ce9d6cba67691d2ccb0ee365ea...</td>\n",
       "      <td>30cda959af0854cadcdc48290eca6b9e04e82f64d04902...</td>\n",
       "      <td>1253e9373e781b7500266caa55150e08e210bc8cd8cc70...</td>\n",
       "      <td>7e3a78f9aa16d14453f363271db2973b903b3949684f0f...</td>\n",
       "      <td>cf62a64b8a54fd96e70623b69429a70e1ba0e0ef9b502c...</td>\n",
       "      <td>5a9cf672c8be6b5ab9546a2fb49b06dd81a4e364c86ed0...</td>\n",
       "      <td>113.000000</td>\n",
       "      <td>113.000000</td>\n",
       "      <td>89.000000</td>\n",
       "      <td>141.0</td>\n",
       "      <td>...</td>\n",
       "      <td>24</td>\n",
       "      <td>88</td>\n",
       "      <td>413</td>\n",
       "      <td>0</td>\n",
       "      <td>8</td>\n",
       "      <td>16</td>\n",
       "      <td>0</td>\n",
       "      <td>0</td>\n",
       "      <td>3</td>\n",
       "      <td>1</td>\n",
       "    </tr>\n",
       "    <tr>\n",
       "      <th>743424</th>\n",
       "      <td>61b30cf154431e3b9df82ef3686b988cfc499f010a2a3b...</td>\n",
       "      <td>409864969641bce283c1ede88ad851929e277c445fca67...</td>\n",
       "      <td>eb624dbe56eb6620ae62080c10a273cab73ae8eca98ab1...</td>\n",
       "      <td>7e3a78f9aa16d14453f363271db2973b903b3949684f0f...</td>\n",
       "      <td>09fbaf8891f39040036484a565bfc3f832713ce3f2d22b...</td>\n",
       "      <td>7a1ca4ef7515f7276bae7230545829c27810c9d9e98ab2...</td>\n",
       "      <td>1202.000000</td>\n",
       "      <td>1202.000000</td>\n",
       "      <td>902.000000</td>\n",
       "      <td>837.0</td>\n",
       "      <td>...</td>\n",
       "      <td>18</td>\n",
       "      <td>29</td>\n",
       "      <td>53</td>\n",
       "      <td>0</td>\n",
       "      <td>0</td>\n",
       "      <td>0</td>\n",
       "      <td>0</td>\n",
       "      <td>0</td>\n",
       "      <td>0</td>\n",
       "      <td>1</td>\n",
       "    </tr>\n",
       "    <tr>\n",
       "      <th>743425</th>\n",
       "      <td>712fa0e4efc43df1170197c2f7eb39be7c806dcfb101fc...</td>\n",
       "      <td>81e77e991c3749c0315f61e4d0eb66bb0e56bdc75f1672...</td>\n",
       "      <td>9b871512327c09ce91dd649b3f96a63b7408ef267c8cc5...</td>\n",
       "      <td>7e3a78f9aa16d14453f363271db2973b903b3949684f0f...</td>\n",
       "      <td>e7d529decf2effa45e405e83edd0d9b4b82f6ad2a1b95d...</td>\n",
       "      <td>8d23a6e37e0a6431a8f1b43a91026dcff51170a89a6512...</td>\n",
       "      <td>5928.011862</td>\n",
       "      <td>5928.011862</td>\n",
       "      <td>3331.341365</td>\n",
       "      <td>2554.0</td>\n",
       "      <td>...</td>\n",
       "      <td>2</td>\n",
       "      <td>8</td>\n",
       "      <td>21</td>\n",
       "      <td>0</td>\n",
       "      <td>0</td>\n",
       "      <td>0</td>\n",
       "      <td>0</td>\n",
       "      <td>0</td>\n",
       "      <td>0</td>\n",
       "      <td>1</td>\n",
       "    </tr>\n",
       "  </tbody>\n",
       "</table>\n",
       "<p>743426 rows × 86 columns</p>\n",
       "</div>"
      ],
      "text/plain": [
       "                                               ID_PRODUCT  \\\n",
       "0       f398701175db97ad9f9ae4f061a8c7d7ef4da505708f0b...   \n",
       "1       7e0544c102ef705f3939dacb080bb23686355879c3ac77...   \n",
       "2       fe9ca89ffb93396c469674056158d6ddfe10e94efb3807...   \n",
       "3       66832d4bbd55c568753a6ec237f8aa213c0cf55929a544...   \n",
       "4       72a3d1f2ed0a526408159da9bb5bb584790eed9ff6d074...   \n",
       "...                                                   ...   \n",
       "743421  53c46c7b4c15c7da36d2c34ee15bfd88721a0a3949f971...   \n",
       "743422  5b71cc0a4810caba703c6ef025483a2d3cdc5e7d910426...   \n",
       "743423  4e9e6ce9bf9d3101e3a1ce9d6cba67691d2ccb0ee365ea...   \n",
       "743424  61b30cf154431e3b9df82ef3686b988cfc499f010a2a3b...   \n",
       "743425  712fa0e4efc43df1170197c2f7eb39be7c806dcfb101fc...   \n",
       "\n",
       "                                                ID_SELLER  \\\n",
       "0       904fc91a25b0630028eaaf0941b228a62f9341eadde903...   \n",
       "1       216fce1cec515e792bd2d5aa5c68ac84d8118ad11823fb...   \n",
       "2       562a34b067f011d9736069d692be44aeb624a7d8b6eba6...   \n",
       "3       90c4e50ebbc3dd146dc2852b2b8d428c23fb4eebfee02e...   \n",
       "4       adb633b0e58e3969d4dc099e4b8beb734282f3bcbbd77d...   \n",
       "...                                                   ...   \n",
       "743421  e3c1d15fd034c4e09a0a02b92beb62b3dbd2bc46612bb3...   \n",
       "743422  765cd142edcb4716bb24ded7658102b96d8288df561a2a...   \n",
       "743423  30cda959af0854cadcdc48290eca6b9e04e82f64d04902...   \n",
       "743424  409864969641bce283c1ede88ad851929e277c445fca67...   \n",
       "743425  81e77e991c3749c0315f61e4d0eb66bb0e56bdc75f1672...   \n",
       "\n",
       "                                        ID_SELLER_COUNTRY  \\\n",
       "0       1253e9373e781b7500266caa55150e08e210bc8cd8cc70...   \n",
       "1       eb624dbe56eb6620ae62080c10a273cab73ae8eca98ab1...   \n",
       "2       eb624dbe56eb6620ae62080c10a273cab73ae8eca98ab1...   \n",
       "3       56f4da26ed956730309fa1488611ee0f13b0ac95ebb1bc...   \n",
       "4       eb624dbe56eb6620ae62080c10a273cab73ae8eca98ab1...   \n",
       "...                                                   ...   \n",
       "743421  eb624dbe56eb6620ae62080c10a273cab73ae8eca98ab1...   \n",
       "743422  1253e9373e781b7500266caa55150e08e210bc8cd8cc70...   \n",
       "743423  1253e9373e781b7500266caa55150e08e210bc8cd8cc70...   \n",
       "743424  eb624dbe56eb6620ae62080c10a273cab73ae8eca98ab1...   \n",
       "743425  9b871512327c09ce91dd649b3f96a63b7408ef267c8cc5...   \n",
       "\n",
       "                                             SELLER_GEO_1  \\\n",
       "0       7e3a78f9aa16d14453f363271db2973b903b3949684f0f...   \n",
       "1       7e3a78f9aa16d14453f363271db2973b903b3949684f0f...   \n",
       "2       7e3a78f9aa16d14453f363271db2973b903b3949684f0f...   \n",
       "3       2099c82f0bcc1c13c9ecc9dd8848c23916cf0eea8f7eef...   \n",
       "4       7e3a78f9aa16d14453f363271db2973b903b3949684f0f...   \n",
       "...                                                   ...   \n",
       "743421  7e3a78f9aa16d14453f363271db2973b903b3949684f0f...   \n",
       "743422  7e3a78f9aa16d14453f363271db2973b903b3949684f0f...   \n",
       "743423  7e3a78f9aa16d14453f363271db2973b903b3949684f0f...   \n",
       "743424  7e3a78f9aa16d14453f363271db2973b903b3949684f0f...   \n",
       "743425  7e3a78f9aa16d14453f363271db2973b903b3949684f0f...   \n",
       "\n",
       "                                             SELLER_GEO_2  \\\n",
       "0       cf62a64b8a54fd96e70623b69429a70e1ba0e0ef9b502c...   \n",
       "1       09fbaf8891f39040036484a565bfc3f832713ce3f2d22b...   \n",
       "2       09fbaf8891f39040036484a565bfc3f832713ce3f2d22b...   \n",
       "3       9b202ecbc6d45c6d8901d989a918878397a3eb9d00e8f4...   \n",
       "4       09fbaf8891f39040036484a565bfc3f832713ce3f2d22b...   \n",
       "...                                                   ...   \n",
       "743421  09fbaf8891f39040036484a565bfc3f832713ce3f2d22b...   \n",
       "743422  cf62a64b8a54fd96e70623b69429a70e1ba0e0ef9b502c...   \n",
       "743423  cf62a64b8a54fd96e70623b69429a70e1ba0e0ef9b502c...   \n",
       "743424  09fbaf8891f39040036484a565bfc3f832713ce3f2d22b...   \n",
       "743425  e7d529decf2effa45e405e83edd0d9b4b82f6ad2a1b95d...   \n",
       "\n",
       "                                             SELLER_GEO_3  DEPOSIT_PRICE  \\\n",
       "0       5a9cf672c8be6b5ab9546a2fb49b06dd81a4e364c86ed0...      78.000000   \n",
       "1       7a1ca4ef7515f7276bae7230545829c27810c9d9e98ab2...     258.000000   \n",
       "2       7a1ca4ef7515f7276bae7230545829c27810c9d9e98ab2...     478.000000   \n",
       "3       49dca65f362fee401292ed7ada96f96295eab1e589c52e...     350.473498   \n",
       "4       7a1ca4ef7515f7276bae7230545829c27810c9d9e98ab2...      91.000000   \n",
       "...                                                   ...            ...   \n",
       "743421  7a1ca4ef7515f7276bae7230545829c27810c9d9e98ab2...      28.000000   \n",
       "743422  5a9cf672c8be6b5ab9546a2fb49b06dd81a4e364c86ed0...      38.000000   \n",
       "743423  5a9cf672c8be6b5ab9546a2fb49b06dd81a4e364c86ed0...     113.000000   \n",
       "743424  7a1ca4ef7515f7276bae7230545829c27810c9d9e98ab2...    1202.000000   \n",
       "743425  8d23a6e37e0a6431a8f1b43a91026dcff51170a89a6512...    5928.011862   \n",
       "\n",
       "        INSERTION_PRICE        PRICE  RECO_PRICE  ...  TOTAL_TRK_1D  \\\n",
       "0             78.000000    67.000000        52.0  ...             0   \n",
       "1            262.000000   118.000000        94.0  ...            39   \n",
       "2            478.000000   232.000000         2.0  ...            12   \n",
       "3            354.473498   287.256198         0.0  ...             4   \n",
       "4             91.000000    72.000000        86.0  ...            18   \n",
       "...                 ...          ...         ...  ...           ...   \n",
       "743421        32.000000    32.000000       501.0  ...            14   \n",
       "743422        34.000000    24.000000        34.0  ...             6   \n",
       "743423       113.000000    89.000000       141.0  ...            24   \n",
       "743424      1202.000000   902.000000       837.0  ...            18   \n",
       "743425      5928.011862  3331.341365      2554.0  ...             2   \n",
       "\n",
       "       TOTAL_TRK_7D  TOTAL_TRK_30D NB_DROP_SELLER_1D NB_DROP_SELLER_7D  \\\n",
       "0                 8             26                 0                 0   \n",
       "1               154            612                 2                25   \n",
       "2                75            113                 1                11   \n",
       "3                 6              8                 0                 0   \n",
       "4                91            373                 2                 8   \n",
       "...             ...            ...               ...               ...   \n",
       "743421           28             28                 0                 0   \n",
       "743422           24             90                 0                 1   \n",
       "743423           88            413                 0                 8   \n",
       "743424           29             53                 0                 0   \n",
       "743425            8             21                 0                 0   \n",
       "\n",
       "       NB_DROP_SELLER_30D NB_WIDTHDRAW_SELLER_1D NB_WIDTHDRAW_SELLER_7D  \\\n",
       "0                       0                      0                      0   \n",
       "1                     123                      0                      5   \n",
       "2                      16                      0                      2   \n",
       "3                       4                      0                      0   \n",
       "4                      33                      0                      0   \n",
       "...                   ...                    ...                    ...   \n",
       "743421                  0                      0                      0   \n",
       "743422                  2                      0                      0   \n",
       "743423                 16                      0                      0   \n",
       "743424                  0                      0                      0   \n",
       "743425                  0                      0                      0   \n",
       "\n",
       "       NB_WIDTHDRAW_SELLER_30D LABEL  \n",
       "0                            0     0  \n",
       "1                            5     0  \n",
       "2                            2     0  \n",
       "3                            1     0  \n",
       "4                            4     0  \n",
       "...                        ...   ...  \n",
       "743421                       0     1  \n",
       "743422                       0     1  \n",
       "743423                       3     1  \n",
       "743424                       0     1  \n",
       "743425                       0     1  \n",
       "\n",
       "[743426 rows x 86 columns]"
      ]
     },
     "execution_count": 20,
     "metadata": {},
     "output_type": "execute_result"
    }
   ],
   "source": [
    "data_os"
   ]
  },
  {
   "cell_type": "markdown",
   "metadata": {},
   "source": [
    "### Preprocessing on oversampled data"
   ]
  },
  {
   "cell_type": "code",
   "execution_count": 21,
   "metadata": {},
   "outputs": [],
   "source": [
    "# preprocess data\n",
    "X_os = data_os[features_label]\n",
    "Y_os = data_os['LABEL']\n",
    "\n",
    "num_transformer = Pipeline(steps=[\n",
    "    ('imputer', SimpleImputer(strategy='median')),\n",
    "    ('scaler', StandardScaler())\n",
    "])\n",
    "cat_transformer = Pipeline(steps=[\n",
    "    ('imputer', SimpleImputer(strategy='most_frequent')),\n",
    "    ('encoder', OneHotEncoder(drop='first', handle_unknown='ignore'))\n",
    "])\n",
    "preprocess_os = ColumnTransformer(\n",
    "    transformers=[\n",
    "        ('num', num_transformer, numerical_label),\n",
    "        ('cat', cat_transformer, categorical_label)\n",
    "    ])\n",
    "X_os = preprocess_os.fit_transform(X_os)"
   ]
  },
  {
   "cell_type": "code",
   "execution_count": 22,
   "metadata": {},
   "outputs": [],
   "source": [
    "# Train test split\n",
    "X_train_os, X_test_os, Y_train_os, Y_test_os = train_test_split(X_os, Y_os, test_size=0.2, random_state=42, stratify=Y_os)"
   ]
  },
  {
   "cell_type": "markdown",
   "metadata": {},
   "source": [
    "### Train model"
   ]
  },
  {
   "cell_type": "code",
   "execution_count": 23,
   "metadata": {},
   "outputs": [
    {
     "name": "stderr",
     "output_type": "stream",
     "text": [
      "c:\\Users\\shexx\\anaconda3\\lib\\site-packages\\sklearn\\linear_model\\_logistic.py:444: ConvergenceWarning: lbfgs failed to converge (status=1):\n",
      "STOP: TOTAL NO. of ITERATIONS REACHED LIMIT.\n",
      "\n",
      "Increase the number of iterations (max_iter) or scale the data as shown in:\n",
      "    https://scikit-learn.org/stable/modules/preprocessing.html\n",
      "Please also refer to the documentation for alternative solver options:\n",
      "    https://scikit-learn.org/stable/modules/linear_model.html#logistic-regression\n",
      "  n_iter_i = _check_optimize_result(\n"
     ]
    },
    {
     "data": {
      "text/html": [
       "<style>#sk-container-id-2 {color: black;background-color: white;}#sk-container-id-2 pre{padding: 0;}#sk-container-id-2 div.sk-toggleable {background-color: white;}#sk-container-id-2 label.sk-toggleable__label {cursor: pointer;display: block;width: 100%;margin-bottom: 0;padding: 0.3em;box-sizing: border-box;text-align: center;}#sk-container-id-2 label.sk-toggleable__label-arrow:before {content: \"▸\";float: left;margin-right: 0.25em;color: #696969;}#sk-container-id-2 label.sk-toggleable__label-arrow:hover:before {color: black;}#sk-container-id-2 div.sk-estimator:hover label.sk-toggleable__label-arrow:before {color: black;}#sk-container-id-2 div.sk-toggleable__content {max-height: 0;max-width: 0;overflow: hidden;text-align: left;background-color: #f0f8ff;}#sk-container-id-2 div.sk-toggleable__content pre {margin: 0.2em;color: black;border-radius: 0.25em;background-color: #f0f8ff;}#sk-container-id-2 input.sk-toggleable__control:checked~div.sk-toggleable__content {max-height: 200px;max-width: 100%;overflow: auto;}#sk-container-id-2 input.sk-toggleable__control:checked~label.sk-toggleable__label-arrow:before {content: \"▾\";}#sk-container-id-2 div.sk-estimator input.sk-toggleable__control:checked~label.sk-toggleable__label {background-color: #d4ebff;}#sk-container-id-2 div.sk-label input.sk-toggleable__control:checked~label.sk-toggleable__label {background-color: #d4ebff;}#sk-container-id-2 input.sk-hidden--visually {border: 0;clip: rect(1px 1px 1px 1px);clip: rect(1px, 1px, 1px, 1px);height: 1px;margin: -1px;overflow: hidden;padding: 0;position: absolute;width: 1px;}#sk-container-id-2 div.sk-estimator {font-family: monospace;background-color: #f0f8ff;border: 1px dotted black;border-radius: 0.25em;box-sizing: border-box;margin-bottom: 0.5em;}#sk-container-id-2 div.sk-estimator:hover {background-color: #d4ebff;}#sk-container-id-2 div.sk-parallel-item::after {content: \"\";width: 100%;border-bottom: 1px solid gray;flex-grow: 1;}#sk-container-id-2 div.sk-label:hover label.sk-toggleable__label {background-color: #d4ebff;}#sk-container-id-2 div.sk-serial::before {content: \"\";position: absolute;border-left: 1px solid gray;box-sizing: border-box;top: 0;bottom: 0;left: 50%;z-index: 0;}#sk-container-id-2 div.sk-serial {display: flex;flex-direction: column;align-items: center;background-color: white;padding-right: 0.2em;padding-left: 0.2em;position: relative;}#sk-container-id-2 div.sk-item {position: relative;z-index: 1;}#sk-container-id-2 div.sk-parallel {display: flex;align-items: stretch;justify-content: center;background-color: white;position: relative;}#sk-container-id-2 div.sk-item::before, #sk-container-id-2 div.sk-parallel-item::before {content: \"\";position: absolute;border-left: 1px solid gray;box-sizing: border-box;top: 0;bottom: 0;left: 50%;z-index: -1;}#sk-container-id-2 div.sk-parallel-item {display: flex;flex-direction: column;z-index: 1;position: relative;background-color: white;}#sk-container-id-2 div.sk-parallel-item:first-child::after {align-self: flex-end;width: 50%;}#sk-container-id-2 div.sk-parallel-item:last-child::after {align-self: flex-start;width: 50%;}#sk-container-id-2 div.sk-parallel-item:only-child::after {width: 0;}#sk-container-id-2 div.sk-dashed-wrapped {border: 1px dashed gray;margin: 0 0.4em 0.5em 0.4em;box-sizing: border-box;padding-bottom: 0.4em;background-color: white;}#sk-container-id-2 div.sk-label label {font-family: monospace;font-weight: bold;display: inline-block;line-height: 1.2em;}#sk-container-id-2 div.sk-label-container {text-align: center;}#sk-container-id-2 div.sk-container {/* jupyter's `normalize.less` sets `[hidden] { display: none; }` but bootstrap.min.css set `[hidden] { display: none !important; }` so we also need the `!important` here to be able to override the default hidden behavior on the sphinx rendered scikit-learn.org. See: https://github.com/scikit-learn/scikit-learn/issues/21755 */display: inline-block !important;position: relative;}#sk-container-id-2 div.sk-text-repr-fallback {display: none;}</style><div id=\"sk-container-id-2\" class=\"sk-top-container\"><div class=\"sk-text-repr-fallback\"><pre>LogisticRegression()</pre><b>In a Jupyter environment, please rerun this cell to show the HTML representation or trust the notebook. <br />On GitHub, the HTML representation is unable to render, please try loading this page with nbviewer.org.</b></div><div class=\"sk-container\" hidden><div class=\"sk-item\"><div class=\"sk-estimator sk-toggleable\"><input class=\"sk-toggleable__control sk-hidden--visually\" id=\"sk-estimator-id-2\" type=\"checkbox\" checked><label for=\"sk-estimator-id-2\" class=\"sk-toggleable__label sk-toggleable__label-arrow\">LogisticRegression</label><div class=\"sk-toggleable__content\"><pre>LogisticRegression()</pre></div></div></div></div></div>"
      ],
      "text/plain": [
       "LogisticRegression()"
      ]
     },
     "execution_count": 23,
     "metadata": {},
     "output_type": "execute_result"
    }
   ],
   "source": [
    "# Train logistic regression on oversampled data\n",
    "logreg_os = LogisticRegression()\n",
    "logreg_os.fit(X_train_os, Y_train_os)\n"
   ]
  },
  {
   "cell_type": "code",
   "execution_count": 24,
   "metadata": {},
   "outputs": [],
   "source": [
    "# Predictions in probabilities\n",
    "Y_pred_proba_train_os = logreg_os.predict_proba(X_train_os)\n",
    "Y_pred_proba_test_os = logreg_os.predict_proba(X_test_os)"
   ]
  },
  {
   "cell_type": "markdown",
   "metadata": {},
   "source": [
    "### Score"
   ]
  },
  {
   "cell_type": "code",
   "execution_count": 25,
   "metadata": {},
   "outputs": [
    {
     "name": "stdout",
     "output_type": "stream",
     "text": [
      "Average precision score on train set:  0.8370707589170924\n",
      "Average precision score on test set:  0.8108961578566243\n"
     ]
    }
   ],
   "source": [
    "# Average precision score\n",
    "print('Average precision score on train set: ', average_precision_score(Y_train_os, Y_pred_proba_train_os[:,1]))\n",
    "print('Average precision score on test set: ', average_precision_score(Y_test_os, Y_pred_proba_test_os[:,1]))"
   ]
  },
  {
   "cell_type": "markdown",
   "metadata": {},
   "source": [
    "### Save model"
   ]
  },
  {
   "cell_type": "code",
   "execution_count": 26,
   "metadata": {},
   "outputs": [
    {
     "data": {
      "text/plain": [
       "['./src/logreg_model_os.pkl']"
      ]
     },
     "execution_count": 26,
     "metadata": {},
     "output_type": "execute_result"
    }
   ],
   "source": [
    "# save the model to disk\n",
    "filename = './src/logreg_model_os.pkl'\n",
    "joblib.dump(logreg_os, filename)"
   ]
  },
  {
   "cell_type": "markdown",
   "metadata": {},
   "source": [
    "### Submission"
   ]
  },
  {
   "cell_type": "code",
   "execution_count": 27,
   "metadata": {},
   "outputs": [
    {
     "name": "stderr",
     "output_type": "stream",
     "text": [
      "c:\\Users\\shexx\\anaconda3\\lib\\site-packages\\sklearn\\preprocessing\\_encoders.py:188: UserWarning: Found unknown categories in columns [0, 1, 2, 8, 9, 14, 15, 17, 20] during transform. These unknown categories will be encoded as all zeros\n",
      "  warnings.warn(\n"
     ]
    }
   ],
   "source": [
    "# Load submission data\n",
    "test_sub = pd.read_csv('./src/test.csv')\n",
    "test_sub.head()\n",
    "\n",
    "# Preprocess test data\n",
    "test_sub = preprocess.transform(test_sub)\n",
    "test_sub\n",
    "\n",
    "# Prediction on test data\n",
    "test_sub_pred = logreg_os.predict_proba(test_sub)[:, 1]\n",
    "test_sub_pred\n",
    "\n",
    "# Save prediction\n",
    "submission = pd.DataFrame({'LABEL': test_sub_pred})\n",
    "submission.reset_index(inplace=True)\n",
    "submission.to_csv('./src/submission_os.csv', index=False)"
   ]
  },
  {
   "cell_type": "markdown",
   "metadata": {},
   "source": [
    " * The oversampling didn't help much on submission score\n",
    " * We've tryed several preprocessing method such as removing columns, feature engineering, removing outliers... But everything seems to lower the score\n",
    " * so we'll get back to the original dataset"
   ]
  },
  {
   "cell_type": "markdown",
   "metadata": {},
   "source": [
    "## Grid search on AdaBoost Model"
   ]
  },
  {
   "cell_type": "markdown",
   "metadata": {},
   "source": [
    "### Grid model"
   ]
  },
  {
   "cell_type": "code",
   "execution_count": 28,
   "metadata": {},
   "outputs": [
    {
     "name": "stdout",
     "output_type": "stream",
     "text": [
      "Fitting 2 folds for each of 2 candidates, totalling 4 fits\n",
      "[CV] END ....................................n_estimators=50; total time=87.4min\n",
      "[CV] END ...................................n_estimators=50; total time=124.3min\n",
      "[CV] END ..................................n_estimators=100; total time=191.0min\n",
      "[CV] END ..................................n_estimators=100; total time=172.4min\n"
     ]
    },
    {
     "data": {
      "text/html": [
       "<style>#sk-container-id-3 {color: black;background-color: white;}#sk-container-id-3 pre{padding: 0;}#sk-container-id-3 div.sk-toggleable {background-color: white;}#sk-container-id-3 label.sk-toggleable__label {cursor: pointer;display: block;width: 100%;margin-bottom: 0;padding: 0.3em;box-sizing: border-box;text-align: center;}#sk-container-id-3 label.sk-toggleable__label-arrow:before {content: \"▸\";float: left;margin-right: 0.25em;color: #696969;}#sk-container-id-3 label.sk-toggleable__label-arrow:hover:before {color: black;}#sk-container-id-3 div.sk-estimator:hover label.sk-toggleable__label-arrow:before {color: black;}#sk-container-id-3 div.sk-toggleable__content {max-height: 0;max-width: 0;overflow: hidden;text-align: left;background-color: #f0f8ff;}#sk-container-id-3 div.sk-toggleable__content pre {margin: 0.2em;color: black;border-radius: 0.25em;background-color: #f0f8ff;}#sk-container-id-3 input.sk-toggleable__control:checked~div.sk-toggleable__content {max-height: 200px;max-width: 100%;overflow: auto;}#sk-container-id-3 input.sk-toggleable__control:checked~label.sk-toggleable__label-arrow:before {content: \"▾\";}#sk-container-id-3 div.sk-estimator input.sk-toggleable__control:checked~label.sk-toggleable__label {background-color: #d4ebff;}#sk-container-id-3 div.sk-label input.sk-toggleable__control:checked~label.sk-toggleable__label {background-color: #d4ebff;}#sk-container-id-3 input.sk-hidden--visually {border: 0;clip: rect(1px 1px 1px 1px);clip: rect(1px, 1px, 1px, 1px);height: 1px;margin: -1px;overflow: hidden;padding: 0;position: absolute;width: 1px;}#sk-container-id-3 div.sk-estimator {font-family: monospace;background-color: #f0f8ff;border: 1px dotted black;border-radius: 0.25em;box-sizing: border-box;margin-bottom: 0.5em;}#sk-container-id-3 div.sk-estimator:hover {background-color: #d4ebff;}#sk-container-id-3 div.sk-parallel-item::after {content: \"\";width: 100%;border-bottom: 1px solid gray;flex-grow: 1;}#sk-container-id-3 div.sk-label:hover label.sk-toggleable__label {background-color: #d4ebff;}#sk-container-id-3 div.sk-serial::before {content: \"\";position: absolute;border-left: 1px solid gray;box-sizing: border-box;top: 0;bottom: 0;left: 50%;z-index: 0;}#sk-container-id-3 div.sk-serial {display: flex;flex-direction: column;align-items: center;background-color: white;padding-right: 0.2em;padding-left: 0.2em;position: relative;}#sk-container-id-3 div.sk-item {position: relative;z-index: 1;}#sk-container-id-3 div.sk-parallel {display: flex;align-items: stretch;justify-content: center;background-color: white;position: relative;}#sk-container-id-3 div.sk-item::before, #sk-container-id-3 div.sk-parallel-item::before {content: \"\";position: absolute;border-left: 1px solid gray;box-sizing: border-box;top: 0;bottom: 0;left: 50%;z-index: -1;}#sk-container-id-3 div.sk-parallel-item {display: flex;flex-direction: column;z-index: 1;position: relative;background-color: white;}#sk-container-id-3 div.sk-parallel-item:first-child::after {align-self: flex-end;width: 50%;}#sk-container-id-3 div.sk-parallel-item:last-child::after {align-self: flex-start;width: 50%;}#sk-container-id-3 div.sk-parallel-item:only-child::after {width: 0;}#sk-container-id-3 div.sk-dashed-wrapped {border: 1px dashed gray;margin: 0 0.4em 0.5em 0.4em;box-sizing: border-box;padding-bottom: 0.4em;background-color: white;}#sk-container-id-3 div.sk-label label {font-family: monospace;font-weight: bold;display: inline-block;line-height: 1.2em;}#sk-container-id-3 div.sk-label-container {text-align: center;}#sk-container-id-3 div.sk-container {/* jupyter's `normalize.less` sets `[hidden] { display: none; }` but bootstrap.min.css set `[hidden] { display: none !important; }` so we also need the `!important` here to be able to override the default hidden behavior on the sphinx rendered scikit-learn.org. See: https://github.com/scikit-learn/scikit-learn/issues/21755 */display: inline-block !important;position: relative;}#sk-container-id-3 div.sk-text-repr-fallback {display: none;}</style><div id=\"sk-container-id-3\" class=\"sk-top-container\"><div class=\"sk-text-repr-fallback\"><pre>GridSearchCV(cv=2, estimator=AdaBoostClassifier(),\n",
       "             param_grid={&#x27;n_estimators&#x27;: [50, 100]},\n",
       "             scoring=&#x27;average_precision&#x27;, verbose=2)</pre><b>In a Jupyter environment, please rerun this cell to show the HTML representation or trust the notebook. <br />On GitHub, the HTML representation is unable to render, please try loading this page with nbviewer.org.</b></div><div class=\"sk-container\" hidden><div class=\"sk-item sk-dashed-wrapped\"><div class=\"sk-label-container\"><div class=\"sk-label sk-toggleable\"><input class=\"sk-toggleable__control sk-hidden--visually\" id=\"sk-estimator-id-3\" type=\"checkbox\" ><label for=\"sk-estimator-id-3\" class=\"sk-toggleable__label sk-toggleable__label-arrow\">GridSearchCV</label><div class=\"sk-toggleable__content\"><pre>GridSearchCV(cv=2, estimator=AdaBoostClassifier(),\n",
       "             param_grid={&#x27;n_estimators&#x27;: [50, 100]},\n",
       "             scoring=&#x27;average_precision&#x27;, verbose=2)</pre></div></div></div><div class=\"sk-parallel\"><div class=\"sk-parallel-item\"><div class=\"sk-item\"><div class=\"sk-label-container\"><div class=\"sk-label sk-toggleable\"><input class=\"sk-toggleable__control sk-hidden--visually\" id=\"sk-estimator-id-4\" type=\"checkbox\" ><label for=\"sk-estimator-id-4\" class=\"sk-toggleable__label sk-toggleable__label-arrow\">estimator: AdaBoostClassifier</label><div class=\"sk-toggleable__content\"><pre>AdaBoostClassifier()</pre></div></div></div><div class=\"sk-serial\"><div class=\"sk-item\"><div class=\"sk-estimator sk-toggleable\"><input class=\"sk-toggleable__control sk-hidden--visually\" id=\"sk-estimator-id-5\" type=\"checkbox\" ><label for=\"sk-estimator-id-5\" class=\"sk-toggleable__label sk-toggleable__label-arrow\">AdaBoostClassifier</label><div class=\"sk-toggleable__content\"><pre>AdaBoostClassifier()</pre></div></div></div></div></div></div></div></div></div></div>"
      ],
      "text/plain": [
       "GridSearchCV(cv=2, estimator=AdaBoostClassifier(),\n",
       "             param_grid={'n_estimators': [50, 100]},\n",
       "             scoring='average_precision', verbose=2)"
      ]
     },
     "execution_count": 28,
     "metadata": {},
     "output_type": "execute_result"
    }
   ],
   "source": [
    "# Grid search for best parameters on AdaBoost\n",
    "param = {'n_estimators': [50, 100]}\n",
    "\n",
    "ada = AdaBoostClassifier()\n",
    "grid_ada = GridSearchCV(ada, param, cv=2, scoring='average_precision', verbose=2)\n",
    "grid_ada.fit(X_train, Y_train)"
   ]
  },
  {
   "cell_type": "markdown",
   "metadata": {},
   "source": [
    "### Score"
   ]
  },
  {
   "cell_type": "code",
   "execution_count": 29,
   "metadata": {},
   "outputs": [
    {
     "name": "stdout",
     "output_type": "stream",
     "text": [
      "Average precision score on train set:  0.25675614697633636\n",
      "Average precision score on test set:  0.2472660365274354\n"
     ]
    }
   ],
   "source": [
    "# Average precision score\n",
    "print('Average precision score on train set: ', average_precision_score(Y_train, grid_ada.best_estimator_.predict_proba(X_train)[:,1]))\n",
    "print('Average precision score on test set: ', average_precision_score(Y_test, grid_ada.best_estimator_.predict_proba(X_test)[:,1]))"
   ]
  },
  {
   "cell_type": "markdown",
   "metadata": {},
   "source": [
    "### Save model"
   ]
  },
  {
   "cell_type": "code",
   "execution_count": 30,
   "metadata": {},
   "outputs": [
    {
     "data": {
      "text/plain": [
       "['./src/ada_model.pkl']"
      ]
     },
     "execution_count": 30,
     "metadata": {},
     "output_type": "execute_result"
    }
   ],
   "source": [
    "# save the model to disk\n",
    "filename = './src/ada_model.pkl'\n",
    "joblib.dump(grid_ada.best_estimator_, filename)"
   ]
  },
  {
   "cell_type": "markdown",
   "metadata": {},
   "source": [
    "### Submission"
   ]
  },
  {
   "cell_type": "code",
   "execution_count": 31,
   "metadata": {},
   "outputs": [
    {
     "name": "stderr",
     "output_type": "stream",
     "text": [
      "c:\\Users\\shexx\\anaconda3\\lib\\site-packages\\sklearn\\preprocessing\\_encoders.py:188: UserWarning: Found unknown categories in columns [0, 1, 2, 8, 9, 14, 15, 17, 20] during transform. These unknown categories will be encoded as all zeros\n",
      "  warnings.warn(\n"
     ]
    }
   ],
   "source": [
    "# Load submission data\n",
    "test_sub = pd.read_csv('./src/test.csv')\n",
    "test_sub.head()\n",
    "\n",
    "# Preprocess test data\n",
    "test_sub = preprocess.transform(test_sub)\n",
    "test_sub\n",
    "\n",
    "# Prediction on test data\n",
    "test_sub_pred = grid_ada.best_estimator_.predict_proba(test_sub)[:, 1]\n",
    "test_sub_pred\n",
    "\n",
    "# Save prediction\n",
    "submission = pd.DataFrame({'LABEL': test_sub_pred})\n",
    "submission.reset_index(inplace=True)\n",
    "submission.to_csv('./src/submission_ada.csv', index=False)"
   ]
  },
  {
   "cell_type": "markdown",
   "metadata": {},
   "source": [
    "## Grid search on Gradient Boosting"
   ]
  },
  {
   "cell_type": "markdown",
   "metadata": {},
   "source": [
    "### Grid model"
   ]
  },
  {
   "cell_type": "code",
   "execution_count": 32,
   "metadata": {},
   "outputs": [
    {
     "name": "stdout",
     "output_type": "stream",
     "text": [
      "Fitting 2 folds for each of 2 candidates, totalling 4 fits\n",
      "[CV] END ....................................n_estimators=50; total time=86.0min\n",
      "[CV] END ....................................n_estimators=50; total time=87.7min\n",
      "[CV] END ..................................n_estimators=500; total time=963.9min\n",
      "[CV] END ..................................n_estimators=500; total time=933.1min\n"
     ]
    },
    {
     "data": {
      "text/html": [
       "<style>#sk-container-id-4 {color: black;background-color: white;}#sk-container-id-4 pre{padding: 0;}#sk-container-id-4 div.sk-toggleable {background-color: white;}#sk-container-id-4 label.sk-toggleable__label {cursor: pointer;display: block;width: 100%;margin-bottom: 0;padding: 0.3em;box-sizing: border-box;text-align: center;}#sk-container-id-4 label.sk-toggleable__label-arrow:before {content: \"▸\";float: left;margin-right: 0.25em;color: #696969;}#sk-container-id-4 label.sk-toggleable__label-arrow:hover:before {color: black;}#sk-container-id-4 div.sk-estimator:hover label.sk-toggleable__label-arrow:before {color: black;}#sk-container-id-4 div.sk-toggleable__content {max-height: 0;max-width: 0;overflow: hidden;text-align: left;background-color: #f0f8ff;}#sk-container-id-4 div.sk-toggleable__content pre {margin: 0.2em;color: black;border-radius: 0.25em;background-color: #f0f8ff;}#sk-container-id-4 input.sk-toggleable__control:checked~div.sk-toggleable__content {max-height: 200px;max-width: 100%;overflow: auto;}#sk-container-id-4 input.sk-toggleable__control:checked~label.sk-toggleable__label-arrow:before {content: \"▾\";}#sk-container-id-4 div.sk-estimator input.sk-toggleable__control:checked~label.sk-toggleable__label {background-color: #d4ebff;}#sk-container-id-4 div.sk-label input.sk-toggleable__control:checked~label.sk-toggleable__label {background-color: #d4ebff;}#sk-container-id-4 input.sk-hidden--visually {border: 0;clip: rect(1px 1px 1px 1px);clip: rect(1px, 1px, 1px, 1px);height: 1px;margin: -1px;overflow: hidden;padding: 0;position: absolute;width: 1px;}#sk-container-id-4 div.sk-estimator {font-family: monospace;background-color: #f0f8ff;border: 1px dotted black;border-radius: 0.25em;box-sizing: border-box;margin-bottom: 0.5em;}#sk-container-id-4 div.sk-estimator:hover {background-color: #d4ebff;}#sk-container-id-4 div.sk-parallel-item::after {content: \"\";width: 100%;border-bottom: 1px solid gray;flex-grow: 1;}#sk-container-id-4 div.sk-label:hover label.sk-toggleable__label {background-color: #d4ebff;}#sk-container-id-4 div.sk-serial::before {content: \"\";position: absolute;border-left: 1px solid gray;box-sizing: border-box;top: 0;bottom: 0;left: 50%;z-index: 0;}#sk-container-id-4 div.sk-serial {display: flex;flex-direction: column;align-items: center;background-color: white;padding-right: 0.2em;padding-left: 0.2em;position: relative;}#sk-container-id-4 div.sk-item {position: relative;z-index: 1;}#sk-container-id-4 div.sk-parallel {display: flex;align-items: stretch;justify-content: center;background-color: white;position: relative;}#sk-container-id-4 div.sk-item::before, #sk-container-id-4 div.sk-parallel-item::before {content: \"\";position: absolute;border-left: 1px solid gray;box-sizing: border-box;top: 0;bottom: 0;left: 50%;z-index: -1;}#sk-container-id-4 div.sk-parallel-item {display: flex;flex-direction: column;z-index: 1;position: relative;background-color: white;}#sk-container-id-4 div.sk-parallel-item:first-child::after {align-self: flex-end;width: 50%;}#sk-container-id-4 div.sk-parallel-item:last-child::after {align-self: flex-start;width: 50%;}#sk-container-id-4 div.sk-parallel-item:only-child::after {width: 0;}#sk-container-id-4 div.sk-dashed-wrapped {border: 1px dashed gray;margin: 0 0.4em 0.5em 0.4em;box-sizing: border-box;padding-bottom: 0.4em;background-color: white;}#sk-container-id-4 div.sk-label label {font-family: monospace;font-weight: bold;display: inline-block;line-height: 1.2em;}#sk-container-id-4 div.sk-label-container {text-align: center;}#sk-container-id-4 div.sk-container {/* jupyter's `normalize.less` sets `[hidden] { display: none; }` but bootstrap.min.css set `[hidden] { display: none !important; }` so we also need the `!important` here to be able to override the default hidden behavior on the sphinx rendered scikit-learn.org. See: https://github.com/scikit-learn/scikit-learn/issues/21755 */display: inline-block !important;position: relative;}#sk-container-id-4 div.sk-text-repr-fallback {display: none;}</style><div id=\"sk-container-id-4\" class=\"sk-top-container\"><div class=\"sk-text-repr-fallback\"><pre>GridSearchCV(cv=2, estimator=GradientBoostingClassifier(),\n",
       "             param_grid={&#x27;n_estimators&#x27;: [50, 500]},\n",
       "             scoring=&#x27;average_precision&#x27;, verbose=2)</pre><b>In a Jupyter environment, please rerun this cell to show the HTML representation or trust the notebook. <br />On GitHub, the HTML representation is unable to render, please try loading this page with nbviewer.org.</b></div><div class=\"sk-container\" hidden><div class=\"sk-item sk-dashed-wrapped\"><div class=\"sk-label-container\"><div class=\"sk-label sk-toggleable\"><input class=\"sk-toggleable__control sk-hidden--visually\" id=\"sk-estimator-id-6\" type=\"checkbox\" ><label for=\"sk-estimator-id-6\" class=\"sk-toggleable__label sk-toggleable__label-arrow\">GridSearchCV</label><div class=\"sk-toggleable__content\"><pre>GridSearchCV(cv=2, estimator=GradientBoostingClassifier(),\n",
       "             param_grid={&#x27;n_estimators&#x27;: [50, 500]},\n",
       "             scoring=&#x27;average_precision&#x27;, verbose=2)</pre></div></div></div><div class=\"sk-parallel\"><div class=\"sk-parallel-item\"><div class=\"sk-item\"><div class=\"sk-label-container\"><div class=\"sk-label sk-toggleable\"><input class=\"sk-toggleable__control sk-hidden--visually\" id=\"sk-estimator-id-7\" type=\"checkbox\" ><label for=\"sk-estimator-id-7\" class=\"sk-toggleable__label sk-toggleable__label-arrow\">estimator: GradientBoostingClassifier</label><div class=\"sk-toggleable__content\"><pre>GradientBoostingClassifier()</pre></div></div></div><div class=\"sk-serial\"><div class=\"sk-item\"><div class=\"sk-estimator sk-toggleable\"><input class=\"sk-toggleable__control sk-hidden--visually\" id=\"sk-estimator-id-8\" type=\"checkbox\" ><label for=\"sk-estimator-id-8\" class=\"sk-toggleable__label sk-toggleable__label-arrow\">GradientBoostingClassifier</label><div class=\"sk-toggleable__content\"><pre>GradientBoostingClassifier()</pre></div></div></div></div></div></div></div></div></div></div>"
      ],
      "text/plain": [
       "GridSearchCV(cv=2, estimator=GradientBoostingClassifier(),\n",
       "             param_grid={'n_estimators': [50, 500]},\n",
       "             scoring='average_precision', verbose=2)"
      ]
     },
     "execution_count": 32,
     "metadata": {},
     "output_type": "execute_result"
    }
   ],
   "source": [
    "# Grid search for best parameters on Gradient Boosting\n",
    "param = {'n_estimators': [50, 500]}\n",
    "\n",
    "gb = GradientBoostingClassifier()\n",
    "grid_gb = GridSearchCV(gb, param, cv=2, scoring='average_precision', verbose=2)\n",
    "grid_gb.fit(X_train, Y_train)"
   ]
  },
  {
   "cell_type": "markdown",
   "metadata": {},
   "source": [
    "### Score"
   ]
  },
  {
   "cell_type": "code",
   "execution_count": 33,
   "metadata": {},
   "outputs": [
    {
     "name": "stdout",
     "output_type": "stream",
     "text": [
      "Average precision score on train set:  0.3376988693646941\n",
      "Average precision score on test set:  0.2653654480218574\n"
     ]
    }
   ],
   "source": [
    "# Average precision score\n",
    "print('Average precision score on train set: ', average_precision_score(Y_train, grid_gb.best_estimator_.predict_proba(X_train)[:,1]))\n",
    "print('Average precision score on test set: ', average_precision_score(Y_test, grid_gb.best_estimator_.predict_proba(X_test)[:,1]))"
   ]
  },
  {
   "cell_type": "markdown",
   "metadata": {},
   "source": [
    "### Save model"
   ]
  },
  {
   "cell_type": "code",
   "execution_count": 34,
   "metadata": {},
   "outputs": [
    {
     "data": {
      "text/plain": [
       "['./src/gb_model.pkl']"
      ]
     },
     "execution_count": 34,
     "metadata": {},
     "output_type": "execute_result"
    }
   ],
   "source": [
    "# save the model to disk\n",
    "filename = './src/gb_model.pkl'\n",
    "joblib.dump(grid_gb.best_estimator_, filename)"
   ]
  },
  {
   "cell_type": "markdown",
   "metadata": {},
   "source": [
    "### Submission"
   ]
  },
  {
   "cell_type": "code",
   "execution_count": 35,
   "metadata": {},
   "outputs": [
    {
     "name": "stderr",
     "output_type": "stream",
     "text": [
      "c:\\Users\\shexx\\anaconda3\\lib\\site-packages\\sklearn\\preprocessing\\_encoders.py:188: UserWarning: Found unknown categories in columns [0, 1, 2, 8, 9, 14, 15, 17, 20] during transform. These unknown categories will be encoded as all zeros\n",
      "  warnings.warn(\n"
     ]
    }
   ],
   "source": [
    "# Load submission data\n",
    "test_sub = pd.read_csv('./src/test.csv')\n",
    "test_sub.head()\n",
    "\n",
    "# Preprocess test data\n",
    "test_sub = preprocess.transform(test_sub)\n",
    "test_sub\n",
    "\n",
    "# Prediction on test data\n",
    "test_sub_pred = grid_gb.best_estimator_.predict_proba(test_sub)[:, 1]\n",
    "test_sub_pred\n",
    "\n",
    "# Save prediction\n",
    "submission = pd.DataFrame({'LABEL': test_sub_pred})\n",
    "submission.reset_index(inplace=True)\n",
    "submission.to_csv('./src/submission_gb.csv', index=False)"
   ]
  },
  {
   "cell_type": "markdown",
   "metadata": {},
   "source": [
    "## Grid search on XGBoost"
   ]
  },
  {
   "cell_type": "markdown",
   "metadata": {},
   "source": [
    "### Grid Model"
   ]
  },
  {
   "cell_type": "code",
   "execution_count": 36,
   "metadata": {},
   "outputs": [
    {
     "name": "stdout",
     "output_type": "stream",
     "text": [
      "Fitting 2 folds for each of 2 candidates, totalling 4 fits\n",
      "[CV] END ....................................n_estimators=50; total time=  43.6s\n",
      "[CV] END ....................................n_estimators=50; total time=  43.6s\n",
      "[CV] END ...................................n_estimators=100; total time= 1.4min\n",
      "[CV] END ...................................n_estimators=100; total time= 1.5min\n"
     ]
    },
    {
     "data": {
      "text/html": [
       "<style>#sk-container-id-5 {color: black;background-color: white;}#sk-container-id-5 pre{padding: 0;}#sk-container-id-5 div.sk-toggleable {background-color: white;}#sk-container-id-5 label.sk-toggleable__label {cursor: pointer;display: block;width: 100%;margin-bottom: 0;padding: 0.3em;box-sizing: border-box;text-align: center;}#sk-container-id-5 label.sk-toggleable__label-arrow:before {content: \"▸\";float: left;margin-right: 0.25em;color: #696969;}#sk-container-id-5 label.sk-toggleable__label-arrow:hover:before {color: black;}#sk-container-id-5 div.sk-estimator:hover label.sk-toggleable__label-arrow:before {color: black;}#sk-container-id-5 div.sk-toggleable__content {max-height: 0;max-width: 0;overflow: hidden;text-align: left;background-color: #f0f8ff;}#sk-container-id-5 div.sk-toggleable__content pre {margin: 0.2em;color: black;border-radius: 0.25em;background-color: #f0f8ff;}#sk-container-id-5 input.sk-toggleable__control:checked~div.sk-toggleable__content {max-height: 200px;max-width: 100%;overflow: auto;}#sk-container-id-5 input.sk-toggleable__control:checked~label.sk-toggleable__label-arrow:before {content: \"▾\";}#sk-container-id-5 div.sk-estimator input.sk-toggleable__control:checked~label.sk-toggleable__label {background-color: #d4ebff;}#sk-container-id-5 div.sk-label input.sk-toggleable__control:checked~label.sk-toggleable__label {background-color: #d4ebff;}#sk-container-id-5 input.sk-hidden--visually {border: 0;clip: rect(1px 1px 1px 1px);clip: rect(1px, 1px, 1px, 1px);height: 1px;margin: -1px;overflow: hidden;padding: 0;position: absolute;width: 1px;}#sk-container-id-5 div.sk-estimator {font-family: monospace;background-color: #f0f8ff;border: 1px dotted black;border-radius: 0.25em;box-sizing: border-box;margin-bottom: 0.5em;}#sk-container-id-5 div.sk-estimator:hover {background-color: #d4ebff;}#sk-container-id-5 div.sk-parallel-item::after {content: \"\";width: 100%;border-bottom: 1px solid gray;flex-grow: 1;}#sk-container-id-5 div.sk-label:hover label.sk-toggleable__label {background-color: #d4ebff;}#sk-container-id-5 div.sk-serial::before {content: \"\";position: absolute;border-left: 1px solid gray;box-sizing: border-box;top: 0;bottom: 0;left: 50%;z-index: 0;}#sk-container-id-5 div.sk-serial {display: flex;flex-direction: column;align-items: center;background-color: white;padding-right: 0.2em;padding-left: 0.2em;position: relative;}#sk-container-id-5 div.sk-item {position: relative;z-index: 1;}#sk-container-id-5 div.sk-parallel {display: flex;align-items: stretch;justify-content: center;background-color: white;position: relative;}#sk-container-id-5 div.sk-item::before, #sk-container-id-5 div.sk-parallel-item::before {content: \"\";position: absolute;border-left: 1px solid gray;box-sizing: border-box;top: 0;bottom: 0;left: 50%;z-index: -1;}#sk-container-id-5 div.sk-parallel-item {display: flex;flex-direction: column;z-index: 1;position: relative;background-color: white;}#sk-container-id-5 div.sk-parallel-item:first-child::after {align-self: flex-end;width: 50%;}#sk-container-id-5 div.sk-parallel-item:last-child::after {align-self: flex-start;width: 50%;}#sk-container-id-5 div.sk-parallel-item:only-child::after {width: 0;}#sk-container-id-5 div.sk-dashed-wrapped {border: 1px dashed gray;margin: 0 0.4em 0.5em 0.4em;box-sizing: border-box;padding-bottom: 0.4em;background-color: white;}#sk-container-id-5 div.sk-label label {font-family: monospace;font-weight: bold;display: inline-block;line-height: 1.2em;}#sk-container-id-5 div.sk-label-container {text-align: center;}#sk-container-id-5 div.sk-container {/* jupyter's `normalize.less` sets `[hidden] { display: none; }` but bootstrap.min.css set `[hidden] { display: none !important; }` so we also need the `!important` here to be able to override the default hidden behavior on the sphinx rendered scikit-learn.org. See: https://github.com/scikit-learn/scikit-learn/issues/21755 */display: inline-block !important;position: relative;}#sk-container-id-5 div.sk-text-repr-fallback {display: none;}</style><div id=\"sk-container-id-5\" class=\"sk-top-container\"><div class=\"sk-text-repr-fallback\"><pre>GridSearchCV(cv=2,\n",
       "             estimator=XGBClassifier(base_score=None, booster=None,\n",
       "                                     callbacks=None, colsample_bylevel=None,\n",
       "                                     colsample_bynode=None,\n",
       "                                     colsample_bytree=None,\n",
       "                                     early_stopping_rounds=None,\n",
       "                                     enable_categorical=False, eval_metric=None,\n",
       "                                     gamma=None, gpu_id=None, grow_policy=None,\n",
       "                                     importance_type=None,\n",
       "                                     interaction_constraints=None,\n",
       "                                     learning_rate=None, max_bin=None,\n",
       "                                     max_cat_to_onehot=None,\n",
       "                                     max_delta_step=None, max_depth=None,\n",
       "                                     max_leaves=None, min_child_weight=None,\n",
       "                                     missing=nan, monotone_constraints=None,\n",
       "                                     n_estimators=100, n_jobs=None,\n",
       "                                     num_parallel_tree=None, predictor=None,\n",
       "                                     random_state=None, reg_alpha=None,\n",
       "                                     reg_lambda=None, ...),\n",
       "             param_grid={&#x27;n_estimators&#x27;: [50, 100]},\n",
       "             scoring=&#x27;average_precision&#x27;, verbose=2)</pre><b>In a Jupyter environment, please rerun this cell to show the HTML representation or trust the notebook. <br />On GitHub, the HTML representation is unable to render, please try loading this page with nbviewer.org.</b></div><div class=\"sk-container\" hidden><div class=\"sk-item sk-dashed-wrapped\"><div class=\"sk-label-container\"><div class=\"sk-label sk-toggleable\"><input class=\"sk-toggleable__control sk-hidden--visually\" id=\"sk-estimator-id-9\" type=\"checkbox\" ><label for=\"sk-estimator-id-9\" class=\"sk-toggleable__label sk-toggleable__label-arrow\">GridSearchCV</label><div class=\"sk-toggleable__content\"><pre>GridSearchCV(cv=2,\n",
       "             estimator=XGBClassifier(base_score=None, booster=None,\n",
       "                                     callbacks=None, colsample_bylevel=None,\n",
       "                                     colsample_bynode=None,\n",
       "                                     colsample_bytree=None,\n",
       "                                     early_stopping_rounds=None,\n",
       "                                     enable_categorical=False, eval_metric=None,\n",
       "                                     gamma=None, gpu_id=None, grow_policy=None,\n",
       "                                     importance_type=None,\n",
       "                                     interaction_constraints=None,\n",
       "                                     learning_rate=None, max_bin=None,\n",
       "                                     max_cat_to_onehot=None,\n",
       "                                     max_delta_step=None, max_depth=None,\n",
       "                                     max_leaves=None, min_child_weight=None,\n",
       "                                     missing=nan, monotone_constraints=None,\n",
       "                                     n_estimators=100, n_jobs=None,\n",
       "                                     num_parallel_tree=None, predictor=None,\n",
       "                                     random_state=None, reg_alpha=None,\n",
       "                                     reg_lambda=None, ...),\n",
       "             param_grid={&#x27;n_estimators&#x27;: [50, 100]},\n",
       "             scoring=&#x27;average_precision&#x27;, verbose=2)</pre></div></div></div><div class=\"sk-parallel\"><div class=\"sk-parallel-item\"><div class=\"sk-item\"><div class=\"sk-label-container\"><div class=\"sk-label sk-toggleable\"><input class=\"sk-toggleable__control sk-hidden--visually\" id=\"sk-estimator-id-10\" type=\"checkbox\" ><label for=\"sk-estimator-id-10\" class=\"sk-toggleable__label sk-toggleable__label-arrow\">estimator: XGBClassifier</label><div class=\"sk-toggleable__content\"><pre>XGBClassifier(base_score=None, booster=None, callbacks=None,\n",
       "              colsample_bylevel=None, colsample_bynode=None,\n",
       "              colsample_bytree=None, early_stopping_rounds=None,\n",
       "              enable_categorical=False, eval_metric=None, gamma=None,\n",
       "              gpu_id=None, grow_policy=None, importance_type=None,\n",
       "              interaction_constraints=None, learning_rate=None, max_bin=None,\n",
       "              max_cat_to_onehot=None, max_delta_step=None, max_depth=None,\n",
       "              max_leaves=None, min_child_weight=None, missing=nan,\n",
       "              monotone_constraints=None, n_estimators=100, n_jobs=None,\n",
       "              num_parallel_tree=None, predictor=None, random_state=None,\n",
       "              reg_alpha=None, reg_lambda=None, ...)</pre></div></div></div><div class=\"sk-serial\"><div class=\"sk-item\"><div class=\"sk-estimator sk-toggleable\"><input class=\"sk-toggleable__control sk-hidden--visually\" id=\"sk-estimator-id-11\" type=\"checkbox\" ><label for=\"sk-estimator-id-11\" class=\"sk-toggleable__label sk-toggleable__label-arrow\">XGBClassifier</label><div class=\"sk-toggleable__content\"><pre>XGBClassifier(base_score=None, booster=None, callbacks=None,\n",
       "              colsample_bylevel=None, colsample_bynode=None,\n",
       "              colsample_bytree=None, early_stopping_rounds=None,\n",
       "              enable_categorical=False, eval_metric=None, gamma=None,\n",
       "              gpu_id=None, grow_policy=None, importance_type=None,\n",
       "              interaction_constraints=None, learning_rate=None, max_bin=None,\n",
       "              max_cat_to_onehot=None, max_delta_step=None, max_depth=None,\n",
       "              max_leaves=None, min_child_weight=None, missing=nan,\n",
       "              monotone_constraints=None, n_estimators=100, n_jobs=None,\n",
       "              num_parallel_tree=None, predictor=None, random_state=None,\n",
       "              reg_alpha=None, reg_lambda=None, ...)</pre></div></div></div></div></div></div></div></div></div></div>"
      ],
      "text/plain": [
       "GridSearchCV(cv=2,\n",
       "             estimator=XGBClassifier(base_score=None, booster=None,\n",
       "                                     callbacks=None, colsample_bylevel=None,\n",
       "                                     colsample_bynode=None,\n",
       "                                     colsample_bytree=None,\n",
       "                                     early_stopping_rounds=None,\n",
       "                                     enable_categorical=False, eval_metric=None,\n",
       "                                     gamma=None, gpu_id=None, grow_policy=None,\n",
       "                                     importance_type=None,\n",
       "                                     interaction_constraints=None,\n",
       "                                     learning_rate=None, max_bin=None,\n",
       "                                     max_cat_to_onehot=None,\n",
       "                                     max_delta_step=None, max_depth=None,\n",
       "                                     max_leaves=None, min_child_weight=None,\n",
       "                                     missing=nan, monotone_constraints=None,\n",
       "                                     n_estimators=100, n_jobs=None,\n",
       "                                     num_parallel_tree=None, predictor=None,\n",
       "                                     random_state=None, reg_alpha=None,\n",
       "                                     reg_lambda=None, ...),\n",
       "             param_grid={'n_estimators': [50, 100]},\n",
       "             scoring='average_precision', verbose=2)"
      ]
     },
     "execution_count": 36,
     "metadata": {},
     "output_type": "execute_result"
    }
   ],
   "source": [
    "# Grid search for best parameters on XGBoost\n",
    "param = {'n_estimators': [50, 100]}\n",
    "\n",
    "xgb = XGBClassifier()\n",
    "grid_xgb = GridSearchCV(xgb, param, cv=2, scoring='average_precision', verbose=2)\n",
    "grid_xgb.fit(X_train, Y_train)"
   ]
  },
  {
   "cell_type": "markdown",
   "metadata": {},
   "source": [
    "### Score"
   ]
  },
  {
   "cell_type": "code",
   "execution_count": 37,
   "metadata": {},
   "outputs": [
    {
     "name": "stdout",
     "output_type": "stream",
     "text": [
      "Average precision score on train set:  0.3756518716051508\n",
      "Average precision score on test set:  0.27368044800725133\n"
     ]
    }
   ],
   "source": [
    "# Average precision score\n",
    "print('Average precision score on train set: ', average_precision_score(Y_train, grid_xgb.best_estimator_.predict_proba(X_train)[:,1]))\n",
    "print('Average precision score on test set: ', average_precision_score(Y_test, grid_xgb.best_estimator_.predict_proba(X_test)[:,1]))"
   ]
  },
  {
   "cell_type": "markdown",
   "metadata": {},
   "source": [
    "### Save model"
   ]
  },
  {
   "cell_type": "code",
   "execution_count": 38,
   "metadata": {},
   "outputs": [
    {
     "data": {
      "text/plain": [
       "['./src/xgb_model.pkl']"
      ]
     },
     "execution_count": 38,
     "metadata": {},
     "output_type": "execute_result"
    }
   ],
   "source": [
    "# save the model to disk\n",
    "filename = './src/xgb_model.pkl'\n",
    "joblib.dump(grid_xgb.best_estimator_, filename)"
   ]
  },
  {
   "cell_type": "markdown",
   "metadata": {},
   "source": [
    "### Submission"
   ]
  },
  {
   "cell_type": "code",
   "execution_count": 39,
   "metadata": {},
   "outputs": [
    {
     "name": "stderr",
     "output_type": "stream",
     "text": [
      "c:\\Users\\shexx\\anaconda3\\lib\\site-packages\\sklearn\\preprocessing\\_encoders.py:188: UserWarning: Found unknown categories in columns [0, 1, 2, 8, 9, 14, 15, 17, 20] during transform. These unknown categories will be encoded as all zeros\n",
      "  warnings.warn(\n"
     ]
    }
   ],
   "source": [
    "# Load submission data\n",
    "test_sub = pd.read_csv('./src/test.csv')\n",
    "test_sub.head()\n",
    "\n",
    "# Preprocess test data\n",
    "test_sub = preprocess.transform(test_sub)\n",
    "test_sub\n",
    "\n",
    "# Prediction on test data\n",
    "test_sub_pred = grid_xgb.best_estimator_.predict_proba(test_sub)[:, 1]\n",
    "test_sub_pred\n",
    "\n",
    "# Save prediction\n",
    "submission = pd.DataFrame({'LABEL': test_sub_pred})\n",
    "submission.reset_index(inplace=True)\n",
    "submission.to_csv('./src/submission_xgb.csv', index=False)"
   ]
  },
  {
   "cell_type": "markdown",
   "metadata": {},
   "source": [
    "## Grid Search on LGBM"
   ]
  },
  {
   "cell_type": "markdown",
   "metadata": {},
   "source": [
    "### Grid model"
   ]
  },
  {
   "cell_type": "code",
   "execution_count": 40,
   "metadata": {},
   "outputs": [
    {
     "name": "stdout",
     "output_type": "stream",
     "text": [
      "Fitting 2 folds for each of 2 candidates, totalling 4 fits\n",
      "[CV] END ....................................n_estimators=50; total time=   7.2s\n",
      "[CV] END ....................................n_estimators=50; total time=   7.5s\n",
      "[CV] END ...................................n_estimators=100; total time=   9.9s\n",
      "[CV] END ...................................n_estimators=100; total time=   9.4s\n"
     ]
    },
    {
     "data": {
      "text/html": [
       "<style>#sk-container-id-6 {color: black;background-color: white;}#sk-container-id-6 pre{padding: 0;}#sk-container-id-6 div.sk-toggleable {background-color: white;}#sk-container-id-6 label.sk-toggleable__label {cursor: pointer;display: block;width: 100%;margin-bottom: 0;padding: 0.3em;box-sizing: border-box;text-align: center;}#sk-container-id-6 label.sk-toggleable__label-arrow:before {content: \"▸\";float: left;margin-right: 0.25em;color: #696969;}#sk-container-id-6 label.sk-toggleable__label-arrow:hover:before {color: black;}#sk-container-id-6 div.sk-estimator:hover label.sk-toggleable__label-arrow:before {color: black;}#sk-container-id-6 div.sk-toggleable__content {max-height: 0;max-width: 0;overflow: hidden;text-align: left;background-color: #f0f8ff;}#sk-container-id-6 div.sk-toggleable__content pre {margin: 0.2em;color: black;border-radius: 0.25em;background-color: #f0f8ff;}#sk-container-id-6 input.sk-toggleable__control:checked~div.sk-toggleable__content {max-height: 200px;max-width: 100%;overflow: auto;}#sk-container-id-6 input.sk-toggleable__control:checked~label.sk-toggleable__label-arrow:before {content: \"▾\";}#sk-container-id-6 div.sk-estimator input.sk-toggleable__control:checked~label.sk-toggleable__label {background-color: #d4ebff;}#sk-container-id-6 div.sk-label input.sk-toggleable__control:checked~label.sk-toggleable__label {background-color: #d4ebff;}#sk-container-id-6 input.sk-hidden--visually {border: 0;clip: rect(1px 1px 1px 1px);clip: rect(1px, 1px, 1px, 1px);height: 1px;margin: -1px;overflow: hidden;padding: 0;position: absolute;width: 1px;}#sk-container-id-6 div.sk-estimator {font-family: monospace;background-color: #f0f8ff;border: 1px dotted black;border-radius: 0.25em;box-sizing: border-box;margin-bottom: 0.5em;}#sk-container-id-6 div.sk-estimator:hover {background-color: #d4ebff;}#sk-container-id-6 div.sk-parallel-item::after {content: \"\";width: 100%;border-bottom: 1px solid gray;flex-grow: 1;}#sk-container-id-6 div.sk-label:hover label.sk-toggleable__label {background-color: #d4ebff;}#sk-container-id-6 div.sk-serial::before {content: \"\";position: absolute;border-left: 1px solid gray;box-sizing: border-box;top: 0;bottom: 0;left: 50%;z-index: 0;}#sk-container-id-6 div.sk-serial {display: flex;flex-direction: column;align-items: center;background-color: white;padding-right: 0.2em;padding-left: 0.2em;position: relative;}#sk-container-id-6 div.sk-item {position: relative;z-index: 1;}#sk-container-id-6 div.sk-parallel {display: flex;align-items: stretch;justify-content: center;background-color: white;position: relative;}#sk-container-id-6 div.sk-item::before, #sk-container-id-6 div.sk-parallel-item::before {content: \"\";position: absolute;border-left: 1px solid gray;box-sizing: border-box;top: 0;bottom: 0;left: 50%;z-index: -1;}#sk-container-id-6 div.sk-parallel-item {display: flex;flex-direction: column;z-index: 1;position: relative;background-color: white;}#sk-container-id-6 div.sk-parallel-item:first-child::after {align-self: flex-end;width: 50%;}#sk-container-id-6 div.sk-parallel-item:last-child::after {align-self: flex-start;width: 50%;}#sk-container-id-6 div.sk-parallel-item:only-child::after {width: 0;}#sk-container-id-6 div.sk-dashed-wrapped {border: 1px dashed gray;margin: 0 0.4em 0.5em 0.4em;box-sizing: border-box;padding-bottom: 0.4em;background-color: white;}#sk-container-id-6 div.sk-label label {font-family: monospace;font-weight: bold;display: inline-block;line-height: 1.2em;}#sk-container-id-6 div.sk-label-container {text-align: center;}#sk-container-id-6 div.sk-container {/* jupyter's `normalize.less` sets `[hidden] { display: none; }` but bootstrap.min.css set `[hidden] { display: none !important; }` so we also need the `!important` here to be able to override the default hidden behavior on the sphinx rendered scikit-learn.org. See: https://github.com/scikit-learn/scikit-learn/issues/21755 */display: inline-block !important;position: relative;}#sk-container-id-6 div.sk-text-repr-fallback {display: none;}</style><div id=\"sk-container-id-6\" class=\"sk-top-container\"><div class=\"sk-text-repr-fallback\"><pre>GridSearchCV(cv=2, estimator=LGBMClassifier(),\n",
       "             param_grid={&#x27;n_estimators&#x27;: [50, 100]},\n",
       "             scoring=&#x27;average_precision&#x27;, verbose=2)</pre><b>In a Jupyter environment, please rerun this cell to show the HTML representation or trust the notebook. <br />On GitHub, the HTML representation is unable to render, please try loading this page with nbviewer.org.</b></div><div class=\"sk-container\" hidden><div class=\"sk-item sk-dashed-wrapped\"><div class=\"sk-label-container\"><div class=\"sk-label sk-toggleable\"><input class=\"sk-toggleable__control sk-hidden--visually\" id=\"sk-estimator-id-12\" type=\"checkbox\" ><label for=\"sk-estimator-id-12\" class=\"sk-toggleable__label sk-toggleable__label-arrow\">GridSearchCV</label><div class=\"sk-toggleable__content\"><pre>GridSearchCV(cv=2, estimator=LGBMClassifier(),\n",
       "             param_grid={&#x27;n_estimators&#x27;: [50, 100]},\n",
       "             scoring=&#x27;average_precision&#x27;, verbose=2)</pre></div></div></div><div class=\"sk-parallel\"><div class=\"sk-parallel-item\"><div class=\"sk-item\"><div class=\"sk-label-container\"><div class=\"sk-label sk-toggleable\"><input class=\"sk-toggleable__control sk-hidden--visually\" id=\"sk-estimator-id-13\" type=\"checkbox\" ><label for=\"sk-estimator-id-13\" class=\"sk-toggleable__label sk-toggleable__label-arrow\">estimator: LGBMClassifier</label><div class=\"sk-toggleable__content\"><pre>LGBMClassifier()</pre></div></div></div><div class=\"sk-serial\"><div class=\"sk-item\"><div class=\"sk-estimator sk-toggleable\"><input class=\"sk-toggleable__control sk-hidden--visually\" id=\"sk-estimator-id-14\" type=\"checkbox\" ><label for=\"sk-estimator-id-14\" class=\"sk-toggleable__label sk-toggleable__label-arrow\">LGBMClassifier</label><div class=\"sk-toggleable__content\"><pre>LGBMClassifier()</pre></div></div></div></div></div></div></div></div></div></div>"
      ],
      "text/plain": [
       "GridSearchCV(cv=2, estimator=LGBMClassifier(),\n",
       "             param_grid={'n_estimators': [50, 100]},\n",
       "             scoring='average_precision', verbose=2)"
      ]
     },
     "execution_count": 40,
     "metadata": {},
     "output_type": "execute_result"
    }
   ],
   "source": [
    "# Grid search for best parameters on LightGBM\n",
    "param = {'n_estimators': [50, 100]}\n",
    "\n",
    "lgb = LGBMClassifier()\n",
    "grid_lgb = GridSearchCV(lgb, param, cv=2, scoring='average_precision', verbose=2)\n",
    "grid_lgb.fit(X_train, Y_train)"
   ]
  },
  {
   "cell_type": "markdown",
   "metadata": {},
   "source": [
    "### Score"
   ]
  },
  {
   "cell_type": "code",
   "execution_count": 41,
   "metadata": {},
   "outputs": [
    {
     "name": "stdout",
     "output_type": "stream",
     "text": [
      "Average precision score on train set:  0.3445083977671313\n",
      "Average precision score on test set:  0.27734540319295303\n"
     ]
    }
   ],
   "source": [
    "# Average precision score\n",
    "print('Average precision score on train set: ', average_precision_score(Y_train, grid_lgb.best_estimator_.predict_proba(X_train)[:,1]))\n",
    "print('Average precision score on test set: ', average_precision_score(Y_test, grid_lgb.best_estimator_.predict_proba(X_test)[:,1]))"
   ]
  },
  {
   "cell_type": "markdown",
   "metadata": {},
   "source": [
    "### Save model"
   ]
  },
  {
   "cell_type": "code",
   "execution_count": 42,
   "metadata": {},
   "outputs": [
    {
     "data": {
      "text/plain": [
       "['./src/lgb_model.pkl']"
      ]
     },
     "execution_count": 42,
     "metadata": {},
     "output_type": "execute_result"
    }
   ],
   "source": [
    "# save the model to disk\n",
    "filename = './src/lgb_model.pkl'\n",
    "joblib.dump(grid_lgb.best_estimator_, filename)"
   ]
  },
  {
   "cell_type": "markdown",
   "metadata": {},
   "source": [
    "### Submission"
   ]
  },
  {
   "cell_type": "code",
   "execution_count": 43,
   "metadata": {},
   "outputs": [
    {
     "name": "stderr",
     "output_type": "stream",
     "text": [
      "c:\\Users\\shexx\\anaconda3\\lib\\site-packages\\sklearn\\preprocessing\\_encoders.py:188: UserWarning: Found unknown categories in columns [0, 1, 2, 8, 9, 14, 15, 17, 20] during transform. These unknown categories will be encoded as all zeros\n",
      "  warnings.warn(\n"
     ]
    }
   ],
   "source": [
    "# Load submission data\n",
    "test_sub = pd.read_csv('./src/test.csv')\n",
    "test_sub.head()\n",
    "\n",
    "# Preprocess test data\n",
    "test_sub = preprocess.transform(test_sub)\n",
    "test_sub\n",
    "\n",
    "# Prediction on test data\n",
    "test_sub_pred = grid_lgb.best_estimator_.predict_proba(test_sub)[:, 1]\n",
    "test_sub_pred\n",
    "\n",
    "# Save prediction\n",
    "submission = pd.DataFrame({'LABEL': test_sub_pred})\n",
    "submission.reset_index(inplace=True)\n",
    "submission.to_csv('./src/submission_lgb.csv', index=False)"
   ]
  },
  {
   "cell_type": "markdown",
   "metadata": {},
   "source": [
    "## Grid search on CatBoost"
   ]
  },
  {
   "cell_type": "markdown",
   "metadata": {},
   "source": [
    "### Grid model"
   ]
  },
  {
   "cell_type": "code",
   "execution_count": 44,
   "metadata": {},
   "outputs": [
    {
     "name": "stdout",
     "output_type": "stream",
     "text": [
      "Fitting 2 folds for each of 2 candidates, totalling 4 fits\n",
      "Learning rate set to 0.5\n",
      "0:\tlearn: 0.3269547\ttotal: 1.33s\tremaining: 1m 5s\n",
      "1:\tlearn: 0.2594057\ttotal: 2.58s\tremaining: 1m 2s\n",
      "2:\tlearn: 0.2417995\ttotal: 3.67s\tremaining: 57.5s\n",
      "3:\tlearn: 0.2356122\ttotal: 4.99s\tremaining: 57.3s\n",
      "4:\tlearn: 0.2312922\ttotal: 6.17s\tremaining: 55.5s\n",
      "5:\tlearn: 0.2291047\ttotal: 7.3s\tremaining: 53.5s\n",
      "6:\tlearn: 0.2277881\ttotal: 8.2s\tremaining: 50.3s\n",
      "7:\tlearn: 0.2263378\ttotal: 9.1s\tremaining: 47.8s\n",
      "8:\tlearn: 0.2253500\ttotal: 10.1s\tremaining: 45.9s\n",
      "9:\tlearn: 0.2248085\ttotal: 11s\tremaining: 43.8s\n",
      "10:\tlearn: 0.2238296\ttotal: 11.9s\tremaining: 42s\n",
      "11:\tlearn: 0.2231126\ttotal: 12.8s\tremaining: 40.7s\n",
      "12:\tlearn: 0.2226794\ttotal: 13.7s\tremaining: 38.9s\n",
      "13:\tlearn: 0.2223611\ttotal: 14.6s\tremaining: 37.6s\n",
      "14:\tlearn: 0.2218535\ttotal: 15.5s\tremaining: 36.2s\n",
      "15:\tlearn: 0.2217784\ttotal: 16.4s\tremaining: 34.9s\n",
      "16:\tlearn: 0.2213521\ttotal: 17.3s\tremaining: 33.6s\n",
      "17:\tlearn: 0.2212594\ttotal: 18.2s\tremaining: 32.3s\n",
      "18:\tlearn: 0.2210146\ttotal: 19s\tremaining: 31s\n",
      "19:\tlearn: 0.2206908\ttotal: 20s\tremaining: 29.9s\n",
      "20:\tlearn: 0.2206038\ttotal: 20.8s\tremaining: 28.8s\n",
      "21:\tlearn: 0.2205142\ttotal: 21.7s\tremaining: 27.6s\n",
      "22:\tlearn: 0.2204225\ttotal: 22.5s\tremaining: 26.5s\n",
      "23:\tlearn: 0.2203257\ttotal: 23.4s\tremaining: 25.3s\n",
      "24:\tlearn: 0.2202195\ttotal: 24.2s\tremaining: 24.2s\n",
      "25:\tlearn: 0.2200994\ttotal: 25.2s\tremaining: 23.2s\n",
      "26:\tlearn: 0.2199795\ttotal: 26s\tremaining: 22.1s\n",
      "27:\tlearn: 0.2192483\ttotal: 26.9s\tremaining: 21.1s\n",
      "28:\tlearn: 0.2191242\ttotal: 27.7s\tremaining: 20.1s\n",
      "29:\tlearn: 0.2186607\ttotal: 28.6s\tremaining: 19.1s\n",
      "30:\tlearn: 0.2183692\ttotal: 29.5s\tremaining: 18.1s\n",
      "31:\tlearn: 0.2180633\ttotal: 30.4s\tremaining: 17.1s\n",
      "32:\tlearn: 0.2179080\ttotal: 31.3s\tremaining: 16.1s\n",
      "33:\tlearn: 0.2178050\ttotal: 32.2s\tremaining: 15.1s\n",
      "34:\tlearn: 0.2176886\ttotal: 33s\tremaining: 14.2s\n",
      "35:\tlearn: 0.2175806\ttotal: 33.9s\tremaining: 13.2s\n",
      "36:\tlearn: 0.2174682\ttotal: 34.8s\tremaining: 12.2s\n",
      "37:\tlearn: 0.2173659\ttotal: 35.7s\tremaining: 11.3s\n",
      "38:\tlearn: 0.2172775\ttotal: 36.6s\tremaining: 10.3s\n",
      "39:\tlearn: 0.2171856\ttotal: 37.4s\tremaining: 9.36s\n",
      "40:\tlearn: 0.2170905\ttotal: 38.3s\tremaining: 8.4s\n",
      "41:\tlearn: 0.2169965\ttotal: 39.1s\tremaining: 7.45s\n",
      "42:\tlearn: 0.2169098\ttotal: 40s\tremaining: 6.52s\n",
      "43:\tlearn: 0.2168204\ttotal: 40.9s\tremaining: 5.58s\n",
      "44:\tlearn: 0.2165503\ttotal: 41.8s\tremaining: 4.65s\n",
      "45:\tlearn: 0.2162728\ttotal: 42.8s\tremaining: 3.72s\n",
      "46:\tlearn: 0.2161869\ttotal: 43.7s\tremaining: 2.79s\n",
      "47:\tlearn: 0.2160453\ttotal: 44.7s\tremaining: 1.86s\n",
      "48:\tlearn: 0.2159586\ttotal: 45.7s\tremaining: 932ms\n",
      "49:\tlearn: 0.2158827\ttotal: 46.6s\tremaining: 0us\n",
      "[CV] END ....................................n_estimators=50; total time= 1.5min\n",
      "Learning rate set to 0.5\n",
      "0:\tlearn: 0.3267479\ttotal: 950ms\tremaining: 46.5s\n",
      "1:\tlearn: 0.2583969\ttotal: 1.89s\tremaining: 45.5s\n",
      "2:\tlearn: 0.2413290\ttotal: 2.75s\tremaining: 43.1s\n",
      "3:\tlearn: 0.2337890\ttotal: 3.69s\tremaining: 42.4s\n",
      "4:\tlearn: 0.2308801\ttotal: 4.58s\tremaining: 41.2s\n",
      "5:\tlearn: 0.2283162\ttotal: 5.51s\tremaining: 40.4s\n",
      "6:\tlearn: 0.2266491\ttotal: 6.44s\tremaining: 39.6s\n",
      "7:\tlearn: 0.2256514\ttotal: 7.38s\tremaining: 38.7s\n",
      "8:\tlearn: 0.2246732\ttotal: 8.23s\tremaining: 37.5s\n",
      "9:\tlearn: 0.2240650\ttotal: 9.08s\tremaining: 36.3s\n",
      "10:\tlearn: 0.2235602\ttotal: 10.1s\tremaining: 35.7s\n",
      "11:\tlearn: 0.2229828\ttotal: 10.9s\tremaining: 34.6s\n",
      "12:\tlearn: 0.2223495\ttotal: 11.9s\tremaining: 33.8s\n",
      "13:\tlearn: 0.2219108\ttotal: 12.7s\tremaining: 32.8s\n",
      "14:\tlearn: 0.2213962\ttotal: 13.6s\tremaining: 31.8s\n",
      "15:\tlearn: 0.2213342\ttotal: 14.5s\tremaining: 30.8s\n",
      "16:\tlearn: 0.2208948\ttotal: 15.4s\tremaining: 29.9s\n",
      "17:\tlearn: 0.2208363\ttotal: 16.3s\tremaining: 28.9s\n",
      "18:\tlearn: 0.2207603\ttotal: 17.1s\tremaining: 27.9s\n",
      "19:\tlearn: 0.2207029\ttotal: 17.9s\tremaining: 26.9s\n",
      "20:\tlearn: 0.2205992\ttotal: 18.7s\tremaining: 25.9s\n",
      "21:\tlearn: 0.2205178\ttotal: 19.6s\tremaining: 25s\n",
      "22:\tlearn: 0.2204258\ttotal: 20.5s\tremaining: 24.1s\n",
      "23:\tlearn: 0.2203139\ttotal: 21.4s\tremaining: 23.2s\n",
      "24:\tlearn: 0.2201908\ttotal: 22.3s\tremaining: 22.3s\n",
      "25:\tlearn: 0.2200738\ttotal: 23.1s\tremaining: 21.3s\n",
      "26:\tlearn: 0.2199668\ttotal: 23.9s\tremaining: 20.4s\n",
      "27:\tlearn: 0.2198585\ttotal: 24.8s\tremaining: 19.5s\n",
      "28:\tlearn: 0.2197457\ttotal: 25.7s\tremaining: 18.6s\n",
      "29:\tlearn: 0.2193543\ttotal: 26.6s\tremaining: 17.8s\n",
      "30:\tlearn: 0.2188707\ttotal: 27.5s\tremaining: 16.9s\n",
      "31:\tlearn: 0.2187251\ttotal: 28.4s\tremaining: 16s\n",
      "32:\tlearn: 0.2186159\ttotal: 29.3s\tremaining: 15.1s\n",
      "33:\tlearn: 0.2185167\ttotal: 30.2s\tremaining: 14.2s\n",
      "34:\tlearn: 0.2184218\ttotal: 31.1s\tremaining: 13.3s\n",
      "35:\tlearn: 0.2183227\ttotal: 32.2s\tremaining: 12.5s\n",
      "36:\tlearn: 0.2182329\ttotal: 33.3s\tremaining: 11.7s\n",
      "37:\tlearn: 0.2181374\ttotal: 34.3s\tremaining: 10.8s\n",
      "38:\tlearn: 0.2180463\ttotal: 35.2s\tremaining: 9.94s\n",
      "39:\tlearn: 0.2179536\ttotal: 36.1s\tremaining: 9.02s\n",
      "40:\tlearn: 0.2174971\ttotal: 37.1s\tremaining: 8.14s\n",
      "41:\tlearn: 0.2174173\ttotal: 37.9s\tremaining: 7.22s\n",
      "42:\tlearn: 0.2173374\ttotal: 38.8s\tremaining: 6.31s\n",
      "43:\tlearn: 0.2172500\ttotal: 39.8s\tremaining: 5.42s\n",
      "44:\tlearn: 0.2171760\ttotal: 40.7s\tremaining: 4.52s\n",
      "45:\tlearn: 0.2170892\ttotal: 41.7s\tremaining: 3.62s\n",
      "46:\tlearn: 0.2170152\ttotal: 42.5s\tremaining: 2.71s\n",
      "47:\tlearn: 0.2169349\ttotal: 43.3s\tremaining: 1.8s\n",
      "48:\tlearn: 0.2168554\ttotal: 44.2s\tremaining: 901ms\n",
      "49:\tlearn: 0.2165340\ttotal: 45.1s\tremaining: 0us\n",
      "[CV] END ....................................n_estimators=50; total time= 1.5min\n",
      "Learning rate set to 0.5\n",
      "0:\tlearn: 0.3269547\ttotal: 1.39s\tremaining: 2m 18s\n",
      "1:\tlearn: 0.2594057\ttotal: 2.68s\tremaining: 2m 11s\n",
      "2:\tlearn: 0.2417995\ttotal: 4.03s\tremaining: 2m 10s\n",
      "3:\tlearn: 0.2356122\ttotal: 5.21s\tremaining: 2m 4s\n",
      "4:\tlearn: 0.2312922\ttotal: 6.42s\tremaining: 2m 1s\n",
      "5:\tlearn: 0.2291047\ttotal: 7.69s\tremaining: 2m\n",
      "6:\tlearn: 0.2277881\ttotal: 8.87s\tremaining: 1m 57s\n",
      "7:\tlearn: 0.2263378\ttotal: 10.2s\tremaining: 1m 56s\n",
      "8:\tlearn: 0.2253500\ttotal: 11.6s\tremaining: 1m 57s\n",
      "9:\tlearn: 0.2248085\ttotal: 12.8s\tremaining: 1m 55s\n",
      "10:\tlearn: 0.2238296\ttotal: 14s\tremaining: 1m 53s\n",
      "11:\tlearn: 0.2231126\ttotal: 15.2s\tremaining: 1m 51s\n",
      "12:\tlearn: 0.2226794\ttotal: 16.3s\tremaining: 1m 49s\n",
      "13:\tlearn: 0.2223611\ttotal: 17.5s\tremaining: 1m 47s\n",
      "14:\tlearn: 0.2218535\ttotal: 18.6s\tremaining: 1m 45s\n",
      "15:\tlearn: 0.2217784\ttotal: 19.7s\tremaining: 1m 43s\n",
      "16:\tlearn: 0.2213521\ttotal: 21s\tremaining: 1m 42s\n",
      "17:\tlearn: 0.2212594\ttotal: 22.1s\tremaining: 1m 40s\n",
      "18:\tlearn: 0.2210146\ttotal: 23.2s\tremaining: 1m 38s\n",
      "19:\tlearn: 0.2206908\ttotal: 24.2s\tremaining: 1m 36s\n",
      "20:\tlearn: 0.2206038\ttotal: 25.3s\tremaining: 1m 35s\n",
      "21:\tlearn: 0.2205142\ttotal: 26.5s\tremaining: 1m 33s\n",
      "22:\tlearn: 0.2204225\ttotal: 27.6s\tremaining: 1m 32s\n",
      "23:\tlearn: 0.2203257\ttotal: 28.6s\tremaining: 1m 30s\n",
      "24:\tlearn: 0.2202195\ttotal: 29.7s\tremaining: 1m 29s\n",
      "25:\tlearn: 0.2200994\ttotal: 30.9s\tremaining: 1m 27s\n",
      "26:\tlearn: 0.2199795\ttotal: 32s\tremaining: 1m 26s\n",
      "27:\tlearn: 0.2192483\ttotal: 33.1s\tremaining: 1m 25s\n",
      "28:\tlearn: 0.2191242\ttotal: 34.2s\tremaining: 1m 23s\n",
      "29:\tlearn: 0.2186607\ttotal: 35.3s\tremaining: 1m 22s\n",
      "30:\tlearn: 0.2183692\ttotal: 36.4s\tremaining: 1m 21s\n",
      "31:\tlearn: 0.2180633\ttotal: 37.5s\tremaining: 1m 19s\n",
      "32:\tlearn: 0.2179080\ttotal: 38.6s\tremaining: 1m 18s\n",
      "33:\tlearn: 0.2178050\ttotal: 39.7s\tremaining: 1m 16s\n",
      "34:\tlearn: 0.2176886\ttotal: 40.8s\tremaining: 1m 15s\n",
      "35:\tlearn: 0.2175806\ttotal: 41.9s\tremaining: 1m 14s\n",
      "36:\tlearn: 0.2174682\ttotal: 43s\tremaining: 1m 13s\n",
      "37:\tlearn: 0.2173659\ttotal: 44.1s\tremaining: 1m 11s\n",
      "38:\tlearn: 0.2172775\ttotal: 45.1s\tremaining: 1m 10s\n",
      "39:\tlearn: 0.2171856\ttotal: 46.3s\tremaining: 1m 9s\n",
      "40:\tlearn: 0.2170905\ttotal: 47.4s\tremaining: 1m 8s\n",
      "41:\tlearn: 0.2169965\ttotal: 48.6s\tremaining: 1m 7s\n",
      "42:\tlearn: 0.2169098\ttotal: 49.6s\tremaining: 1m 5s\n",
      "43:\tlearn: 0.2168204\ttotal: 50.8s\tremaining: 1m 4s\n",
      "44:\tlearn: 0.2165503\ttotal: 52s\tremaining: 1m 3s\n",
      "45:\tlearn: 0.2162728\ttotal: 53.2s\tremaining: 1m 2s\n",
      "46:\tlearn: 0.2161869\ttotal: 54.4s\tremaining: 1m 1s\n",
      "47:\tlearn: 0.2160453\ttotal: 55.6s\tremaining: 1m\n",
      "48:\tlearn: 0.2159586\ttotal: 56.7s\tremaining: 59s\n",
      "49:\tlearn: 0.2158827\ttotal: 57.8s\tremaining: 57.8s\n",
      "50:\tlearn: 0.2157400\ttotal: 58.8s\tremaining: 56.5s\n",
      "51:\tlearn: 0.2156596\ttotal: 59.9s\tremaining: 55.3s\n",
      "52:\tlearn: 0.2155743\ttotal: 1m 1s\tremaining: 54.1s\n",
      "53:\tlearn: 0.2155023\ttotal: 1m 2s\tremaining: 52.9s\n",
      "54:\tlearn: 0.2151444\ttotal: 1m 3s\tremaining: 51.7s\n",
      "55:\tlearn: 0.2150658\ttotal: 1m 4s\tremaining: 50.5s\n",
      "56:\tlearn: 0.2149870\ttotal: 1m 5s\tremaining: 49.5s\n",
      "57:\tlearn: 0.2148652\ttotal: 1m 6s\tremaining: 48.4s\n",
      "58:\tlearn: 0.2148037\ttotal: 1m 8s\tremaining: 47.5s\n",
      "59:\tlearn: 0.2147307\ttotal: 1m 9s\tremaining: 46.4s\n",
      "60:\tlearn: 0.2146638\ttotal: 1m 10s\tremaining: 45.3s\n",
      "61:\tlearn: 0.2145926\ttotal: 1m 12s\tremaining: 44.2s\n",
      "62:\tlearn: 0.2145292\ttotal: 1m 13s\tremaining: 43.1s\n",
      "63:\tlearn: 0.2144642\ttotal: 1m 14s\tremaining: 41.9s\n",
      "64:\tlearn: 0.2143775\ttotal: 1m 15s\tremaining: 40.9s\n",
      "65:\tlearn: 0.2140573\ttotal: 1m 17s\tremaining: 39.7s\n",
      "66:\tlearn: 0.2140004\ttotal: 1m 18s\tremaining: 38.5s\n",
      "67:\tlearn: 0.2135781\ttotal: 1m 19s\tremaining: 37.3s\n",
      "68:\tlearn: 0.2135158\ttotal: 1m 20s\tremaining: 36.1s\n",
      "69:\tlearn: 0.2134530\ttotal: 1m 21s\tremaining: 35s\n",
      "70:\tlearn: 0.2133143\ttotal: 1m 22s\tremaining: 33.9s\n",
      "71:\tlearn: 0.2132546\ttotal: 1m 24s\tremaining: 32.7s\n",
      "72:\tlearn: 0.2130397\ttotal: 1m 25s\tremaining: 31.5s\n",
      "73:\tlearn: 0.2128937\ttotal: 1m 26s\tremaining: 30.3s\n",
      "74:\tlearn: 0.2128014\ttotal: 1m 27s\tremaining: 29.2s\n",
      "75:\tlearn: 0.2127177\ttotal: 1m 28s\tremaining: 28s\n",
      "76:\tlearn: 0.2125953\ttotal: 1m 29s\tremaining: 26.8s\n",
      "77:\tlearn: 0.2125420\ttotal: 1m 30s\tremaining: 25.7s\n",
      "78:\tlearn: 0.2124038\ttotal: 1m 32s\tremaining: 24.5s\n",
      "79:\tlearn: 0.2123512\ttotal: 1m 33s\tremaining: 23.3s\n",
      "80:\tlearn: 0.2122517\ttotal: 1m 34s\tremaining: 22.2s\n",
      "81:\tlearn: 0.2121995\ttotal: 1m 35s\tremaining: 21s\n",
      "82:\tlearn: 0.2121344\ttotal: 1m 36s\tremaining: 19.8s\n",
      "83:\tlearn: 0.2120810\ttotal: 1m 37s\tremaining: 18.7s\n",
      "84:\tlearn: 0.2119739\ttotal: 1m 39s\tremaining: 17.5s\n",
      "85:\tlearn: 0.2117124\ttotal: 1m 40s\tremaining: 16.3s\n",
      "86:\tlearn: 0.2116554\ttotal: 1m 41s\tremaining: 15.2s\n",
      "87:\tlearn: 0.2116036\ttotal: 1m 42s\tremaining: 14s\n",
      "88:\tlearn: 0.2115449\ttotal: 1m 43s\tremaining: 12.8s\n",
      "89:\tlearn: 0.2114676\ttotal: 1m 45s\tremaining: 11.7s\n",
      "90:\tlearn: 0.2112423\ttotal: 1m 46s\tremaining: 10.5s\n",
      "91:\tlearn: 0.2111946\ttotal: 1m 47s\tremaining: 9.35s\n",
      "92:\tlearn: 0.2111001\ttotal: 1m 48s\tremaining: 8.17s\n",
      "93:\tlearn: 0.2110018\ttotal: 1m 49s\tremaining: 7s\n",
      "94:\tlearn: 0.2109535\ttotal: 1m 50s\tremaining: 5.84s\n",
      "95:\tlearn: 0.2109004\ttotal: 1m 52s\tremaining: 4.67s\n",
      "96:\tlearn: 0.2108234\ttotal: 1m 53s\tremaining: 3.5s\n",
      "97:\tlearn: 0.2107088\ttotal: 1m 54s\tremaining: 2.33s\n",
      "98:\tlearn: 0.2106376\ttotal: 1m 55s\tremaining: 1.17s\n",
      "99:\tlearn: 0.2105796\ttotal: 1m 56s\tremaining: 0us\n",
      "[CV] END ...................................n_estimators=100; total time= 2.8min\n",
      "Learning rate set to 0.5\n",
      "0:\tlearn: 0.3267479\ttotal: 1.48s\tremaining: 2m 26s\n",
      "1:\tlearn: 0.2583969\ttotal: 2.58s\tremaining: 2m 6s\n",
      "2:\tlearn: 0.2413290\ttotal: 3.8s\tremaining: 2m 2s\n",
      "3:\tlearn: 0.2337890\ttotal: 4.95s\tremaining: 1m 58s\n",
      "4:\tlearn: 0.2308801\ttotal: 6.03s\tremaining: 1m 54s\n",
      "5:\tlearn: 0.2283162\ttotal: 7.17s\tremaining: 1m 52s\n",
      "6:\tlearn: 0.2266491\ttotal: 8.29s\tremaining: 1m 50s\n",
      "7:\tlearn: 0.2256514\ttotal: 9.38s\tremaining: 1m 47s\n",
      "8:\tlearn: 0.2246732\ttotal: 10.4s\tremaining: 1m 45s\n",
      "9:\tlearn: 0.2240650\ttotal: 11.4s\tremaining: 1m 42s\n",
      "10:\tlearn: 0.2235602\ttotal: 12.4s\tremaining: 1m 40s\n",
      "11:\tlearn: 0.2229828\ttotal: 13.6s\tremaining: 1m 39s\n",
      "12:\tlearn: 0.2223495\ttotal: 14.6s\tremaining: 1m 37s\n",
      "13:\tlearn: 0.2219108\ttotal: 15.6s\tremaining: 1m 35s\n",
      "14:\tlearn: 0.2213962\ttotal: 16.7s\tremaining: 1m 34s\n",
      "15:\tlearn: 0.2213342\ttotal: 17.7s\tremaining: 1m 32s\n",
      "16:\tlearn: 0.2208948\ttotal: 18.7s\tremaining: 1m 31s\n",
      "17:\tlearn: 0.2208363\ttotal: 19.8s\tremaining: 1m 30s\n",
      "18:\tlearn: 0.2207603\ttotal: 20.7s\tremaining: 1m 28s\n",
      "19:\tlearn: 0.2207029\ttotal: 21.7s\tremaining: 1m 26s\n",
      "20:\tlearn: 0.2205992\ttotal: 22.7s\tremaining: 1m 25s\n",
      "21:\tlearn: 0.2205178\ttotal: 23.7s\tremaining: 1m 23s\n",
      "22:\tlearn: 0.2204258\ttotal: 24.7s\tremaining: 1m 22s\n",
      "23:\tlearn: 0.2203139\ttotal: 25.7s\tremaining: 1m 21s\n",
      "24:\tlearn: 0.2201908\ttotal: 26.6s\tremaining: 1m 19s\n",
      "25:\tlearn: 0.2200738\ttotal: 27.6s\tremaining: 1m 18s\n",
      "26:\tlearn: 0.2199668\ttotal: 28.7s\tremaining: 1m 17s\n",
      "27:\tlearn: 0.2198585\ttotal: 29.7s\tremaining: 1m 16s\n",
      "28:\tlearn: 0.2197457\ttotal: 30.6s\tremaining: 1m 15s\n",
      "29:\tlearn: 0.2193543\ttotal: 31.6s\tremaining: 1m 13s\n",
      "30:\tlearn: 0.2188707\ttotal: 32.6s\tremaining: 1m 12s\n",
      "31:\tlearn: 0.2187251\ttotal: 33.7s\tremaining: 1m 11s\n",
      "32:\tlearn: 0.2186159\ttotal: 34.7s\tremaining: 1m 10s\n",
      "33:\tlearn: 0.2185167\ttotal: 35.7s\tremaining: 1m 9s\n",
      "34:\tlearn: 0.2184218\ttotal: 36.7s\tremaining: 1m 8s\n",
      "35:\tlearn: 0.2183227\ttotal: 37.7s\tremaining: 1m 7s\n",
      "36:\tlearn: 0.2182329\ttotal: 38.7s\tremaining: 1m 5s\n",
      "37:\tlearn: 0.2181374\ttotal: 39.8s\tremaining: 1m 4s\n",
      "38:\tlearn: 0.2180463\ttotal: 40.7s\tremaining: 1m 3s\n",
      "39:\tlearn: 0.2179536\ttotal: 41.7s\tremaining: 1m 2s\n",
      "40:\tlearn: 0.2174971\ttotal: 42.7s\tremaining: 1m 1s\n",
      "41:\tlearn: 0.2174173\ttotal: 43.7s\tremaining: 1m\n",
      "42:\tlearn: 0.2173374\ttotal: 44.7s\tremaining: 59.3s\n",
      "43:\tlearn: 0.2172500\ttotal: 45.7s\tremaining: 58.2s\n",
      "44:\tlearn: 0.2171760\ttotal: 46.6s\tremaining: 57s\n",
      "45:\tlearn: 0.2170892\ttotal: 47.7s\tremaining: 56s\n",
      "46:\tlearn: 0.2170152\ttotal: 48.7s\tremaining: 54.9s\n",
      "47:\tlearn: 0.2169349\ttotal: 49.7s\tremaining: 53.8s\n",
      "48:\tlearn: 0.2168554\ttotal: 50.6s\tremaining: 52.7s\n",
      "49:\tlearn: 0.2165340\ttotal: 51.6s\tremaining: 51.6s\n",
      "50:\tlearn: 0.2162571\ttotal: 52.6s\tremaining: 50.6s\n",
      "51:\tlearn: 0.2161858\ttotal: 53.7s\tremaining: 49.5s\n",
      "52:\tlearn: 0.2161081\ttotal: 54.7s\tremaining: 48.5s\n",
      "53:\tlearn: 0.2160330\ttotal: 55.8s\tremaining: 47.5s\n",
      "54:\tlearn: 0.2159660\ttotal: 56.7s\tremaining: 46.4s\n",
      "55:\tlearn: 0.2158951\ttotal: 57.8s\tremaining: 45.4s\n",
      "56:\tlearn: 0.2154585\ttotal: 58.8s\tremaining: 44.3s\n",
      "57:\tlearn: 0.2153912\ttotal: 59.8s\tremaining: 43.3s\n",
      "58:\tlearn: 0.2152984\ttotal: 1m\tremaining: 42.2s\n",
      "59:\tlearn: 0.2152366\ttotal: 1m 1s\tremaining: 41.2s\n",
      "60:\tlearn: 0.2148478\ttotal: 1m 3s\tremaining: 40.3s\n",
      "61:\tlearn: 0.2147868\ttotal: 1m 4s\tremaining: 39.3s\n",
      "62:\tlearn: 0.2144382\ttotal: 1m 5s\tremaining: 38.4s\n",
      "63:\tlearn: 0.2143679\ttotal: 1m 6s\tremaining: 37.4s\n",
      "64:\tlearn: 0.2141091\ttotal: 1m 7s\tremaining: 36.4s\n",
      "65:\tlearn: 0.2140504\ttotal: 1m 8s\tremaining: 35.4s\n",
      "66:\tlearn: 0.2139899\ttotal: 1m 9s\tremaining: 34.3s\n",
      "67:\tlearn: 0.2139228\ttotal: 1m 10s\tremaining: 33.3s\n",
      "68:\tlearn: 0.2137134\ttotal: 1m 11s\tremaining: 32.3s\n",
      "69:\tlearn: 0.2136628\ttotal: 1m 12s\tremaining: 31.2s\n",
      "70:\tlearn: 0.2135026\ttotal: 1m 13s\tremaining: 30.2s\n",
      "71:\tlearn: 0.2133545\ttotal: 1m 15s\tremaining: 29.2s\n",
      "72:\tlearn: 0.2132130\ttotal: 1m 16s\tremaining: 28.1s\n",
      "73:\tlearn: 0.2131567\ttotal: 1m 17s\tremaining: 27.1s\n",
      "74:\tlearn: 0.2129113\ttotal: 1m 18s\tremaining: 26.1s\n",
      "75:\tlearn: 0.2128606\ttotal: 1m 19s\tremaining: 25.1s\n",
      "76:\tlearn: 0.2128133\ttotal: 1m 20s\tremaining: 24.1s\n",
      "77:\tlearn: 0.2127621\ttotal: 1m 21s\tremaining: 23.1s\n",
      "78:\tlearn: 0.2126585\ttotal: 1m 22s\tremaining: 22s\n",
      "79:\tlearn: 0.2125302\ttotal: 1m 23s\tremaining: 21s\n",
      "80:\tlearn: 0.2122872\ttotal: 1m 24s\tremaining: 19.9s\n",
      "81:\tlearn: 0.2119288\ttotal: 1m 26s\tremaining: 18.9s\n",
      "82:\tlearn: 0.2117876\ttotal: 1m 27s\tremaining: 17.8s\n",
      "83:\tlearn: 0.2116761\ttotal: 1m 28s\tremaining: 16.8s\n",
      "84:\tlearn: 0.2116308\ttotal: 1m 29s\tremaining: 15.7s\n",
      "85:\tlearn: 0.2115458\ttotal: 1m 30s\tremaining: 14.7s\n",
      "86:\tlearn: 0.2112938\ttotal: 1m 31s\tremaining: 13.6s\n",
      "87:\tlearn: 0.2112171\ttotal: 1m 32s\tremaining: 12.6s\n",
      "88:\tlearn: 0.2109960\ttotal: 1m 33s\tremaining: 11.5s\n",
      "89:\tlearn: 0.2109241\ttotal: 1m 34s\tremaining: 10.5s\n",
      "90:\tlearn: 0.2108059\ttotal: 1m 35s\tremaining: 9.44s\n",
      "91:\tlearn: 0.2107419\ttotal: 1m 36s\tremaining: 8.39s\n",
      "92:\tlearn: 0.2106948\ttotal: 1m 37s\tremaining: 7.34s\n",
      "93:\tlearn: 0.2106101\ttotal: 1m 38s\tremaining: 6.29s\n",
      "94:\tlearn: 0.2105162\ttotal: 1m 39s\tremaining: 5.25s\n",
      "95:\tlearn: 0.2104579\ttotal: 1m 40s\tremaining: 4.2s\n",
      "96:\tlearn: 0.2103607\ttotal: 1m 41s\tremaining: 3.15s\n",
      "97:\tlearn: 0.2103111\ttotal: 1m 42s\tremaining: 2.1s\n",
      "98:\tlearn: 0.2102301\ttotal: 1m 43s\tremaining: 1.05s\n",
      "99:\tlearn: 0.2101485\ttotal: 1m 44s\tremaining: 0us\n",
      "[CV] END ...................................n_estimators=100; total time= 2.5min\n",
      "Learning rate set to 0.5\n",
      "0:\tlearn: 0.3275514\ttotal: 1.53s\tremaining: 2m 31s\n",
      "1:\tlearn: 0.2561078\ttotal: 3.03s\tremaining: 2m 28s\n",
      "2:\tlearn: 0.2389439\ttotal: 4.39s\tremaining: 2m 22s\n",
      "3:\tlearn: 0.2324941\ttotal: 5.77s\tremaining: 2m 18s\n",
      "4:\tlearn: 0.2302562\ttotal: 7.16s\tremaining: 2m 16s\n",
      "5:\tlearn: 0.2279162\ttotal: 8.54s\tremaining: 2m 13s\n",
      "6:\tlearn: 0.2264138\ttotal: 9.94s\tremaining: 2m 12s\n",
      "7:\tlearn: 0.2253756\ttotal: 11.3s\tremaining: 2m 9s\n",
      "8:\tlearn: 0.2248441\ttotal: 12.6s\tremaining: 2m 7s\n",
      "9:\tlearn: 0.2239860\ttotal: 14s\tremaining: 2m 6s\n",
      "10:\tlearn: 0.2232851\ttotal: 15.3s\tremaining: 2m 4s\n",
      "11:\tlearn: 0.2227187\ttotal: 16.8s\tremaining: 2m 2s\n",
      "12:\tlearn: 0.2222705\ttotal: 18.1s\tremaining: 2m 1s\n",
      "13:\tlearn: 0.2218814\ttotal: 19.3s\tremaining: 1m 58s\n",
      "14:\tlearn: 0.2214789\ttotal: 20.7s\tremaining: 1m 57s\n",
      "15:\tlearn: 0.2213236\ttotal: 22.1s\tremaining: 1m 55s\n",
      "16:\tlearn: 0.2211301\ttotal: 23.4s\tremaining: 1m 54s\n",
      "17:\tlearn: 0.2208385\ttotal: 24.7s\tremaining: 1m 52s\n",
      "18:\tlearn: 0.2207620\ttotal: 26s\tremaining: 1m 50s\n",
      "19:\tlearn: 0.2205529\ttotal: 27.4s\tremaining: 1m 49s\n",
      "20:\tlearn: 0.2203859\ttotal: 28.7s\tremaining: 1m 48s\n",
      "21:\tlearn: 0.2203449\ttotal: 30s\tremaining: 1m 46s\n",
      "22:\tlearn: 0.2200501\ttotal: 31.4s\tremaining: 1m 45s\n",
      "23:\tlearn: 0.2198870\ttotal: 32.7s\tremaining: 1m 43s\n",
      "24:\tlearn: 0.2198271\ttotal: 34.1s\tremaining: 1m 42s\n",
      "25:\tlearn: 0.2197554\ttotal: 35.3s\tremaining: 1m 40s\n",
      "26:\tlearn: 0.2196197\ttotal: 36.7s\tremaining: 1m 39s\n",
      "27:\tlearn: 0.2195596\ttotal: 38s\tremaining: 1m 37s\n",
      "28:\tlearn: 0.2194929\ttotal: 39.3s\tremaining: 1m 36s\n",
      "29:\tlearn: 0.2194305\ttotal: 40.5s\tremaining: 1m 34s\n",
      "30:\tlearn: 0.2193718\ttotal: 41.9s\tremaining: 1m 33s\n",
      "31:\tlearn: 0.2193073\ttotal: 43.1s\tremaining: 1m 31s\n",
      "32:\tlearn: 0.2189836\ttotal: 44.5s\tremaining: 1m 30s\n",
      "33:\tlearn: 0.2189282\ttotal: 45.7s\tremaining: 1m 28s\n",
      "34:\tlearn: 0.2188139\ttotal: 47.1s\tremaining: 1m 27s\n",
      "35:\tlearn: 0.2186078\ttotal: 48.4s\tremaining: 1m 26s\n",
      "36:\tlearn: 0.2184634\ttotal: 49.7s\tremaining: 1m 24s\n",
      "37:\tlearn: 0.2182098\ttotal: 51s\tremaining: 1m 23s\n",
      "38:\tlearn: 0.2181488\ttotal: 52.3s\tremaining: 1m 21s\n",
      "39:\tlearn: 0.2180965\ttotal: 53.7s\tremaining: 1m 20s\n",
      "40:\tlearn: 0.2180426\ttotal: 54.9s\tremaining: 1m 18s\n",
      "41:\tlearn: 0.2179478\ttotal: 56.1s\tremaining: 1m 17s\n",
      "42:\tlearn: 0.2178589\ttotal: 57.5s\tremaining: 1m 16s\n",
      "43:\tlearn: 0.2178017\ttotal: 58.8s\tremaining: 1m 14s\n",
      "44:\tlearn: 0.2176273\ttotal: 1m\tremaining: 1m 13s\n",
      "45:\tlearn: 0.2172929\ttotal: 1m 1s\tremaining: 1m 12s\n",
      "46:\tlearn: 0.2172394\ttotal: 1m 2s\tremaining: 1m 10s\n",
      "47:\tlearn: 0.2171890\ttotal: 1m 4s\tremaining: 1m 9s\n",
      "48:\tlearn: 0.2171341\ttotal: 1m 5s\tremaining: 1m 8s\n",
      "49:\tlearn: 0.2170816\ttotal: 1m 6s\tremaining: 1m 6s\n",
      "50:\tlearn: 0.2170346\ttotal: 1m 8s\tremaining: 1m 5s\n",
      "51:\tlearn: 0.2169899\ttotal: 1m 9s\tremaining: 1m 3s\n",
      "52:\tlearn: 0.2169396\ttotal: 1m 10s\tremaining: 1m 2s\n",
      "53:\tlearn: 0.2167777\ttotal: 1m 11s\tremaining: 1m 1s\n",
      "54:\tlearn: 0.2167304\ttotal: 1m 13s\tremaining: 59.9s\n",
      "55:\tlearn: 0.2166812\ttotal: 1m 14s\tremaining: 58.5s\n",
      "56:\tlearn: 0.2166322\ttotal: 1m 15s\tremaining: 57.2s\n",
      "57:\tlearn: 0.2165700\ttotal: 1m 17s\tremaining: 55.9s\n",
      "58:\tlearn: 0.2165196\ttotal: 1m 18s\tremaining: 54.6s\n",
      "59:\tlearn: 0.2164767\ttotal: 1m 19s\tremaining: 53.2s\n",
      "60:\tlearn: 0.2164306\ttotal: 1m 21s\tremaining: 51.8s\n",
      "61:\tlearn: 0.2163944\ttotal: 1m 22s\tremaining: 50.5s\n",
      "62:\tlearn: 0.2163533\ttotal: 1m 23s\tremaining: 49.2s\n",
      "63:\tlearn: 0.2163114\ttotal: 1m 24s\tremaining: 47.8s\n",
      "64:\tlearn: 0.2162656\ttotal: 1m 26s\tremaining: 46.5s\n",
      "65:\tlearn: 0.2162229\ttotal: 1m 27s\tremaining: 45.1s\n",
      "66:\tlearn: 0.2161765\ttotal: 1m 28s\tremaining: 43.8s\n",
      "67:\tlearn: 0.2161350\ttotal: 1m 30s\tremaining: 42.4s\n",
      "68:\tlearn: 0.2160895\ttotal: 1m 31s\tremaining: 41.1s\n",
      "69:\tlearn: 0.2158382\ttotal: 1m 32s\tremaining: 39.7s\n",
      "70:\tlearn: 0.2157983\ttotal: 1m 34s\tremaining: 38.4s\n",
      "71:\tlearn: 0.2157548\ttotal: 1m 35s\tremaining: 37.1s\n",
      "72:\tlearn: 0.2155953\ttotal: 1m 36s\tremaining: 35.8s\n",
      "73:\tlearn: 0.2155520\ttotal: 1m 37s\tremaining: 34.4s\n",
      "74:\tlearn: 0.2155063\ttotal: 1m 39s\tremaining: 33.1s\n",
      "75:\tlearn: 0.2154654\ttotal: 1m 40s\tremaining: 31.7s\n",
      "76:\tlearn: 0.2154208\ttotal: 1m 41s\tremaining: 30.4s\n",
      "77:\tlearn: 0.2153788\ttotal: 1m 43s\tremaining: 29.1s\n",
      "78:\tlearn: 0.2153239\ttotal: 1m 44s\tremaining: 27.8s\n",
      "79:\tlearn: 0.2150764\ttotal: 1m 45s\tremaining: 26.5s\n",
      "80:\tlearn: 0.2150373\ttotal: 1m 47s\tremaining: 25.1s\n",
      "81:\tlearn: 0.2149977\ttotal: 1m 48s\tremaining: 23.8s\n",
      "82:\tlearn: 0.2149250\ttotal: 1m 49s\tremaining: 22.5s\n",
      "83:\tlearn: 0.2148849\ttotal: 1m 51s\tremaining: 21.2s\n",
      "84:\tlearn: 0.2148506\ttotal: 1m 52s\tremaining: 19.8s\n",
      "85:\tlearn: 0.2148098\ttotal: 1m 53s\tremaining: 18.5s\n",
      "86:\tlearn: 0.2147686\ttotal: 1m 55s\tremaining: 17.2s\n",
      "87:\tlearn: 0.2147294\ttotal: 1m 56s\tremaining: 15.9s\n",
      "88:\tlearn: 0.2146696\ttotal: 1m 57s\tremaining: 14.6s\n",
      "89:\tlearn: 0.2146339\ttotal: 1m 59s\tremaining: 13.2s\n",
      "90:\tlearn: 0.2145950\ttotal: 2m\tremaining: 11.9s\n",
      "91:\tlearn: 0.2145577\ttotal: 2m 1s\tremaining: 10.6s\n",
      "92:\tlearn: 0.2144792\ttotal: 2m 2s\tremaining: 9.25s\n",
      "93:\tlearn: 0.2144447\ttotal: 2m 4s\tremaining: 7.93s\n",
      "94:\tlearn: 0.2143856\ttotal: 2m 5s\tremaining: 6.6s\n",
      "95:\tlearn: 0.2143523\ttotal: 2m 6s\tremaining: 5.29s\n",
      "96:\tlearn: 0.2143176\ttotal: 2m 8s\tremaining: 3.96s\n",
      "97:\tlearn: 0.2139775\ttotal: 2m 9s\tremaining: 2.64s\n",
      "98:\tlearn: 0.2139143\ttotal: 2m 10s\tremaining: 1.32s\n",
      "99:\tlearn: 0.2138802\ttotal: 2m 12s\tremaining: 0us\n"
     ]
    },
    {
     "data": {
      "text/html": [
       "<style>#sk-container-id-7 {color: black;background-color: white;}#sk-container-id-7 pre{padding: 0;}#sk-container-id-7 div.sk-toggleable {background-color: white;}#sk-container-id-7 label.sk-toggleable__label {cursor: pointer;display: block;width: 100%;margin-bottom: 0;padding: 0.3em;box-sizing: border-box;text-align: center;}#sk-container-id-7 label.sk-toggleable__label-arrow:before {content: \"▸\";float: left;margin-right: 0.25em;color: #696969;}#sk-container-id-7 label.sk-toggleable__label-arrow:hover:before {color: black;}#sk-container-id-7 div.sk-estimator:hover label.sk-toggleable__label-arrow:before {color: black;}#sk-container-id-7 div.sk-toggleable__content {max-height: 0;max-width: 0;overflow: hidden;text-align: left;background-color: #f0f8ff;}#sk-container-id-7 div.sk-toggleable__content pre {margin: 0.2em;color: black;border-radius: 0.25em;background-color: #f0f8ff;}#sk-container-id-7 input.sk-toggleable__control:checked~div.sk-toggleable__content {max-height: 200px;max-width: 100%;overflow: auto;}#sk-container-id-7 input.sk-toggleable__control:checked~label.sk-toggleable__label-arrow:before {content: \"▾\";}#sk-container-id-7 div.sk-estimator input.sk-toggleable__control:checked~label.sk-toggleable__label {background-color: #d4ebff;}#sk-container-id-7 div.sk-label input.sk-toggleable__control:checked~label.sk-toggleable__label {background-color: #d4ebff;}#sk-container-id-7 input.sk-hidden--visually {border: 0;clip: rect(1px 1px 1px 1px);clip: rect(1px, 1px, 1px, 1px);height: 1px;margin: -1px;overflow: hidden;padding: 0;position: absolute;width: 1px;}#sk-container-id-7 div.sk-estimator {font-family: monospace;background-color: #f0f8ff;border: 1px dotted black;border-radius: 0.25em;box-sizing: border-box;margin-bottom: 0.5em;}#sk-container-id-7 div.sk-estimator:hover {background-color: #d4ebff;}#sk-container-id-7 div.sk-parallel-item::after {content: \"\";width: 100%;border-bottom: 1px solid gray;flex-grow: 1;}#sk-container-id-7 div.sk-label:hover label.sk-toggleable__label {background-color: #d4ebff;}#sk-container-id-7 div.sk-serial::before {content: \"\";position: absolute;border-left: 1px solid gray;box-sizing: border-box;top: 0;bottom: 0;left: 50%;z-index: 0;}#sk-container-id-7 div.sk-serial {display: flex;flex-direction: column;align-items: center;background-color: white;padding-right: 0.2em;padding-left: 0.2em;position: relative;}#sk-container-id-7 div.sk-item {position: relative;z-index: 1;}#sk-container-id-7 div.sk-parallel {display: flex;align-items: stretch;justify-content: center;background-color: white;position: relative;}#sk-container-id-7 div.sk-item::before, #sk-container-id-7 div.sk-parallel-item::before {content: \"\";position: absolute;border-left: 1px solid gray;box-sizing: border-box;top: 0;bottom: 0;left: 50%;z-index: -1;}#sk-container-id-7 div.sk-parallel-item {display: flex;flex-direction: column;z-index: 1;position: relative;background-color: white;}#sk-container-id-7 div.sk-parallel-item:first-child::after {align-self: flex-end;width: 50%;}#sk-container-id-7 div.sk-parallel-item:last-child::after {align-self: flex-start;width: 50%;}#sk-container-id-7 div.sk-parallel-item:only-child::after {width: 0;}#sk-container-id-7 div.sk-dashed-wrapped {border: 1px dashed gray;margin: 0 0.4em 0.5em 0.4em;box-sizing: border-box;padding-bottom: 0.4em;background-color: white;}#sk-container-id-7 div.sk-label label {font-family: monospace;font-weight: bold;display: inline-block;line-height: 1.2em;}#sk-container-id-7 div.sk-label-container {text-align: center;}#sk-container-id-7 div.sk-container {/* jupyter's `normalize.less` sets `[hidden] { display: none; }` but bootstrap.min.css set `[hidden] { display: none !important; }` so we also need the `!important` here to be able to override the default hidden behavior on the sphinx rendered scikit-learn.org. See: https://github.com/scikit-learn/scikit-learn/issues/21755 */display: inline-block !important;position: relative;}#sk-container-id-7 div.sk-text-repr-fallback {display: none;}</style><div id=\"sk-container-id-7\" class=\"sk-top-container\"><div class=\"sk-text-repr-fallback\"><pre>GridSearchCV(cv=2,\n",
       "             estimator=&lt;catboost.core.CatBoostClassifier object at 0x000001651C405640&gt;,\n",
       "             param_grid={&#x27;n_estimators&#x27;: [50, 100]},\n",
       "             scoring=&#x27;average_precision&#x27;, verbose=2)</pre><b>In a Jupyter environment, please rerun this cell to show the HTML representation or trust the notebook. <br />On GitHub, the HTML representation is unable to render, please try loading this page with nbviewer.org.</b></div><div class=\"sk-container\" hidden><div class=\"sk-item sk-dashed-wrapped\"><div class=\"sk-label-container\"><div class=\"sk-label sk-toggleable\"><input class=\"sk-toggleable__control sk-hidden--visually\" id=\"sk-estimator-id-15\" type=\"checkbox\" ><label for=\"sk-estimator-id-15\" class=\"sk-toggleable__label sk-toggleable__label-arrow\">GridSearchCV</label><div class=\"sk-toggleable__content\"><pre>GridSearchCV(cv=2,\n",
       "             estimator=&lt;catboost.core.CatBoostClassifier object at 0x000001651C405640&gt;,\n",
       "             param_grid={&#x27;n_estimators&#x27;: [50, 100]},\n",
       "             scoring=&#x27;average_precision&#x27;, verbose=2)</pre></div></div></div><div class=\"sk-parallel\"><div class=\"sk-parallel-item\"><div class=\"sk-item\"><div class=\"sk-label-container\"><div class=\"sk-label sk-toggleable\"><input class=\"sk-toggleable__control sk-hidden--visually\" id=\"sk-estimator-id-16\" type=\"checkbox\" ><label for=\"sk-estimator-id-16\" class=\"sk-toggleable__label sk-toggleable__label-arrow\">estimator: CatBoostClassifier</label><div class=\"sk-toggleable__content\"><pre>&lt;catboost.core.CatBoostClassifier object at 0x000001651C405640&gt;</pre></div></div></div><div class=\"sk-serial\"><div class=\"sk-item\"><div class=\"sk-estimator sk-toggleable\"><input class=\"sk-toggleable__control sk-hidden--visually\" id=\"sk-estimator-id-17\" type=\"checkbox\" ><label for=\"sk-estimator-id-17\" class=\"sk-toggleable__label sk-toggleable__label-arrow\">CatBoostClassifier</label><div class=\"sk-toggleable__content\"><pre>&lt;catboost.core.CatBoostClassifier object at 0x000001651C405640&gt;</pre></div></div></div></div></div></div></div></div></div></div>"
      ],
      "text/plain": [
       "GridSearchCV(cv=2,\n",
       "             estimator=<catboost.core.CatBoostClassifier object at 0x000001651C405640>,\n",
       "             param_grid={'n_estimators': [50, 100]},\n",
       "             scoring='average_precision', verbose=2)"
      ]
     },
     "execution_count": 44,
     "metadata": {},
     "output_type": "execute_result"
    }
   ],
   "source": [
    "# Grid search for best parameters on CatBoost\n",
    "param = {'n_estimators': [50, 100]}\n",
    "\n",
    "cat = CatBoostClassifier()\n",
    "grid_cat = GridSearchCV(cat, param, cv=2, scoring='average_precision', verbose=2)\n",
    "grid_cat.fit(X_train, Y_train)"
   ]
  },
  {
   "cell_type": "markdown",
   "metadata": {},
   "source": [
    "### Score"
   ]
  },
  {
   "cell_type": "code",
   "execution_count": 45,
   "metadata": {},
   "outputs": [
    {
     "name": "stdout",
     "output_type": "stream",
     "text": [
      "Average precision score on train set:  0.3212487692434546\n",
      "Average precision score on test set:  0.26537162870277714\n"
     ]
    }
   ],
   "source": [
    "# Average precision score\n",
    "print('Average precision score on train set: ', average_precision_score(Y_train, grid_cat.best_estimator_.predict_proba(X_train)[:,1]))\n",
    "print('Average precision score on test set: ', average_precision_score(Y_test, grid_cat.best_estimator_.predict_proba(X_test)[:,1]))"
   ]
  },
  {
   "cell_type": "markdown",
   "metadata": {},
   "source": [
    "### Save model"
   ]
  },
  {
   "cell_type": "code",
   "execution_count": 46,
   "metadata": {},
   "outputs": [
    {
     "data": {
      "text/plain": [
       "['./src/cat_model.pkl']"
      ]
     },
     "execution_count": 46,
     "metadata": {},
     "output_type": "execute_result"
    }
   ],
   "source": [
    "# save the model to disk\n",
    "filename = './src/cat_model.pkl'\n",
    "joblib.dump(grid_cat.best_estimator_, filename)"
   ]
  },
  {
   "cell_type": "markdown",
   "metadata": {},
   "source": [
    "### Submission"
   ]
  },
  {
   "cell_type": "code",
   "execution_count": 47,
   "metadata": {},
   "outputs": [
    {
     "name": "stderr",
     "output_type": "stream",
     "text": [
      "c:\\Users\\shexx\\anaconda3\\lib\\site-packages\\sklearn\\preprocessing\\_encoders.py:188: UserWarning: Found unknown categories in columns [0, 1, 2, 8, 9, 14, 15, 17, 20] during transform. These unknown categories will be encoded as all zeros\n",
      "  warnings.warn(\n"
     ]
    }
   ],
   "source": [
    "# Load submission data\n",
    "test_sub = pd.read_csv('./src/test.csv')\n",
    "test_sub.head()\n",
    "\n",
    "# Preprocess test data\n",
    "test_sub = preprocess.transform(test_sub)\n",
    "test_sub\n",
    "\n",
    "# Prediction on test data\n",
    "test_sub_pred = grid_cat.best_estimator_.predict_proba(test_sub)[:, 1]\n",
    "test_sub_pred\n",
    "\n",
    "# Save prediction\n",
    "submission = pd.DataFrame({'LABEL': test_sub_pred})\n",
    "submission.reset_index(inplace=True)\n",
    "submission.to_csv('./src/submission_cat.csv', index=False)"
   ]
  },
  {
   "cell_type": "markdown",
   "metadata": {},
   "source": [
    "## Voting Classifier"
   ]
  },
  {
   "cell_type": "markdown",
   "metadata": {},
   "source": [
    "### Voting model"
   ]
  },
  {
   "cell_type": "code",
   "execution_count": 49,
   "metadata": {},
   "outputs": [
    {
     "name": "stdout",
     "output_type": "stream",
     "text": [
      "Learning rate set to 0.5\n",
      "0:\tlearn: 0.3275514\ttotal: 1.27s\tremaining: 2m 5s\n",
      "1:\tlearn: 0.2561078\ttotal: 2.93s\tremaining: 2m 23s\n",
      "2:\tlearn: 0.2389439\ttotal: 4.26s\tremaining: 2m 17s\n",
      "3:\tlearn: 0.2324941\ttotal: 5.76s\tremaining: 2m 18s\n",
      "4:\tlearn: 0.2302562\ttotal: 7.08s\tremaining: 2m 14s\n",
      "5:\tlearn: 0.2279162\ttotal: 8.59s\tremaining: 2m 14s\n",
      "6:\tlearn: 0.2264138\ttotal: 10.1s\tremaining: 2m 13s\n",
      "7:\tlearn: 0.2253756\ttotal: 11.5s\tremaining: 2m 11s\n",
      "8:\tlearn: 0.2248441\ttotal: 13s\tremaining: 2m 11s\n",
      "9:\tlearn: 0.2239860\ttotal: 14.4s\tremaining: 2m 9s\n",
      "10:\tlearn: 0.2232851\ttotal: 15.7s\tremaining: 2m 7s\n",
      "11:\tlearn: 0.2227187\ttotal: 17.1s\tremaining: 2m 5s\n",
      "12:\tlearn: 0.2222705\ttotal: 18.6s\tremaining: 2m 4s\n",
      "13:\tlearn: 0.2218814\ttotal: 19.9s\tremaining: 2m 2s\n",
      "14:\tlearn: 0.2214789\ttotal: 21.3s\tremaining: 2m\n",
      "15:\tlearn: 0.2213236\ttotal: 22.8s\tremaining: 1m 59s\n",
      "16:\tlearn: 0.2211301\ttotal: 24.1s\tremaining: 1m 57s\n",
      "17:\tlearn: 0.2208385\ttotal: 25.5s\tremaining: 1m 56s\n",
      "18:\tlearn: 0.2207620\ttotal: 26.8s\tremaining: 1m 54s\n",
      "19:\tlearn: 0.2205529\ttotal: 28.2s\tremaining: 1m 52s\n",
      "20:\tlearn: 0.2203859\ttotal: 29.6s\tremaining: 1m 51s\n",
      "21:\tlearn: 0.2203449\ttotal: 30.9s\tremaining: 1m 49s\n",
      "22:\tlearn: 0.2200501\ttotal: 32.3s\tremaining: 1m 48s\n",
      "23:\tlearn: 0.2198870\ttotal: 33.6s\tremaining: 1m 46s\n",
      "24:\tlearn: 0.2198271\ttotal: 35s\tremaining: 1m 45s\n",
      "25:\tlearn: 0.2197554\ttotal: 36.3s\tremaining: 1m 43s\n",
      "26:\tlearn: 0.2196197\ttotal: 37.7s\tremaining: 1m 41s\n",
      "27:\tlearn: 0.2195596\ttotal: 39s\tremaining: 1m 40s\n",
      "28:\tlearn: 0.2194929\ttotal: 40.4s\tremaining: 1m 38s\n",
      "29:\tlearn: 0.2194305\ttotal: 41.6s\tremaining: 1m 37s\n",
      "30:\tlearn: 0.2193718\ttotal: 42.9s\tremaining: 1m 35s\n",
      "31:\tlearn: 0.2193073\ttotal: 44.1s\tremaining: 1m 33s\n",
      "32:\tlearn: 0.2189836\ttotal: 45.4s\tremaining: 1m 32s\n",
      "33:\tlearn: 0.2189282\ttotal: 46.6s\tremaining: 1m 30s\n",
      "34:\tlearn: 0.2188139\ttotal: 47.9s\tremaining: 1m 28s\n",
      "35:\tlearn: 0.2186078\ttotal: 49.2s\tremaining: 1m 27s\n",
      "36:\tlearn: 0.2184634\ttotal: 50.4s\tremaining: 1m 25s\n",
      "37:\tlearn: 0.2182098\ttotal: 51.6s\tremaining: 1m 24s\n",
      "38:\tlearn: 0.2181488\ttotal: 52.9s\tremaining: 1m 22s\n",
      "39:\tlearn: 0.2180965\ttotal: 54s\tremaining: 1m 21s\n",
      "40:\tlearn: 0.2180426\ttotal: 55.2s\tremaining: 1m 19s\n",
      "41:\tlearn: 0.2179478\ttotal: 56.4s\tremaining: 1m 17s\n",
      "42:\tlearn: 0.2178589\ttotal: 57.7s\tremaining: 1m 16s\n",
      "43:\tlearn: 0.2178017\ttotal: 58.9s\tremaining: 1m 14s\n",
      "44:\tlearn: 0.2176273\ttotal: 1m\tremaining: 1m 13s\n",
      "45:\tlearn: 0.2172929\ttotal: 1m 1s\tremaining: 1m 12s\n",
      "46:\tlearn: 0.2172394\ttotal: 1m 2s\tremaining: 1m 10s\n",
      "47:\tlearn: 0.2171890\ttotal: 1m 3s\tremaining: 1m 9s\n",
      "48:\tlearn: 0.2171341\ttotal: 1m 5s\tremaining: 1m 7s\n",
      "49:\tlearn: 0.2170816\ttotal: 1m 6s\tremaining: 1m 6s\n",
      "50:\tlearn: 0.2170346\ttotal: 1m 7s\tremaining: 1m 4s\n",
      "51:\tlearn: 0.2169899\ttotal: 1m 8s\tremaining: 1m 3s\n",
      "52:\tlearn: 0.2169396\ttotal: 1m 10s\tremaining: 1m 2s\n",
      "53:\tlearn: 0.2167777\ttotal: 1m 11s\tremaining: 1m\n",
      "54:\tlearn: 0.2167304\ttotal: 1m 12s\tremaining: 59.3s\n",
      "55:\tlearn: 0.2166812\ttotal: 1m 13s\tremaining: 58s\n",
      "56:\tlearn: 0.2166322\ttotal: 1m 14s\tremaining: 56.6s\n",
      "57:\tlearn: 0.2165700\ttotal: 1m 16s\tremaining: 55.1s\n",
      "58:\tlearn: 0.2165196\ttotal: 1m 17s\tremaining: 53.8s\n",
      "59:\tlearn: 0.2164767\ttotal: 1m 18s\tremaining: 52.4s\n",
      "60:\tlearn: 0.2164306\ttotal: 1m 19s\tremaining: 51.1s\n",
      "61:\tlearn: 0.2163944\ttotal: 1m 21s\tremaining: 49.7s\n",
      "62:\tlearn: 0.2163533\ttotal: 1m 22s\tremaining: 48.3s\n",
      "63:\tlearn: 0.2163114\ttotal: 1m 23s\tremaining: 47s\n",
      "64:\tlearn: 0.2162656\ttotal: 1m 24s\tremaining: 45.6s\n",
      "65:\tlearn: 0.2162229\ttotal: 1m 25s\tremaining: 44.3s\n",
      "66:\tlearn: 0.2161765\ttotal: 1m 27s\tremaining: 42.9s\n",
      "67:\tlearn: 0.2161350\ttotal: 1m 28s\tremaining: 41.6s\n",
      "68:\tlearn: 0.2160895\ttotal: 1m 29s\tremaining: 40.3s\n",
      "69:\tlearn: 0.2158382\ttotal: 1m 30s\tremaining: 39s\n",
      "70:\tlearn: 0.2157983\ttotal: 1m 32s\tremaining: 37.6s\n",
      "71:\tlearn: 0.2157548\ttotal: 1m 33s\tremaining: 36.3s\n",
      "72:\tlearn: 0.2155953\ttotal: 1m 34s\tremaining: 35s\n",
      "73:\tlearn: 0.2155520\ttotal: 1m 35s\tremaining: 33.7s\n",
      "74:\tlearn: 0.2155063\ttotal: 1m 37s\tremaining: 32.3s\n",
      "75:\tlearn: 0.2154654\ttotal: 1m 38s\tremaining: 31s\n",
      "76:\tlearn: 0.2154208\ttotal: 1m 39s\tremaining: 29.7s\n",
      "77:\tlearn: 0.2153788\ttotal: 1m 40s\tremaining: 28.4s\n",
      "78:\tlearn: 0.2153239\ttotal: 1m 41s\tremaining: 27.1s\n",
      "79:\tlearn: 0.2150764\ttotal: 1m 43s\tremaining: 25.8s\n",
      "80:\tlearn: 0.2150373\ttotal: 1m 44s\tremaining: 24.5s\n",
      "81:\tlearn: 0.2149977\ttotal: 1m 45s\tremaining: 23.2s\n",
      "82:\tlearn: 0.2149250\ttotal: 1m 47s\tremaining: 22s\n",
      "83:\tlearn: 0.2148849\ttotal: 1m 48s\tremaining: 20.7s\n",
      "84:\tlearn: 0.2148506\ttotal: 1m 49s\tremaining: 19.4s\n",
      "85:\tlearn: 0.2148098\ttotal: 1m 50s\tremaining: 18s\n",
      "86:\tlearn: 0.2147686\ttotal: 1m 51s\tremaining: 16.7s\n",
      "87:\tlearn: 0.2147294\ttotal: 1m 53s\tremaining: 15.4s\n",
      "88:\tlearn: 0.2146696\ttotal: 1m 54s\tremaining: 14.2s\n",
      "89:\tlearn: 0.2146339\ttotal: 1m 55s\tremaining: 12.9s\n",
      "90:\tlearn: 0.2145950\ttotal: 1m 56s\tremaining: 11.6s\n",
      "91:\tlearn: 0.2145577\ttotal: 1m 58s\tremaining: 10.3s\n",
      "92:\tlearn: 0.2144792\ttotal: 1m 59s\tremaining: 8.98s\n",
      "93:\tlearn: 0.2144447\ttotal: 2m\tremaining: 7.69s\n",
      "94:\tlearn: 0.2143856\ttotal: 2m 1s\tremaining: 6.41s\n",
      "95:\tlearn: 0.2143523\ttotal: 2m 3s\tremaining: 5.13s\n",
      "96:\tlearn: 0.2143176\ttotal: 2m 4s\tremaining: 3.84s\n",
      "97:\tlearn: 0.2139775\ttotal: 2m 5s\tremaining: 2.56s\n",
      "98:\tlearn: 0.2139143\ttotal: 2m 6s\tremaining: 1.28s\n",
      "99:\tlearn: 0.2138802\ttotal: 2m 8s\tremaining: 0us\n"
     ]
    },
    {
     "data": {
      "text/html": [
       "<style>#sk-container-id-8 {color: black;background-color: white;}#sk-container-id-8 pre{padding: 0;}#sk-container-id-8 div.sk-toggleable {background-color: white;}#sk-container-id-8 label.sk-toggleable__label {cursor: pointer;display: block;width: 100%;margin-bottom: 0;padding: 0.3em;box-sizing: border-box;text-align: center;}#sk-container-id-8 label.sk-toggleable__label-arrow:before {content: \"▸\";float: left;margin-right: 0.25em;color: #696969;}#sk-container-id-8 label.sk-toggleable__label-arrow:hover:before {color: black;}#sk-container-id-8 div.sk-estimator:hover label.sk-toggleable__label-arrow:before {color: black;}#sk-container-id-8 div.sk-toggleable__content {max-height: 0;max-width: 0;overflow: hidden;text-align: left;background-color: #f0f8ff;}#sk-container-id-8 div.sk-toggleable__content pre {margin: 0.2em;color: black;border-radius: 0.25em;background-color: #f0f8ff;}#sk-container-id-8 input.sk-toggleable__control:checked~div.sk-toggleable__content {max-height: 200px;max-width: 100%;overflow: auto;}#sk-container-id-8 input.sk-toggleable__control:checked~label.sk-toggleable__label-arrow:before {content: \"▾\";}#sk-container-id-8 div.sk-estimator input.sk-toggleable__control:checked~label.sk-toggleable__label {background-color: #d4ebff;}#sk-container-id-8 div.sk-label input.sk-toggleable__control:checked~label.sk-toggleable__label {background-color: #d4ebff;}#sk-container-id-8 input.sk-hidden--visually {border: 0;clip: rect(1px 1px 1px 1px);clip: rect(1px, 1px, 1px, 1px);height: 1px;margin: -1px;overflow: hidden;padding: 0;position: absolute;width: 1px;}#sk-container-id-8 div.sk-estimator {font-family: monospace;background-color: #f0f8ff;border: 1px dotted black;border-radius: 0.25em;box-sizing: border-box;margin-bottom: 0.5em;}#sk-container-id-8 div.sk-estimator:hover {background-color: #d4ebff;}#sk-container-id-8 div.sk-parallel-item::after {content: \"\";width: 100%;border-bottom: 1px solid gray;flex-grow: 1;}#sk-container-id-8 div.sk-label:hover label.sk-toggleable__label {background-color: #d4ebff;}#sk-container-id-8 div.sk-serial::before {content: \"\";position: absolute;border-left: 1px solid gray;box-sizing: border-box;top: 0;bottom: 0;left: 50%;z-index: 0;}#sk-container-id-8 div.sk-serial {display: flex;flex-direction: column;align-items: center;background-color: white;padding-right: 0.2em;padding-left: 0.2em;position: relative;}#sk-container-id-8 div.sk-item {position: relative;z-index: 1;}#sk-container-id-8 div.sk-parallel {display: flex;align-items: stretch;justify-content: center;background-color: white;position: relative;}#sk-container-id-8 div.sk-item::before, #sk-container-id-8 div.sk-parallel-item::before {content: \"\";position: absolute;border-left: 1px solid gray;box-sizing: border-box;top: 0;bottom: 0;left: 50%;z-index: -1;}#sk-container-id-8 div.sk-parallel-item {display: flex;flex-direction: column;z-index: 1;position: relative;background-color: white;}#sk-container-id-8 div.sk-parallel-item:first-child::after {align-self: flex-end;width: 50%;}#sk-container-id-8 div.sk-parallel-item:last-child::after {align-self: flex-start;width: 50%;}#sk-container-id-8 div.sk-parallel-item:only-child::after {width: 0;}#sk-container-id-8 div.sk-dashed-wrapped {border: 1px dashed gray;margin: 0 0.4em 0.5em 0.4em;box-sizing: border-box;padding-bottom: 0.4em;background-color: white;}#sk-container-id-8 div.sk-label label {font-family: monospace;font-weight: bold;display: inline-block;line-height: 1.2em;}#sk-container-id-8 div.sk-label-container {text-align: center;}#sk-container-id-8 div.sk-container {/* jupyter's `normalize.less` sets `[hidden] { display: none; }` but bootstrap.min.css set `[hidden] { display: none !important; }` so we also need the `!important` here to be able to override the default hidden behavior on the sphinx rendered scikit-learn.org. See: https://github.com/scikit-learn/scikit-learn/issues/21755 */display: inline-block !important;position: relative;}#sk-container-id-8 div.sk-text-repr-fallback {display: none;}</style><div id=\"sk-container-id-8\" class=\"sk-top-container\"><div class=\"sk-text-repr-fallback\"><pre>VotingClassifier(estimators=[(&#x27;gb&#x27;,\n",
       "                              GradientBoostingClassifier(n_estimators=500)),\n",
       "                             (&#x27;xgb&#x27;,\n",
       "                              XGBClassifier(base_score=0.5, booster=&#x27;gbtree&#x27;,\n",
       "                                            callbacks=None, colsample_bylevel=1,\n",
       "                                            colsample_bynode=1,\n",
       "                                            colsample_bytree=1,\n",
       "                                            early_stopping_rounds=None,\n",
       "                                            enable_categorical=False,\n",
       "                                            eval_metric=None, gamma=0,\n",
       "                                            gpu_id=-1, grow_policy=&#x27;depthwise&#x27;,\n",
       "                                            importance_type=None,\n",
       "                                            interaction...\n",
       "                                            learning_rate=0.300000012,\n",
       "                                            max_bin=256, max_cat_to_onehot=4,\n",
       "                                            max_delta_step=0, max_depth=6,\n",
       "                                            max_leaves=0, min_child_weight=1,\n",
       "                                            missing=nan,\n",
       "                                            monotone_constraints=&#x27;()&#x27;,\n",
       "                                            n_estimators=50, n_jobs=0,\n",
       "                                            num_parallel_tree=1,\n",
       "                                            predictor=&#x27;auto&#x27;, random_state=0,\n",
       "                                            reg_alpha=0, reg_lambda=1, ...)),\n",
       "                             (&#x27;lgb&#x27;, LGBMClassifier()),\n",
       "                             (&#x27;cat&#x27;,\n",
       "                              &lt;catboost.core.CatBoostClassifier object at 0x0000016521B631F0&gt;)],\n",
       "                 voting=&#x27;soft&#x27;)</pre><b>In a Jupyter environment, please rerun this cell to show the HTML representation or trust the notebook. <br />On GitHub, the HTML representation is unable to render, please try loading this page with nbviewer.org.</b></div><div class=\"sk-container\" hidden><div class=\"sk-item sk-dashed-wrapped\"><div class=\"sk-label-container\"><div class=\"sk-label sk-toggleable\"><input class=\"sk-toggleable__control sk-hidden--visually\" id=\"sk-estimator-id-18\" type=\"checkbox\" ><label for=\"sk-estimator-id-18\" class=\"sk-toggleable__label sk-toggleable__label-arrow\">VotingClassifier</label><div class=\"sk-toggleable__content\"><pre>VotingClassifier(estimators=[(&#x27;gb&#x27;,\n",
       "                              GradientBoostingClassifier(n_estimators=500)),\n",
       "                             (&#x27;xgb&#x27;,\n",
       "                              XGBClassifier(base_score=0.5, booster=&#x27;gbtree&#x27;,\n",
       "                                            callbacks=None, colsample_bylevel=1,\n",
       "                                            colsample_bynode=1,\n",
       "                                            colsample_bytree=1,\n",
       "                                            early_stopping_rounds=None,\n",
       "                                            enable_categorical=False,\n",
       "                                            eval_metric=None, gamma=0,\n",
       "                                            gpu_id=-1, grow_policy=&#x27;depthwise&#x27;,\n",
       "                                            importance_type=None,\n",
       "                                            interaction...\n",
       "                                            learning_rate=0.300000012,\n",
       "                                            max_bin=256, max_cat_to_onehot=4,\n",
       "                                            max_delta_step=0, max_depth=6,\n",
       "                                            max_leaves=0, min_child_weight=1,\n",
       "                                            missing=nan,\n",
       "                                            monotone_constraints=&#x27;()&#x27;,\n",
       "                                            n_estimators=50, n_jobs=0,\n",
       "                                            num_parallel_tree=1,\n",
       "                                            predictor=&#x27;auto&#x27;, random_state=0,\n",
       "                                            reg_alpha=0, reg_lambda=1, ...)),\n",
       "                             (&#x27;lgb&#x27;, LGBMClassifier()),\n",
       "                             (&#x27;cat&#x27;,\n",
       "                              &lt;catboost.core.CatBoostClassifier object at 0x0000016521B631F0&gt;)],\n",
       "                 voting=&#x27;soft&#x27;)</pre></div></div></div><div class=\"sk-parallel\"><div class=\"sk-parallel-item\"><div class=\"sk-item\"><div class=\"sk-label-container\"><div class=\"sk-label sk-toggleable\"><label>gb</label></div></div><div class=\"sk-serial\"><div class=\"sk-item\"><div class=\"sk-estimator sk-toggleable\"><input class=\"sk-toggleable__control sk-hidden--visually\" id=\"sk-estimator-id-19\" type=\"checkbox\" ><label for=\"sk-estimator-id-19\" class=\"sk-toggleable__label sk-toggleable__label-arrow\">GradientBoostingClassifier</label><div class=\"sk-toggleable__content\"><pre>GradientBoostingClassifier(n_estimators=500)</pre></div></div></div></div></div></div><div class=\"sk-parallel-item\"><div class=\"sk-item\"><div class=\"sk-label-container\"><div class=\"sk-label sk-toggleable\"><label>xgb</label></div></div><div class=\"sk-serial\"><div class=\"sk-item\"><div class=\"sk-estimator sk-toggleable\"><input class=\"sk-toggleable__control sk-hidden--visually\" id=\"sk-estimator-id-20\" type=\"checkbox\" ><label for=\"sk-estimator-id-20\" class=\"sk-toggleable__label sk-toggleable__label-arrow\">XGBClassifier</label><div class=\"sk-toggleable__content\"><pre>XGBClassifier(base_score=0.5, booster=&#x27;gbtree&#x27;, callbacks=None,\n",
       "              colsample_bylevel=1, colsample_bynode=1, colsample_bytree=1,\n",
       "              early_stopping_rounds=None, enable_categorical=False,\n",
       "              eval_metric=None, gamma=0, gpu_id=-1, grow_policy=&#x27;depthwise&#x27;,\n",
       "              importance_type=None, interaction_constraints=&#x27;&#x27;,\n",
       "              learning_rate=0.300000012, max_bin=256, max_cat_to_onehot=4,\n",
       "              max_delta_step=0, max_depth=6, max_leaves=0, min_child_weight=1,\n",
       "              missing=nan, monotone_constraints=&#x27;()&#x27;, n_estimators=50, n_jobs=0,\n",
       "              num_parallel_tree=1, predictor=&#x27;auto&#x27;, random_state=0,\n",
       "              reg_alpha=0, reg_lambda=1, ...)</pre></div></div></div></div></div></div><div class=\"sk-parallel-item\"><div class=\"sk-item\"><div class=\"sk-label-container\"><div class=\"sk-label sk-toggleable\"><label>lgb</label></div></div><div class=\"sk-serial\"><div class=\"sk-item\"><div class=\"sk-estimator sk-toggleable\"><input class=\"sk-toggleable__control sk-hidden--visually\" id=\"sk-estimator-id-21\" type=\"checkbox\" ><label for=\"sk-estimator-id-21\" class=\"sk-toggleable__label sk-toggleable__label-arrow\">LGBMClassifier</label><div class=\"sk-toggleable__content\"><pre>LGBMClassifier()</pre></div></div></div></div></div></div><div class=\"sk-parallel-item\"><div class=\"sk-item\"><div class=\"sk-label-container\"><div class=\"sk-label sk-toggleable\"><label>cat</label></div></div><div class=\"sk-serial\"><div class=\"sk-item\"><div class=\"sk-estimator sk-toggleable\"><input class=\"sk-toggleable__control sk-hidden--visually\" id=\"sk-estimator-id-22\" type=\"checkbox\" ><label for=\"sk-estimator-id-22\" class=\"sk-toggleable__label sk-toggleable__label-arrow\">CatBoostClassifier</label><div class=\"sk-toggleable__content\"><pre>&lt;catboost.core.CatBoostClassifier object at 0x0000016521B631F0&gt;</pre></div></div></div></div></div></div></div></div></div></div>"
      ],
      "text/plain": [
       "VotingClassifier(estimators=[('gb',\n",
       "                              GradientBoostingClassifier(n_estimators=500)),\n",
       "                             ('xgb',\n",
       "                              XGBClassifier(base_score=0.5, booster='gbtree',\n",
       "                                            callbacks=None, colsample_bylevel=1,\n",
       "                                            colsample_bynode=1,\n",
       "                                            colsample_bytree=1,\n",
       "                                            early_stopping_rounds=None,\n",
       "                                            enable_categorical=False,\n",
       "                                            eval_metric=None, gamma=0,\n",
       "                                            gpu_id=-1, grow_policy='depthwise',\n",
       "                                            importance_type=None,\n",
       "                                            interaction...\n",
       "                                            learning_rate=0.300000012,\n",
       "                                            max_bin=256, max_cat_to_onehot=4,\n",
       "                                            max_delta_step=0, max_depth=6,\n",
       "                                            max_leaves=0, min_child_weight=1,\n",
       "                                            missing=nan,\n",
       "                                            monotone_constraints='()',\n",
       "                                            n_estimators=50, n_jobs=0,\n",
       "                                            num_parallel_tree=1,\n",
       "                                            predictor='auto', random_state=0,\n",
       "                                            reg_alpha=0, reg_lambda=1, ...)),\n",
       "                             ('lgb', LGBMClassifier()),\n",
       "                             ('cat',\n",
       "                              <catboost.core.CatBoostClassifier object at 0x0000016521B631F0>)],\n",
       "                 voting='soft')"
      ]
     },
     "execution_count": 49,
     "metadata": {},
     "output_type": "execute_result"
    }
   ],
   "source": [
    "# Voting classifier\n",
    "voting = VotingClassifier(estimators=[('gb', grid_gb.best_estimator_), \n",
    "                                        ('xgb', grid_xgb.best_estimator_), \n",
    "                                        ('lgb', grid_lgb.best_estimator_), \n",
    "                                        ('cat', grid_cat.best_estimator_)], \n",
    "                                    voting='soft')\n",
    "\n",
    "voting.fit(X_train, Y_train)"
   ]
  },
  {
   "cell_type": "markdown",
   "metadata": {},
   "source": [
    "### Score"
   ]
  },
  {
   "cell_type": "code",
   "execution_count": 50,
   "metadata": {},
   "outputs": [
    {
     "name": "stdout",
     "output_type": "stream",
     "text": [
      "Average precision score on train set:  0.36046092852673983\n",
      "Average precision score on test set:  0.2803185723485173\n"
     ]
    }
   ],
   "source": [
    "# Average precision score\n",
    "print('Average precision score on train set: ', average_precision_score(Y_train, voting.predict_proba(X_train)[:,1]))\n",
    "print('Average precision score on test set: ', average_precision_score(Y_test, voting.predict_proba(X_test)[:,1]))"
   ]
  },
  {
   "cell_type": "markdown",
   "metadata": {},
   "source": [
    "### Save model"
   ]
  },
  {
   "cell_type": "code",
   "execution_count": 51,
   "metadata": {},
   "outputs": [
    {
     "data": {
      "text/plain": [
       "['./src/voting_model.pkl']"
      ]
     },
     "execution_count": 51,
     "metadata": {},
     "output_type": "execute_result"
    }
   ],
   "source": [
    "# save the model to disk\n",
    "filename = './src/voting_model.pkl'\n",
    "joblib.dump(voting, filename)"
   ]
  },
  {
   "cell_type": "markdown",
   "metadata": {},
   "source": [
    "### Submission"
   ]
  },
  {
   "cell_type": "code",
   "execution_count": 52,
   "metadata": {},
   "outputs": [
    {
     "name": "stderr",
     "output_type": "stream",
     "text": [
      "c:\\Users\\shexx\\anaconda3\\lib\\site-packages\\sklearn\\preprocessing\\_encoders.py:188: UserWarning: Found unknown categories in columns [0, 1, 2, 8, 9, 14, 15, 17, 20] during transform. These unknown categories will be encoded as all zeros\n",
      "  warnings.warn(\n"
     ]
    }
   ],
   "source": [
    "# Load submission data\n",
    "test_sub = pd.read_csv('./src/test.csv')\n",
    "test_sub.head()\n",
    "\n",
    "# Preprocess test data\n",
    "test_sub = preprocess.transform(test_sub)\n",
    "test_sub\n",
    "\n",
    "# Prediction on test data\n",
    "test_sub_pred = voting.predict_proba(test_sub)[:, 1]\n",
    "test_sub_pred\n",
    "\n",
    "# Save prediction\n",
    "submission = pd.DataFrame({'LABEL': test_sub_pred})\n",
    "submission.reset_index(inplace=True)\n",
    "submission.to_csv('./src/submission_voting.csv', index=False)"
   ]
  }
 ],
 "metadata": {
  "kernelspec": {
   "display_name": "Python 3.9.12 ('base')",
   "language": "python",
   "name": "python3"
  },
  "language_info": {
   "codemirror_mode": {
    "name": "ipython",
    "version": 3
   },
   "file_extension": ".py",
   "mimetype": "text/x-python",
   "name": "python",
   "nbconvert_exporter": "python",
   "pygments_lexer": "ipython3",
   "version": "3.9.12"
  },
  "orig_nbformat": 4,
  "vscode": {
   "interpreter": {
    "hash": "02c733b4e4e71d342ff1aec4b9e2017ca239a140aa3ddc86f295671e35fe778a"
   }
  }
 },
 "nbformat": 4,
 "nbformat_minor": 2
}
